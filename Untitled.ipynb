{
 "cells": [
  {
   "cell_type": "code",
   "execution_count": 1,
   "metadata": {
    "collapsed": true
   },
   "outputs": [],
   "source": [
    "import numpy as np\n",
    "a = np.random.randn(9, 6) + 1j*np.random.randn(9, 6)"
   ]
  },
  {
   "cell_type": "code",
   "execution_count": 9,
   "metadata": {
    "collapsed": false
   },
   "outputs": [
    {
     "data": {
      "text/plain": [
       "array([[-2.11329753+1.37925704j,  0.18347350+1.10913051j,\n",
       "        -1.45394474+0.29026179j,  0.18568187+0.5909408j ,\n",
       "         1.47109678-0.74547275j,  1.16315107-0.75570152j],\n",
       "       [ 1.08610946-1.8018801j , -0.82630544+0.0629362j ,\n",
       "        -0.57723357-1.52555049j, -0.91618539-0.52473714j,\n",
       "        -1.46080075+1.48388586j,  0.12260161+0.72680166j]])"
      ]
     },
     "execution_count": 9,
     "metadata": {},
     "output_type": "execute_result"
    }
   ],
   "source": [
    "a[:2]"
   ]
  },
  {
   "cell_type": "code",
   "execution_count": 3,
   "metadata": {
    "collapsed": true
   },
   "outputs": [],
   "source": [
    "U, s, V = np.linalg.svd(a, full_matrices=True)"
   ]
  },
  {
   "cell_type": "code",
   "execution_count": 5,
   "metadata": {
    "collapsed": false
   },
   "outputs": [
    {
     "data": {
      "text/plain": [
       "array([ 7.0625302 ,  5.78237281,  3.7522789 ,  3.34300112,  2.39026627,\n",
       "        1.71359255])"
      ]
     },
     "execution_count": 5,
     "metadata": {},
     "output_type": "execute_result"
    }
   ],
   "source": [
    "s"
   ]
  },
  {
   "cell_type": "code",
   "execution_count": 11,
   "metadata": {
    "collapsed": false
   },
   "outputs": [
    {
     "data": {
      "text/plain": [
       "array([[-0.35277468+0.j        , -0.01677757-0.28178785j,\n",
       "        -0.02205190-0.23080301j,  0.31529865-0.25246292j,\n",
       "         0.75267828-0.0218176j ,  0.10295255-0.03684067j],\n",
       "       [ 0.49080769+0.j        , -0.16924724+0.16761339j,\n",
       "        -0.25506513-0.1355118j ,  0.43061588+0.38802818j,\n",
       "         0.23611354-0.20647803j, -0.26039603+0.34170527j],\n",
       "       [-0.16522548+0.j        , -0.44312397-0.19987895j,\n",
       "        -0.34201877-0.01155131j,  0.41396176-0.19142729j,\n",
       "        -0.37272623+0.27378928j, -0.34081032-0.28501576j],\n",
       "       [-0.30962788+0.j        , -0.03210812+0.61500694j,\n",
       "         0.46852217-0.35506194j,  0.26161721+0.00081849j,\n",
       "        -0.10771703-0.18012967j, -0.19077774-0.17433893j],\n",
       "       [-0.54802886+0.j        ,  0.04561685-0.29075519j,\n",
       "         0.11838612+0.19067372j,  0.00128354+0.23437008j,\n",
       "        -0.15546267-0.20856833j, -0.34819762+0.56465139j]])"
      ]
     },
     "execution_count": 11,
     "metadata": {},
     "output_type": "execute_result"
    }
   ],
   "source": [
    "V[1::]"
   ]
  },
  {
   "cell_type": "code",
   "execution_count": 12,
   "metadata": {
    "collapsed": false
   },
   "outputs": [
    {
     "data": {
      "text/plain": [
       "array([[ 0.45951422+0.j        ,  0.04132963-0.39959068j,\n",
       "         0.58941569-0.04844719j,  0.10877623-0.39703539j,\n",
       "        -0.06636268-0.06788333j, -0.30919516+0.06020524j],\n",
       "       [-0.35277468+0.j        , -0.01677757-0.28178785j,\n",
       "        -0.02205190-0.23080301j,  0.31529865-0.25246292j,\n",
       "         0.75267828-0.0218176j ,  0.10295255-0.03684067j],\n",
       "       [ 0.49080769+0.j        , -0.16924724+0.16761339j,\n",
       "        -0.25506513-0.1355118j ,  0.43061588+0.38802818j,\n",
       "         0.23611354-0.20647803j, -0.26039603+0.34170527j],\n",
       "       [-0.16522548+0.j        , -0.44312397-0.19987895j,\n",
       "        -0.34201877-0.01155131j,  0.41396176-0.19142729j,\n",
       "        -0.37272623+0.27378928j, -0.34081032-0.28501576j],\n",
       "       [-0.30962788+0.j        , -0.03210812+0.61500694j,\n",
       "         0.46852217-0.35506194j,  0.26161721+0.00081849j,\n",
       "        -0.10771703-0.18012967j, -0.19077774-0.17433893j],\n",
       "       [-0.54802886+0.j        ,  0.04561685-0.29075519j,\n",
       "         0.11838612+0.19067372j,  0.00128354+0.23437008j,\n",
       "        -0.15546267-0.20856833j, -0.34819762+0.56465139j]])"
      ]
     },
     "execution_count": 12,
     "metadata": {},
     "output_type": "execute_result"
    }
   ],
   "source": [
    "V"
   ]
  },
  {
   "cell_type": "code",
   "execution_count": null,
   "metadata": {
    "collapsed": true
   },
   "outputs": [],
   "source": []
  }
 ],
 "metadata": {
  "anaconda-cloud": {},
  "kernelspec": {
   "display_name": "Python [conda root]",
   "language": "python",
   "name": "conda-root-py"
  },
  "language_info": {
   "codemirror_mode": {
    "name": "ipython",
    "version": 2
   },
   "file_extension": ".py",
   "mimetype": "text/x-python",
   "name": "python",
   "nbconvert_exporter": "python",
   "pygments_lexer": "ipython2",
   "version": "2.7.12"
  }
 },
 "nbformat": 4,
 "nbformat_minor": 1
}
