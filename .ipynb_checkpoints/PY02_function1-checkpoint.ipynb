{
 "cells": [
  {
   "cell_type": "markdown",
   "metadata": {
    "collapsed": true
   },
   "source": [
    "# Functions in Python"
   ]
  },
  {
   "cell_type": "markdown",
   "metadata": {},
   "source": [
    "### 함수\n",
    "- 입력값을 가지고 어떤 일을 수행한 다음에 그 결과물을 내어놓는 것\n",
    "- 코드내에 함수를 정의하는 이유\n",
    " - 코드내에 반복되는 부분이 있을 경우 \"반복적으로 사용되는 가치 있는 부분\"을 한 뭉치로 묶어서 \"어떤 입력값을 주었을 때 어떤 결과값을 돌려준다\"라는 식의 함수로 작성하여 복잡성을 줄인다.\n",
    " - 프로그램의 흐름을 일목요연하게 볼 수 있다."
   ]
  },
  {
   "cell_type": "markdown",
   "metadata": {},
   "source": [
    "### Defining Functions\n",
    "```python\n",
    "def name_of_function(input_of_function):\n",
    "    \"\"\"Documentation String\"\"\"\n",
    "    line1\n",
    "    line2\n",
    "    return total_counter\n",
    "```\n",
    "- 함수의 정의는 예약어 **`def`**으로 시작한다.\n",
    "- `name_of_function`자리는 함수의 이름이다.\n",
    "- `input_of_function`자리는 함수의 입력 인수(arguments)이다.\n",
    "- 예약어 **`return`**은 값을 함수의 호출자(caller)에게 반환하라는 명령어이다.\n",
    "- 함수의 정의 block 이후로, indentation(들여쓰기)가 한단계 줄어든 첫번째 라인부터 함수의 정의는 끝나고 새로운 코드가 시작된다.\n",
    "- 함수의 입력 인수(arguments)나 함수의 반환값(return value)의 type을 선언하지 않는다."
   ]
  },
  {
   "cell_type": "markdown",
   "metadata": {},
   "source": [
    "### 입력값과 결과값에 따른 함수의 형태\n",
    "- 입력값과 결과값을 가지고 있는 함수"
   ]
  },
  {
   "cell_type": "code",
   "execution_count": 1,
   "metadata": {
    "collapsed": false
   },
   "outputs": [
    {
     "data": {
      "text/plain": [
       "6"
      ]
     },
     "execution_count": 1,
     "metadata": {},
     "output_type": "execute_result"
    }
   ],
   "source": [
    "def my_fun(x, y):\n",
    "    return x * y\n",
    "my_fun(2, 3)"
   ]
  },
  {
   "cell_type": "markdown",
   "metadata": {},
   "source": [
    "- 입력값이 없는 함수"
   ]
  },
  {
   "cell_type": "code",
   "execution_count": 2,
   "metadata": {
    "collapsed": false
   },
   "outputs": [
    {
     "data": {
      "text/plain": [
       "'Hi'"
      ]
     },
     "execution_count": 2,
     "metadata": {},
     "output_type": "execute_result"
    }
   ],
   "source": [
    "def my_fun_1():\n",
    "    return \"Hi\"\n",
    "\n",
    "# 입력값이 없는 경우 빈 괄호만 적는다. return value를 다음과 같이 assign 할 수 있다.\n",
    "a = my_fun_1()\n",
    "a"
   ]
  },
  {
   "cell_type": "markdown",
   "metadata": {},
   "source": [
    "- 결과값이 없는 함수"
   ]
  },
  {
   "cell_type": "code",
   "execution_count": 3,
   "metadata": {
    "collapsed": false
   },
   "outputs": [
    {
     "name": "stdout",
     "output_type": "stream",
     "text": [
      "3, 4의 합은 7 입니다.\n"
     ]
    }
   ],
   "source": [
    "def my_fun_2(a, b):\n",
    "    print \"%d, %d의 합은 %d 입니다.\" %(a, b, a+b)\n",
    "my_fun_2(3, 4)"
   ]
  },
  {
   "cell_type": "markdown",
   "metadata": {},
   "source": [
    "- 입력값도 결과값도 없는 함수"
   ]
  },
  {
   "cell_type": "code",
   "execution_count": 4,
   "metadata": {
    "collapsed": false
   },
   "outputs": [
    {
     "name": "stdout",
     "output_type": "stream",
     "text": [
      "Hi\n"
     ]
    }
   ],
   "source": [
    "def my_fun_3():\n",
    "    print \"Hi\"\n",
    "my_fun_3()"
   ]
  },
  {
   "cell_type": "markdown",
   "metadata": {},
   "source": [
    "### Functions without returns\n",
    "- Python에서의 모든 함수는 return value를 가지고 있다.\n",
    " - 함수에 명시적인 return문이 없다고 하더라도, return value는 존재한다.\n",
    " - 명시적인 return문이 없는 경우에는 특수한 값인 **`None`**을 반환한다.\n",
    " - **`None`**\n",
    "  - 특수한 상수이다.\n",
    "  - 자바에서의 `null`처럼 사용된다.\n",
    "  - 로직적으로는 `False`와 동일하다.\n",
    "  - interpreter는 **`None`**을 출력하지는 않는다.\n",
    "  "
   ]
  },
  {
   "cell_type": "code",
   "execution_count": 5,
   "metadata": {
    "collapsed": false
   },
   "outputs": [
    {
     "name": "stdout",
     "output_type": "stream",
     "text": [
      "Wow\n"
     ]
    }
   ],
   "source": [
    "def none_return_fun():\n",
    "    print \"Wow\"\n",
    "none_return_fun()"
   ]
  },
  {
   "cell_type": "code",
   "execution_count": 6,
   "metadata": {
    "collapsed": false
   },
   "outputs": [
    {
     "name": "stdout",
     "output_type": "stream",
     "text": [
      "Wow\n",
      "None\n"
     ]
    }
   ],
   "source": [
    "# 강제적으로 return 값을 출력해보자.\n",
    "print none_return_fun()"
   ]
  },
  {
   "cell_type": "markdown",
   "metadata": {},
   "source": [
    "### 여러 개의 입력 인수를 받는 함수 만들기\n",
    "- **`*args`** 처럼 함수의 입력 변수 앞에 다음과 같이 `*`를 붙인다.\n",
    " - `args`는 프로그래밍을 할 때 관행적으로 사용된다.\n",
    "- 입력 변수 앞에 `*`를 붙이면 입력값들을 모두 모아서 **tuple**로 만들어준다."
   ]
  },
  {
   "cell_type": "code",
   "execution_count": 7,
   "metadata": {
    "collapsed": false
   },
   "outputs": [
    {
     "data": {
      "text/plain": [
       "15"
      ]
     },
     "execution_count": 7,
     "metadata": {},
     "output_type": "execute_result"
    }
   ],
   "source": [
    "# list 형태로 함수 인수를 입력받는다.\n",
    "def sum_function(*args):\n",
    "    total = 0\n",
    "    for i in args:\n",
    "        total += i\n",
    "    return total\n",
    "\n",
    "sum_function(1,2,3,4,5)    "
   ]
  },
  {
   "cell_type": "code",
   "execution_count": 8,
   "metadata": {
    "collapsed": true
   },
   "outputs": [],
   "source": [
    "# 다음과 같이 사용할 수 있다.\n",
    "def sum_or_multi(oper, *args):\n",
    "    if oper == \"sum\":\n",
    "        result = 0\n",
    "        for i in args:\n",
    "            result += i\n",
    "    elif oper == \"multi\":\n",
    "        result = 1\n",
    "        for i in args:\n",
    "            result *= i\n",
    "    return result"
   ]
  },
  {
   "cell_type": "code",
   "execution_count": 9,
   "metadata": {
    "collapsed": false
   },
   "outputs": [
    {
     "data": {
      "text/plain": [
       "15"
      ]
     },
     "execution_count": 9,
     "metadata": {},
     "output_type": "execute_result"
    }
   ],
   "source": [
    "# 합\n",
    "sum_or_multi(\"sum\",1,2,3,4,5)"
   ]
  },
  {
   "cell_type": "code",
   "execution_count": 10,
   "metadata": {
    "collapsed": false
   },
   "outputs": [
    {
     "data": {
      "text/plain": [
       "120"
      ]
     },
     "execution_count": 10,
     "metadata": {},
     "output_type": "execute_result"
    }
   ],
   "source": [
    "# 곱\n",
    "sum_or_multi(\"multi\",1,2,3,4,5)"
   ]
  },
  {
   "cell_type": "markdown",
   "metadata": {},
   "source": [
    "### 2개 이상의 결과값을 반환하고 싶을 때\n",
    "- Python에서는 2개 이상의 결과값을 tuple 형태로 반환한다."
   ]
  },
  {
   "cell_type": "code",
   "execution_count": 11,
   "metadata": {
    "collapsed": false
   },
   "outputs": [
    {
     "data": {
      "text/plain": [
       "(15, 50, 5)"
      ]
     },
     "execution_count": 11,
     "metadata": {},
     "output_type": "execute_result"
    }
   ],
   "source": [
    "def multiple_result(a, b):\n",
    "    return a+b, a*b, a-b\n",
    "\n",
    "# tuple 형식으로 반환\n",
    "multiple_result(10, 5)"
   ]
  },
  {
   "cell_type": "code",
   "execution_count": 12,
   "metadata": {
    "collapsed": false
   },
   "outputs": [
    {
     "data": {
      "text/plain": [
       "50"
      ]
     },
     "execution_count": 12,
     "metadata": {},
     "output_type": "execute_result"
    }
   ],
   "source": [
    "# 2개 이상의 변수에 대입하도록 반환\n",
    "_sum, _multi, _sub = multiple_result(10, 5)\n",
    "_multi"
   ]
  },
  {
   "cell_type": "markdown",
   "metadata": {},
   "source": [
    "### Function overloading? No.\n",
    "- Python에는 함수 overloading이 없다.\n",
    " - Java와 달리 Python은 함수의 이름으로만 함수를 구분한다.\n",
    "     - 함수의 argument의 갯수, 순서, 이름, type등은 같은 이름을 가진 함수를 구분하는데 영향을 미치지 못한다.\n",
    " - 서로 다른 함수는 같은 이름을 가질 수 없다.\n",
    "- Python에는 operator overloading이 존재한다.\n",
    " - `+, ==, -` 등"
   ]
  },
  {
   "cell_type": "markdown",
   "metadata": {},
   "source": [
    "### Functions are first-class objects in Python\n",
    "- Python에서 함수는 다른 data처럼 사용 될 수 있다.\n",
    " 1. 함수의 인자(arguments)\n",
    " 2. 함수의 return value\n",
    " 3. 변수(variable)에 할당\n",
    " 4. Tuple, list의 원소\n",
    " 5. ..."
   ]
  },
  {
   "cell_type": "code",
   "execution_count": 13,
   "metadata": {
    "collapsed": false
   },
   "outputs": [
    {
     "data": {
      "text/plain": [
       "21"
      ]
     },
     "execution_count": 13,
     "metadata": {},
     "output_type": "execute_result"
    }
   ],
   "source": [
    "# 이 함수를 다른 함수의 인자 및 return value로 사용할 것이다.\n",
    "def my_func_1(x):\n",
    "    return x * 3\n",
    "\n",
    "def my_func_2(q, x):\n",
    "    return q(x)\n",
    "\n",
    "my_func_2(my_func_1, 7)"
   ]
  },
  {
   "cell_type": "markdown",
   "metadata": {},
   "source": [
    "### Lambda Notation\n",
    "- 함수를 정의할 때, 함수의 이름을 주지 않고 함수를 정의할 수 있다.\n",
    "- 함수의 인자로 짧은 함수를 사용할 때 굉장히 유용하다."
   ]
  },
  {
   "cell_type": "code",
   "execution_count": 14,
   "metadata": {
    "collapsed": false
   },
   "outputs": [
    {
     "data": {
      "text/plain": [
       "28"
      ]
     },
     "execution_count": 14,
     "metadata": {},
     "output_type": "execute_result"
    }
   ],
   "source": [
    "\"\"\"\n",
    "함수 my_func_2의 첫번째 인자는 이름이 없는 함수(lambda)이다. \n",
    "이름이 없는 함수의 input은 1개이고, output은 input에 4를 곱한 값이다.\n",
    "\"\"\"\n",
    "my_func_2(lambda z: z * 4, 7)"
   ]
  },
  {
   "cell_type": "markdown",
   "metadata": {},
   "source": [
    "- single expression 함수만이 lambda notation을 사용하여 정의될 수 있다."
   ]
  },
  {
   "cell_type": "markdown",
   "metadata": {},
   "source": [
    "### Default Values for Arguments\n",
    "- 함수의 입력 인수로 default 값을 셋팅할 수 있다.\n",
    "- default 값을 셋팅한 인력 인수는, 함수를 call 할 때, 선택적으로 그 값을 넣을 수 있다. 함수를 call 할 때 그 인력 인수에 대해 값을 넘기지 않으면 셋팅된 default 값이 선택된다."
   ]
  },
  {
   "cell_type": "code",
   "execution_count": 15,
   "metadata": {
    "collapsed": true
   },
   "outputs": [],
   "source": [
    "def my_func_3(b, c=3, d=\"hello\"):\n",
    "    return b + c"
   ]
  },
  {
   "cell_type": "code",
   "execution_count": 16,
   "metadata": {
    "collapsed": false
   },
   "outputs": [
    {
     "data": {
      "text/plain": [
       "8"
      ]
     },
     "execution_count": 16,
     "metadata": {},
     "output_type": "execute_result"
    }
   ],
   "source": [
    "# default 값을 사용하지 않는 경우\n",
    "my_func_3(5, 3, \"hello\")"
   ]
  },
  {
   "cell_type": "code",
   "execution_count": 17,
   "metadata": {
    "collapsed": false
   },
   "outputs": [
    {
     "data": {
      "text/plain": [
       "8"
      ]
     },
     "execution_count": 17,
     "metadata": {},
     "output_type": "execute_result"
    }
   ],
   "source": [
    "# 두번째 인자에 대해서는 3을 사용하고, 세번째 인자에 대해서는 default 값을 사용하는 경우\n",
    "my_func_3(5, 3)"
   ]
  },
  {
   "cell_type": "code",
   "execution_count": 18,
   "metadata": {
    "collapsed": false
   },
   "outputs": [
    {
     "data": {
      "text/plain": [
       "8"
      ]
     },
     "execution_count": 18,
     "metadata": {},
     "output_type": "execute_result"
    }
   ],
   "source": [
    "# default 값만 사용하는 경우\n",
    "my_func_3(5)"
   ]
  },
  {
   "cell_type": "markdown",
   "metadata": {},
   "source": [
    "- defulat value를 셋팅하고자 하는 입력 변수는, 항상 뒤에 위치해야 한다."
   ]
  },
  {
   "cell_type": "code",
   "execution_count": 19,
   "metadata": {
    "collapsed": false
   },
   "outputs": [
    {
     "ename": "SyntaxError",
     "evalue": "non-default argument follows default argument (<ipython-input-19-d9a6c28af1bf>, line 1)",
     "output_type": "error",
     "traceback": [
      "\u001b[0;36m  File \u001b[0;32m\"<ipython-input-19-d9a6c28af1bf>\"\u001b[0;36m, line \u001b[0;32m1\u001b[0m\n\u001b[0;31m    def wrong_usage(name, man=True, age):\u001b[0m\n\u001b[0;31mSyntaxError\u001b[0m\u001b[0;31m:\u001b[0m non-default argument follows default argument\n"
     ]
    }
   ],
   "source": [
    "def wrong_usage(name, man=True, age):\n",
    "    print \"나의 이름은 %s 입니다.\" % man\n",
    "    print \"나이는 %d 입니다.\" % age\n",
    "    if man:\n",
    "        print \"남자입니다.\"\n",
    "    else:\n",
    "        print \"여자입니다.\"\n",
    "        \n",
    "wrong_usage(\"윤정훈\", False, 35)"
   ]
  },
  {
   "cell_type": "markdown",
   "metadata": {},
   "source": [
    "### Keyword Arguments\n",
    "- 함수를 call 할 때, 함수의 정의에 이용된 인자를 명시적으로 사용하면, 인자의 순서에 상관없이 같은 결과값을 return 받을 수 있다."
   ]
  },
  {
   "cell_type": "code",
   "execution_count": 20,
   "metadata": {
    "collapsed": true
   },
   "outputs": [],
   "source": [
    "def my_func_4(a, b, c):\n",
    "    return a-b"
   ]
  },
  {
   "cell_type": "code",
   "execution_count": 21,
   "metadata": {
    "collapsed": false
   },
   "outputs": [
    {
     "data": {
      "text/plain": [
       "1"
      ]
     },
     "execution_count": 21,
     "metadata": {},
     "output_type": "execute_result"
    }
   ],
   "source": [
    "# 함수의 정의에 이용된 인자를 명시적으로 사용하지 않았기 때문에, 인자의 순서가 적용된다.\n",
    "my_func_4(2, 1, 43)"
   ]
  },
  {
   "cell_type": "code",
   "execution_count": 22,
   "metadata": {
    "collapsed": false
   },
   "outputs": [
    {
     "data": {
      "text/plain": [
       "1"
      ]
     },
     "execution_count": 22,
     "metadata": {},
     "output_type": "execute_result"
    }
   ],
   "source": [
    "my_func_4(c=43, b=1, a=2)"
   ]
  },
  {
   "cell_type": "code",
   "execution_count": 23,
   "metadata": {
    "collapsed": false
   },
   "outputs": [
    {
     "data": {
      "text/plain": [
       "1"
      ]
     },
     "execution_count": 23,
     "metadata": {},
     "output_type": "execute_result"
    }
   ],
   "source": [
    "my_func_4(2, c=43, b=1)"
   ]
  },
  {
   "cell_type": "markdown",
   "metadata": {},
   "source": [
    "### Useful String Functions\n",
    "- String Formatting Operator: %"
   ]
  },
  {
   "cell_type": "code",
   "execution_count": 24,
   "metadata": {
    "collapsed": false
   },
   "outputs": [
    {
     "data": {
      "text/plain": [
       "'abc xyz 34'"
      ]
     },
     "execution_count": 24,
     "metadata": {},
     "output_type": "execute_result"
    }
   ],
   "source": [
    "x = \"abc\"\n",
    "y = 34\n",
    "\"%s xyz %d\" %(x, y)"
   ]
  },
  {
   "cell_type": "markdown",
   "metadata": {},
   "source": [
    "- string을 원소로 하는 list를 string으로 concatenating한다."
   ]
  },
  {
   "cell_type": "code",
   "execution_count": 25,
   "metadata": {
    "collapsed": false
   },
   "outputs": [
    {
     "data": {
      "text/plain": [
       "'abc;def;ghi'"
      ]
     },
     "execution_count": 25,
     "metadata": {},
     "output_type": "execute_result"
    }
   ],
   "source": [
    "\";\".join([\"abc\", \"def\", \"ghi\"])"
   ]
  },
  {
   "cell_type": "markdown",
   "metadata": {},
   "source": [
    "- string을 list로 spliting한다."
   ]
  },
  {
   "cell_type": "code",
   "execution_count": 26,
   "metadata": {
    "collapsed": false
   },
   "outputs": [
    {
     "data": {
      "text/plain": [
       "['abc', 'def', 'ghi']"
      ]
     },
     "execution_count": 26,
     "metadata": {},
     "output_type": "execute_result"
    }
   ],
   "source": [
    "\"abc;def;ghi\".split(\";\")"
   ]
  },
  {
   "cell_type": "markdown",
   "metadata": {},
   "source": [
    "- built-in str() 함수는 모든 data type의 instance를 string으로 변경할 수 있다."
   ]
  },
  {
   "cell_type": "code",
   "execution_count": 27,
   "metadata": {
    "collapsed": false
   },
   "outputs": [
    {
     "data": {
      "text/plain": [
       "'Hello 2.0'"
      ]
     },
     "execution_count": 27,
     "metadata": {},
     "output_type": "execute_result"
    }
   ],
   "source": [
    "\"Hello \" + str(2.0)"
   ]
  },
  {
   "cell_type": "markdown",
   "metadata": {},
   "source": [
    "### Print Functions\n",
    "- 큰따옴표로 둘러싸인 문자열은 + 연산과 동일하다."
   ]
  },
  {
   "cell_type": "code",
   "execution_count": 28,
   "metadata": {
    "collapsed": false
   },
   "outputs": [
    {
     "name": "stdout",
     "output_type": "stream",
     "text": [
      "DataScienceExtensionSchool\n",
      "DataScienceExtensionSchool\n"
     ]
    }
   ],
   "source": [
    "print \"Data\" \"Science\" \"Extension\" \"School\"\n",
    "print \"Data\" + \"Science\" + \"Extension\" + \"School\""
   ]
  },
  {
   "cell_type": "markdown",
   "metadata": {},
   "source": [
    "- 문자열 띄어쓰기는 콤마로 한다."
   ]
  },
  {
   "cell_type": "code",
   "execution_count": 29,
   "metadata": {
    "collapsed": false
   },
   "outputs": [
    {
     "name": "stdout",
     "output_type": "stream",
     "text": [
      "Data Science Extension School\n"
     ]
    }
   ],
   "source": [
    "print \"Data\", \"Science\", \"Extension\", \"School\""
   ]
  },
  {
   "cell_type": "markdown",
   "metadata": {},
   "source": [
    "- print 함수를 사용하면 new line이 생성된다. new line을 없애려면 `,`를 사용한다."
   ]
  },
  {
   "cell_type": "code",
   "execution_count": 30,
   "metadata": {
    "collapsed": false
   },
   "outputs": [
    {
     "name": "stdout",
     "output_type": "stream",
     "text": [
      "0 1 2 3 4 5 6 7 8 9\n"
     ]
    }
   ],
   "source": [
    "for i in range(10):\n",
    "    print i,"
   ]
  },
  {
   "cell_type": "markdown",
   "metadata": {},
   "source": [
    "# File I/O in Python"
   ]
  },
  {
   "cell_type": "markdown",
   "metadata": {},
   "source": [
    "### 파일 생성하기\n",
    "- Python built-in(내장) 함수를 **`open`**을 사용한다.\n",
    " - 첫 번째 입력 값 : 파일 이름\n",
    " - 두 번째 입력 값 : 파일 열기 모드\n",
    "     - **`r`** : 읽기 모드 - 파일을 읽을 때만 사용\n",
    "     - **`w`** : 쓰기 모드 - 파일에 내용을 쓸 때 사용\n",
    "     - **`a`** : 추가 모드 - 파일의 마지막에 새로운 내용을 추가(append)할 때 사용"
   ]
  },
  {
   "cell_type": "code",
   "execution_count": 31,
   "metadata": {
    "collapsed": true
   },
   "outputs": [],
   "source": [
    "# new_file.txt가 존재하던 경우에는, 기존의 내용이 모두 삭제된다. \n",
    "# 존재하지 않았던 경우에는 파일이 새롭게 생성된다.\n",
    "f = open(\"new_file.txt\", \"w\")\n",
    "\n",
    "# Python이 프로그램을 종료할 때, 파일 객체를 자동으로 닫아준다.\n",
    "f.close()"
   ]
  },
  {
   "cell_type": "code",
   "execution_count": 32,
   "metadata": {
    "collapsed": true
   },
   "outputs": [],
   "source": [
    "# 절대경로를 입력하는 경우\n",
    "f = open(\"/Users/yoonjeonghun/data-science-lecture-notebook/data/new_file.txt\", \"w\")\n",
    "f.close()"
   ]
  },
  {
   "cell_type": "markdown",
   "metadata": {},
   "source": [
    "### 파일에 내용 쓰기\n",
    "- File객체의 **`write()`** 함수를 이용한다."
   ]
  },
  {
   "cell_type": "code",
   "execution_count": 33,
   "metadata": {
    "collapsed": true
   },
   "outputs": [],
   "source": [
    "f = open(\"new_file.txt\", \"w\")\n",
    "for i in range(1, 11):\n",
    "    line = \"%d번째 줄입니다. \\n\" % i\n",
    "    f.write(line) # line을 파일 객체 f에 쓰라.\n",
    "f.close()"
   ]
  },
  {
   "cell_type": "markdown",
   "metadata": {},
   "source": [
    "### 파일의 내용 읽기\n",
    "- File객체의 **`readline()`** 함수를 이용한다.\n",
    " - line 1개씩 읽어온다."
   ]
  },
  {
   "cell_type": "code",
   "execution_count": 34,
   "metadata": {
    "collapsed": false
   },
   "outputs": [
    {
     "name": "stdout",
     "output_type": "stream",
     "text": [
      "1번째 줄입니다. \n",
      "\n"
     ]
    }
   ],
   "source": [
    "# 1. 파일의 첫번째 라인만 읽어오는 경우\n",
    "f = open(\"new_file.txt\", \"r\")\n",
    "line = f.readline() # 파일의 첫번째 라인을 읽어온다.\n",
    "print line\n",
    "f.close()"
   ]
  },
  {
   "cell_type": "code",
   "execution_count": 35,
   "metadata": {
    "collapsed": false
   },
   "outputs": [
    {
     "name": "stdout",
     "output_type": "stream",
     "text": [
      "1번째 줄입니다. \n",
      "2번째 줄입니다. \n",
      "3번째 줄입니다. \n",
      "4번째 줄입니다. \n",
      "5번째 줄입니다. \n",
      "6번째 줄입니다. \n",
      "7번째 줄입니다. \n",
      "8번째 줄입니다. \n",
      "9번째 줄입니다. \n",
      "10번째 줄입니다. \n"
     ]
    }
   ],
   "source": [
    "# 2. 파일의 모든 라인을 읽어오는 경우\n",
    "f = open(\"new_file.txt\", \"r\")\n",
    "while True:\n",
    "    line = f.readline() # 1 라인을 읽어온다.\n",
    "    if not line: # 라인이 더 이상 없으면 반복문을 빠져나온다.\n",
    "        break \n",
    "    print line,\n",
    "f.close()"
   ]
  },
  {
   "cell_type": "markdown",
   "metadata": {},
   "source": [
    "- File객체의 **`readlines()`** 함수를 이용한다.\n",
    " - 모든 line을 읽어와서 list로 들고 있는다."
   ]
  },
  {
   "cell_type": "code",
   "execution_count": 36,
   "metadata": {
    "collapsed": false
   },
   "outputs": [
    {
     "name": "stdout",
     "output_type": "stream",
     "text": [
      "1번째 줄입니다. \n",
      "2번째 줄입니다. \n",
      "3번째 줄입니다. \n",
      "4번째 줄입니다. \n",
      "5번째 줄입니다. \n",
      "6번째 줄입니다. \n",
      "7번째 줄입니다. \n",
      "8번째 줄입니다. \n",
      "9번째 줄입니다. \n",
      "10번째 줄입니다. \n"
     ]
    }
   ],
   "source": [
    "f = open(\"new_file.txt\", \"r\")\n",
    "lines = f.readlines()\n",
    "for line in lines: # lines는 리스트이므로, 원소를 반복하여 1개씩 출력한다.\n",
    "    print line,\n",
    "f.close()"
   ]
  },
  {
   "cell_type": "markdown",
   "metadata": {},
   "source": [
    "- File객체의 **`read()`** 함수를 이용한다.\n",
    " - 전체 내용을 문자열로 리턴한다."
   ]
  },
  {
   "cell_type": "code",
   "execution_count": 37,
   "metadata": {
    "collapsed": false
   },
   "outputs": [
    {
     "name": "stdout",
     "output_type": "stream",
     "text": [
      "1번째 줄입니다. \n",
      "2번째 줄입니다. \n",
      "3번째 줄입니다. \n",
      "4번째 줄입니다. \n",
      "5번째 줄입니다. \n",
      "6번째 줄입니다. \n",
      "7번째 줄입니다. \n",
      "8번째 줄입니다. \n",
      "9번째 줄입니다. \n",
      "10번째 줄입니다. \n",
      "\n"
     ]
    }
   ],
   "source": [
    "f = open(\"new_file.txt\", \"r\")\n",
    "lines = f.read()\n",
    "print lines\n",
    "f.close()"
   ]
  },
  {
   "cell_type": "markdown",
   "metadata": {},
   "source": [
    "###  파일에 새로운 내용 추가하기\n",
    "- 기존의 파일내용을 유지하고, 단지 새로운 값만 추가해야되는 경우는 추가 모드(**`w`**)를 사용한다.\n",
    "- File객체의 **`write()`** 함수를 사용한다."
   ]
  },
  {
   "cell_type": "code",
   "execution_count": 38,
   "metadata": {
    "collapsed": false
   },
   "outputs": [
    {
     "name": "stdout",
     "output_type": "stream",
     "text": [
      "1번째 줄입니다. \n",
      "2번째 줄입니다. \n",
      "3번째 줄입니다. \n",
      "4번째 줄입니다. \n",
      "5번째 줄입니다. \n",
      "6번째 줄입니다. \n",
      "7번째 줄입니다. \n",
      "8번째 줄입니다. \n",
      "9번째 줄입니다. \n",
      "10번째 줄입니다. \n",
      "11번째 줄입니다. \n",
      "12번째 줄입니다. \n",
      "13번째 줄입니다. \n",
      "14번째 줄입니다. \n",
      "15번째 줄입니다. \n",
      "16번째 줄입니다. \n",
      "17번째 줄입니다. \n",
      "18번째 줄입니다. \n",
      "19번째 줄입니다. \n",
      "20번째 줄입니다. \n",
      "\n"
     ]
    }
   ],
   "source": [
    "# Append 모드이다.\n",
    "f = open(\"new_file.txt\", \"a\")\n",
    "for i in range(11, 21):\n",
    "    line = \"%d번째 줄입니다. \\n\" % i\n",
    "    f.write(line)\n",
    "f.close()\n",
    "\n",
    "# read() 함수를 이용하여 추가내용을 확인해보자.\n",
    "f = open(\"new_file.txt\", \"r\")\n",
    "lines = f.read()\n",
    "print lines\n",
    "f.close()"
   ]
  },
  {
   "cell_type": "markdown",
   "metadata": {},
   "source": [
    "### with문과 함께 사용하기\n",
    "- **`with`**문을 이용하면 **`with`** 블록을 벗어나는 순간 열린 파일 객체를 close 해준다.\n",
    "- **`close()`**함수를 따로 사용할 필요가 없다."
   ]
  },
  {
   "cell_type": "code",
   "execution_count": 39,
   "metadata": {
    "collapsed": true
   },
   "outputs": [],
   "source": [
    "with open(\"new_file_2.txt\", \"w\") as f:\n",
    "    f.write(\"We like to study Python.\")"
   ]
  }
 ],
 "metadata": {
  "anaconda-cloud": {},
  "kernelspec": {
   "display_name": "Python [conda root]",
   "language": "python",
   "name": "conda-root-py"
  },
  "language_info": {
   "codemirror_mode": {
    "name": "ipython",
    "version": 2
   },
   "file_extension": ".py",
   "mimetype": "text/x-python",
   "name": "python",
   "nbconvert_exporter": "python",
   "pygments_lexer": "ipython2",
   "version": "2.7.12"
  }
 },
 "nbformat": 4,
 "nbformat_minor": 1
}
