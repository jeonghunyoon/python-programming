{
 "cells": [
  {
   "cell_type": "markdown",
   "metadata": {
    "collapsed": true
   },
   "source": [
    "# <U>1번 문제</U>"
   ]
  },
  {
   "cell_type": "code",
   "execution_count": 5,
   "metadata": {
    "collapsed": false
   },
   "outputs": [
    {
     "name": "stdout",
     "output_type": "stream",
     "text": [
      "98 89 77\n",
      "78 88 56\n",
      "78 99 100\n",
      "88 99 56\n",
      "100 88 90\n",
      "59 83 75\n",
      "81 95 80\n",
      "67 87 98\n",
      "77 88 99\n",
      "100 100 100\n",
      "76 89 90\n",
      "80 98 96\n",
      "59 89 90\n",
      "90 90 90\n",
      "80 80 81\n",
      "77 99 88\n",
      "52 76 49\n",
      "87 88 89\n",
      "99 96 95\n",
      "94 98 80\n",
      "67 78 89\n",
      "95 56 78\n",
      "73 82 94\n",
      "77 88 99\n",
      "85 95 73\n",
      "100 85 97\n",
      "75 65 85\n",
      "98 70 89\n",
      "68 78 65\n",
      "100 100 97\n",
      "\n",
      "국어점수 합: 2458.0 국어점수 갯수: 30 평균: 81.9333333333\n",
      "수학점수 합: 2616.0 수학점수 갯수: 30 평균: 87.2\n",
      "영어점수 합: 2545.0 영어점수 갯수: 30 평균: 84.8333333333\n",
      "국어: [98.0, 78.0, 78.0, 88.0, 100.0, 59.0, 81.0, 67.0, 77.0, 100.0, 76.0, 80.0, 59.0, 90.0, 80.0, 77.0, 52.0, 87.0, 99.0, 94.0, 67.0, 95.0, 73.0, 77.0, 85.0, 100.0, 75.0, 98.0, 68.0, 100.0]\n",
      "수학: [89.0, 88.0, 99.0, 99.0, 88.0, 83.0, 95.0, 87.0, 88.0, 100.0, 89.0, 98.0, 89.0, 90.0, 80.0, 99.0, 76.0, 88.0, 96.0, 98.0, 78.0, 56.0, 82.0, 88.0, 95.0, 85.0, 65.0, 70.0, 78.0, 100.0]\n",
      "영어: [77.0, 56.0, 100.0, 56.0, 90.0, 75.0, 80.0, 98.0, 99.0, 100.0, 90.0, 96.0, 90.0, 90.0, 81.0, 88.0, 49.0, 89.0, 95.0, 80.0, 89.0, 78.0, 94.0, 99.0, 73.0, 97.0, 85.0, 89.0, 65.0, 97.0]\n"
     ]
    }
   ],
   "source": [
    "\"\"\"이렇게 데이터를 직접 불러와서 풀어야되는 문제의 경우는 먼저 데이터를 봐야합니다.\n",
    "데이터가 어떤 형태를 가지고 있는지, 누락값은 있는지, 컬럼명이 있는지, 컬럼수가 몇개인지,\n",
    "이런 정보를 눈으로 먼저 보고 파악해야 합니다.\"\"\"\n",
    "\n",
    "# 1. 컬럼이 3개이고, 3개에 대한 평균을 구해야 한다. 과목별로 리스트를 만들 것 이다.\n",
    "#    numpy 배열를 사용하면 더 쉽게 문제를 풀 수 있다. 하지만 python 내부 모듈을 사용할 줄 알아야 한다.\n",
    "korean_scores = []\n",
    "math_scores = []\n",
    "english_scores = []\n",
    "\n",
    "\n",
    "# 2. 텍스트 파일에 있는 데이터를 읽어와서 리스트에 저장한다.\n",
    "#    with문은 close가 내장 되어 있다.\n",
    "with open('homework1.txt') as f:\n",
    "    # 첫 번째 라인은 과목명이기 때문에 삭제한다.\n",
    "    f.readline()\n",
    "    \n",
    "    # 한 줄씩 읽어온다. next method는 다음 라인이 있는지 없는지를 체크한다.\n",
    "    while True:\n",
    "        # 한 라인씩 읽어오되, 라인의 끝에 있는 개행(엔터, new line)을 없애준다.\n",
    "        line = f.readline().strip()\n",
    "        # 파일의 마지막(31번 라인 다음)은 EOF이기 때문에 빈 문자열이다. 즉 파일의 마지막을 만나면 반복문을 멈춘다.\n",
    "        if line == \"\":\n",
    "            break;\n",
    "        # 각각의 점수로 split\n",
    "        scores = line.split(\" \")\n",
    "        # 국어 : 문자열을 실수로 형변환\n",
    "        korean_scores.append(float(scores[0]))\n",
    "        # 수학\n",
    "        math_scores.append(float(scores[1]))\n",
    "        # 영어\n",
    "        english_scores.append(float(scores[2]))\n",
    "\n",
    "        \n",
    "# 3. 과목별 평균을 구한다.\n",
    "korean_avg = sum(korean_scores) / len(korean_scores)\n",
    "math_avg = sum(math_scores) / len(math_scores)\n",
    "english_avg = sum(english_scores) / len(english_scores)\n",
    "       \n",
    "    \n",
    "# 4. 결과값 출력\n",
    "print \"국어점수 합:\", sum(korean_scores), \"국어점수 갯수:\", len(korean_scores), \"평균:\", korean_avg\n",
    "print \"수학점수 합:\", sum(math_scores), \"수학점수 갯수:\", len(math_scores), \"평균:\", math_avg\n",
    "print \"영어점수 합:\", sum(english_scores), \"영어점수 갯수:\", len(english_scores), \"평균:\", english_avg\n",
    "\n",
    "\n",
    "# 5. 체크해보자. 데이터가 맞는지\n",
    "print \"국어:\", korean_scores\n",
    "print \"수학:\", math_scores\n",
    "print \"영어:\", english_scores"
   ]
  },
  {
   "cell_type": "markdown",
   "metadata": {},
   "source": [
    "# <U>2번 문제</U>"
   ]
  },
  {
   "cell_type": "code",
   "execution_count": 20,
   "metadata": {
    "collapsed": false
   },
   "outputs": [
    {
     "name": "stdout",
     "output_type": "stream",
     "text": [
      "2 4 6 8 10 12 14 16 18 20\n"
     ]
    }
   ],
   "source": [
    "\"\"\"Genereator가 나왔기 때문에, yield를 사용해야 합니다.\n",
    "또한 짝수만 출력하기 때문에 continue 문을 사용합니다.\"\"\"\n",
    "\n",
    "# 1. 함수를 만든다.\n",
    "def even_generator():\n",
    "    # 변수를 만든다.\n",
    "    num = 0\n",
    "    \n",
    "    # 짝수를 출력하도록 한다.\n",
    "    while True:\n",
    "        # 변수를 업데이트해준다.\n",
    "        num += 1\n",
    "        \n",
    "        # 홀수인 경우는 반복문의 처음으로 돌아간다.\n",
    "        if num % 2 == 1:\n",
    "            continue\n",
    "\n",
    "        # Generator는 원소를 하나씩 생성해준다.\n",
    "        yield num\n",
    "    \n",
    "    \n",
    "# 2. 20까지의 수를 일렬로 출력\n",
    "for i in even_generator():\n",
    "    if i > 20:\n",
    "        break\n",
    "    \n",
    "    # 일렬 출력이므로 콤마(,)를 사용한다.\n",
    "    print i,"
   ]
  },
  {
   "cell_type": "markdown",
   "metadata": {},
   "source": [
    "## 3번 문제"
   ]
  },
  {
   "cell_type": "code",
   "execution_count": 22,
   "metadata": {
    "collapsed": false
   },
   "outputs": [
    {
     "data": {
      "text/plain": [
       "[1,\n",
       " 4,\n",
       " 9,\n",
       " 16,\n",
       " 25,\n",
       " 36,\n",
       " 49,\n",
       " 64,\n",
       " 81,\n",
       " 100,\n",
       " 121,\n",
       " 144,\n",
       " 169,\n",
       " 196,\n",
       " 225,\n",
       " 256,\n",
       " 289,\n",
       " 324,\n",
       " 361,\n",
       " 400,\n",
       " 441,\n",
       " 484,\n",
       " 529,\n",
       " 576,\n",
       " 625,\n",
       " 676,\n",
       " 729,\n",
       " 784,\n",
       " 841,\n",
       " 900,\n",
       " 961,\n",
       " 1024,\n",
       " 1089,\n",
       " 1156,\n",
       " 1225,\n",
       " 1296,\n",
       " 1369,\n",
       " 1444,\n",
       " 1521,\n",
       " 1600,\n",
       " 1681,\n",
       " 1764,\n",
       " 1849,\n",
       " 1936,\n",
       " 2025,\n",
       " 2116,\n",
       " 2209,\n",
       " 2304,\n",
       " 2401,\n",
       " 2500,\n",
       " 2601,\n",
       " 2704,\n",
       " 2809,\n",
       " 2916,\n",
       " 3025,\n",
       " 3136,\n",
       " 3249,\n",
       " 3364,\n",
       " 3481,\n",
       " 3600,\n",
       " 3721,\n",
       " 3844,\n",
       " 3969,\n",
       " 4096,\n",
       " 4225,\n",
       " 4356,\n",
       " 4489,\n",
       " 4624,\n",
       " 4761,\n",
       " 4900,\n",
       " 5041,\n",
       " 5184,\n",
       " 5329,\n",
       " 5476,\n",
       " 5625,\n",
       " 5776,\n",
       " 5929,\n",
       " 6084,\n",
       " 6241,\n",
       " 6400,\n",
       " 6561,\n",
       " 6724,\n",
       " 6889,\n",
       " 7056,\n",
       " 7225,\n",
       " 7396,\n",
       " 7569,\n",
       " 7744,\n",
       " 7921,\n",
       " 8100,\n",
       " 8281,\n",
       " 8464,\n",
       " 8649,\n",
       " 8836,\n",
       " 9025,\n",
       " 9216,\n",
       " 9409,\n",
       " 9604,\n",
       " 9801,\n",
       " 10000]"
      ]
     },
     "execution_count": 22,
     "metadata": {},
     "output_type": "execute_result"
    }
   ],
   "source": [
    "map(lambda x: x*x, range(1, 101))"
   ]
  },
  {
   "cell_type": "markdown",
   "metadata": {},
   "source": [
    "##  4번 문제"
   ]
  },
  {
   "cell_type": "code",
   "execution_count": 37,
   "metadata": {
    "collapsed": false
   },
   "outputs": [
    {
     "name": "stdout",
     "output_type": "stream",
     "text": [
      "[2, 4, 6, 8, 10, 12, 14, 16, 18, 3, 6, 9, 12, 15, 18, 21, 24, 27, 4, 8, 12, 16, 20, 24, 28, 32, 36, 5, 10, 15, 20, 25, 30, 35, 40, 45, 6, 12, 18, 24, 30, 36, 42, 48, 54, 7, 14, 21, 28, 35, 42, 49, 56, 63, 8, 16, 24, 32, 40, 48, 56, 64, 72, 9, 18, 27, 36, 45, 54, 63, 72, 81]\n"
     ]
    }
   ],
   "source": [
    "li = [x * y for y in range(2, 10)\n",
    "            for x in range(1, 10)]\n",
    "print li"
   ]
  }
 ],
 "metadata": {
  "anaconda-cloud": {},
  "kernelspec": {
   "display_name": "Python [conda root]",
   "language": "python",
   "name": "conda-root-py"
  },
  "language_info": {
   "codemirror_mode": {
    "name": "ipython",
    "version": 2
   },
   "file_extension": ".py",
   "mimetype": "text/x-python",
   "name": "python",
   "nbconvert_exporter": "python",
   "pygments_lexer": "ipython2",
   "version": "2.7.12"
  }
 },
 "nbformat": 4,
 "nbformat_minor": 1
}
