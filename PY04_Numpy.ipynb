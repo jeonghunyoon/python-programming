{
 "cells": [
  {
   "cell_type": "code",
   "execution_count": 1,
   "metadata": {
    "collapsed": false
   },
   "outputs": [],
   "source": [
    "from IPython.display import display"
   ]
  },
  {
   "cell_type": "markdown",
   "metadata": {},
   "source": [
    "# Numpy\n",
    "- 데이터세트는 광범위한 원천으로부터 문서나 이미지, 사운드 클립, 수치 측정값 등 모든 것을 아우르는 매우 다양한 형식으로 들어올 수 있다. 이러한 다양성에도 불구하고 모든 데이터를 근본적으로 숫자 배열로 간주하는 것이 도움이 될 것이다.\n",
    "- 데이터가 무엇이든 상관없이 그 데이터를 분석할 수 있게 만드는 첫 번째 단계는 데이터를 숫자 배열로 변환하는 것이다.\n",
    "- 이러한 숫자 배열을 다루기 위해 파이선에서 사용할 수 있는 전문 도구에는 Numpy 패키지와 Pandas 패키지가 있다.\n",
    "- Numpy(Numerical Python)은 조밀한 데이터 버퍼에서 저장하고 처리하는 효과적인 인터페이스를 제공한다. 파이선에서 제공하는 list와 비슷하지만 배열의 규모가 커질수록 데이터 저장 및 처리에 훨씬 더 효율적이다."
   ]
  },
  {
   "cell_type": "code",
   "execution_count": 2,
   "metadata": {
    "collapsed": true
   },
   "outputs": [],
   "source": [
    "# 사용방법 : 관례상 np를 사용한다.\n",
    "import numpy as np"
   ]
  },
  {
   "cell_type": "markdown",
   "metadata": {},
   "source": [
    "## Python 정수\n",
    "### 파이선 객체는 그 값뿐만 아니라 다른 정보까지 포함하는 C 구조체이다.\n",
    " - ob_refcnt : 파이썬이 조용히 메모리 할당과 해체를 처리할 수 있게 돕는 참조 횟수\n",
    " - ob_type : 변수 타입을 인코딩\n",
    " - ob_size : 다음 데이터 멤버의 크기를 지정\n",
    " - ob_digit : 파이선 변수가 나타내는 실제 정숫값을 포함\n",
    "- 파이선 객체의 변수는 정숫값을 담고 있는 바이트를 포함한 모든 파이선 객체 정보를 포함하는 메모리의 위치를 가르키는 포인터이다.\n",
    "\n",
    "## Python 리스트 vs Numpy 배열\n",
    "### Python 리스트\n",
    "파이썬 정수와 같이 완전한 파이썬 객체를 차례로 가리키는 포인터의 블록을 가리키는 포인터를 담고 있다. 각 리스트 요소가 데이터와 타입 정보를 포함하는 완전한 구조이기 때문에 리스트를 원하는 어떤 타입으로도 채울 수 있다. 유연성이 높다.\n",
    "### Numpy 배열\n",
    "고정 타입 배열이다. 근본적으로 인접한 데이터 블록을 가르키는 단일 포인터를 담고 있다. 유연성이 떨어진다. 고정 타입의 NumPy 스타일의 배열은 이러한 유연성은 부족하지만 데이터를 저장하고 가공하기에는 훨씬 더 효율적이다."
   ]
  },
  {
   "cell_type": "code",
   "execution_count": 3,
   "metadata": {
    "collapsed": false
   },
   "outputs": [
    {
     "data": {
      "text/plain": [
       "[0, 1, 2, 3, 4, 5, 6, 7, 8, 9]"
      ]
     },
     "execution_count": 3,
     "metadata": {},
     "output_type": "execute_result"
    }
   ],
   "source": [
    "# Python List : 정수\n",
    "l = list(range(10))\n",
    "l"
   ]
  },
  {
   "cell_type": "code",
   "execution_count": 4,
   "metadata": {
    "collapsed": false
   },
   "outputs": [
    {
     "data": {
      "text/plain": [
       "int"
      ]
     },
     "execution_count": 4,
     "metadata": {},
     "output_type": "execute_result"
    }
   ],
   "source": [
    "type(l[0])"
   ]
  },
  {
   "cell_type": "code",
   "execution_count": 5,
   "metadata": {
    "collapsed": false
   },
   "outputs": [
    {
     "data": {
      "text/plain": [
       "['0', '1', '2', '3', '4', '5', '6', '7', '8', '9']"
      ]
     },
     "execution_count": 5,
     "metadata": {},
     "output_type": "execute_result"
    }
   ],
   "source": [
    "# Python List : 문자열\n",
    "l_str = [str(c) for c in l]\n",
    "l_str"
   ]
  },
  {
   "cell_type": "code",
   "execution_count": 6,
   "metadata": {
    "collapsed": false
   },
   "outputs": [
    {
     "data": {
      "text/plain": [
       "str"
      ]
     },
     "execution_count": 6,
     "metadata": {},
     "output_type": "execute_result"
    }
   ],
   "source": [
    "type(l_str[0])"
   ]
  },
  {
   "cell_type": "code",
   "execution_count": 7,
   "metadata": {
    "collapsed": false
   },
   "outputs": [
    {
     "data": {
      "text/plain": [
       "[bool, str, float, int]"
      ]
     },
     "execution_count": 7,
     "metadata": {},
     "output_type": "execute_result"
    }
   ],
   "source": [
    "# 파이썬의 동적 타이핑(dynamic typing)\n",
    "l_dy = [True, \"2\", 3.0, 4]\n",
    "[type(item) for item in l_dy]"
   ]
  },
  {
   "cell_type": "code",
   "execution_count": 8,
   "metadata": {
    "collapsed": false
   },
   "outputs": [
    {
     "data": {
      "text/plain": [
       "array([1, 4, 2, 5, 3])"
      ]
     },
     "execution_count": 8,
     "metadata": {},
     "output_type": "execute_result"
    }
   ],
   "source": [
    "# Numpy 패키지의 ndarray\n",
    "import numpy as np\n",
    "np.array([1, 4, 2, 5, 3])"
   ]
  },
  {
   "cell_type": "markdown",
   "metadata": {},
   "source": [
    "### 파이썬 자체의 배열(array)는 없나?\n",
    "- python array 패키지에서 제공하는 array가 있다. \n",
    "- 리스트와 다른점은, array의 원소들은 모두 같은 타입이라는 것이다."
   ]
  },
  {
   "cell_type": "code",
   "execution_count": 9,
   "metadata": {
    "collapsed": false
   },
   "outputs": [
    {
     "name": "stdout",
     "output_type": "stream",
     "text": [
      "1\n",
      "array('i', [1, 2, 3, 4, 6])\n",
      "array('i', [1, 2, 3, 4])\n",
      "array('i', [4, 3, 2, 1])\n"
     ]
    }
   ],
   "source": [
    "from array import *\n",
    "\n",
    "# 2byte의 integer가 원소인 array를 선언\n",
    "my_array = array('i',[1,2,3,4])\n",
    "\n",
    "\n",
    "# indexing\n",
    "print my_array[0]\n",
    "\n",
    "\n",
    "# append\n",
    "my_array.append(6)\n",
    "print my_array\n",
    "\n",
    "\n",
    "# remove last element\n",
    "my_array.pop()\n",
    "print my_array\n",
    "\n",
    "\n",
    "# reverse the array\n",
    "my_array.reverse()\n",
    "print my_array"
   ]
  },
  {
   "cell_type": "markdown",
   "metadata": {},
   "source": [
    "### 파이썬 리스트와 달리, NumPy는 배열의 모든 요소가 같은 타입이어야 한다. 타입이 일치하지 않으면 NumPy는 가능한 상위 타입을 취하게 된다. NumPy에서 사용하는 배열은 `ndarray` 객체이다. "
   ]
  },
  {
   "cell_type": "code",
   "execution_count": 10,
   "metadata": {
    "collapsed": false
   },
   "outputs": [
    {
     "data": {
      "text/plain": [
       "array([ 3.14,  4.  ,  2.  ,  3.  ])"
      ]
     },
     "execution_count": 10,
     "metadata": {},
     "output_type": "execute_result"
    }
   ],
   "source": [
    "# NumPy ndarray를 생성하는 방법이며 실수를 원소로 가진다.\n",
    "fl_arr = np.array([3.14, 4, 2, 3])\n",
    "fl_arr"
   ]
  },
  {
   "cell_type": "code",
   "execution_count": 11,
   "metadata": {
    "collapsed": false
   },
   "outputs": [
    {
     "data": {
      "text/plain": [
       "[numpy.float64, numpy.float64, numpy.float64, numpy.float64]"
      ]
     },
     "execution_count": 11,
     "metadata": {},
     "output_type": "execute_result"
    }
   ],
   "source": [
    "[type(elem) for elem in fl_arr]"
   ]
  },
  {
   "cell_type": "code",
   "execution_count": 12,
   "metadata": {
    "collapsed": false
   },
   "outputs": [
    {
     "data": {
      "text/plain": [
       "array(['wow', '3.14', '2', '3'], \n",
       "      dtype='|S4')"
      ]
     },
     "execution_count": 12,
     "metadata": {},
     "output_type": "execute_result"
    }
   ],
   "source": [
    "# string을 원소로 가지는 NumPy ndarray를 생성한다.\n",
    "# 여기서, dtype은 길이가 4이며, byte order flag가 상관없는 문자열을 의미한다.\n",
    "str_arr = np.array([\"wow\", 3.14, 2, 3])\n",
    "str_arr"
   ]
  },
  {
   "cell_type": "code",
   "execution_count": 13,
   "metadata": {
    "collapsed": false
   },
   "outputs": [
    {
     "data": {
      "text/plain": [
       "numpy.ndarray"
      ]
     },
     "execution_count": 13,
     "metadata": {},
     "output_type": "execute_result"
    }
   ],
   "source": [
    "type(str_arr)"
   ]
  },
  {
   "cell_type": "code",
   "execution_count": 14,
   "metadata": {
    "collapsed": false
   },
   "outputs": [
    {
     "data": {
      "text/plain": [
       "[numpy.string_, numpy.string_, numpy.string_, numpy.string_]"
      ]
     },
     "execution_count": 14,
     "metadata": {},
     "output_type": "execute_result"
    }
   ],
   "source": [
    "[type(elem) for elem in str_arr]"
   ]
  },
  {
   "cell_type": "markdown",
   "metadata": {},
   "source": [
    "> NumPy의 **`array`** 메소드는 <U>`ndarray` 객체를 반환</U>한다. **`ndarray`** 메소드는 <U>low-level의 constructor이다</U>."
   ]
  },
  {
   "cell_type": "code",
   "execution_count": 15,
   "metadata": {
    "collapsed": false
   },
   "outputs": [
    {
     "data": {
      "text/plain": [
       "array([1, 2, 3])"
      ]
     },
     "execution_count": 15,
     "metadata": {},
     "output_type": "execute_result"
    }
   ],
   "source": [
    "low_level_con = np.ndarray((3,), buffer=np.array([1,2,3]), dtype=int)\n",
    "low_level_con"
   ]
  },
  {
   "cell_type": "code",
   "execution_count": 16,
   "metadata": {
    "collapsed": false
   },
   "outputs": [
    {
     "data": {
      "text/plain": [
       "numpy.ndarray"
      ]
     },
     "execution_count": 16,
     "metadata": {},
     "output_type": "execute_result"
    }
   ],
   "source": [
    "type(low_level_con)"
   ]
  },
  {
   "cell_type": "markdown",
   "metadata": {},
   "source": [
    "### 명시적으로 결과 배열의 데이터 타입을 설정하려면 `dtype` 키워드를 사용하면 된다."
   ]
  },
  {
   "cell_type": "code",
   "execution_count": 17,
   "metadata": {
    "collapsed": false
   },
   "outputs": [
    {
     "data": {
      "text/plain": [
       "array([ 1.,  2.,  3.,  4.], dtype=float32)"
      ]
     },
     "execution_count": 17,
     "metadata": {},
     "output_type": "execute_result"
    }
   ],
   "source": [
    "fl32_arr = np.array([1, 2, 3, 4], dtype='float32')\n",
    "fl32_arr"
   ]
  },
  {
   "cell_type": "code",
   "execution_count": 18,
   "metadata": {
    "collapsed": false
   },
   "outputs": [
    {
     "data": {
      "text/plain": [
       "[numpy.float32, numpy.float32, numpy.float32, numpy.float32]"
      ]
     },
     "execution_count": 18,
     "metadata": {},
     "output_type": "execute_result"
    }
   ],
   "source": [
    "[type(elem) for elem in fl32_arr]"
   ]
  },
  {
   "cell_type": "code",
   "execution_count": 19,
   "metadata": {
    "collapsed": false
   },
   "outputs": [
    {
     "data": {
      "text/plain": [
       "array([[2, 3, 4],\n",
       "       [4, 5, 6],\n",
       "       [6, 7, 8]])"
      ]
     },
     "execution_count": 19,
     "metadata": {},
     "output_type": "execute_result"
    }
   ],
   "source": [
    "# 배열을 중첩하면, 다차원 배열이 된다.\n",
    "np.array([[2, 3, 4], [4, 5, 6], [6, 7, 8]])"
   ]
  },
  {
   "cell_type": "code",
   "execution_count": 20,
   "metadata": {
    "collapsed": false
   },
   "outputs": [
    {
     "data": {
      "text/plain": [
       "array([0, 0, 0, 0, 0, 0, 0, 0, 0, 0])"
      ]
     },
     "execution_count": 20,
     "metadata": {},
     "output_type": "execute_result"
    }
   ],
   "source": [
    "# 0으로 채운 길이 10의 정수 배열 만들기\n",
    "np.zeros(10, dtype=int)"
   ]
  },
  {
   "cell_type": "code",
   "execution_count": 21,
   "metadata": {
    "collapsed": false
   },
   "outputs": [
    {
     "data": {
      "text/plain": [
       "array([[ 1.,  1.,  1.,  1.,  1.],\n",
       "       [ 1.,  1.,  1.,  1.,  1.],\n",
       "       [ 1.,  1.,  1.,  1.,  1.]])"
      ]
     },
     "execution_count": 21,
     "metadata": {},
     "output_type": "execute_result"
    }
   ],
   "source": [
    "# 1로 채운 3 by 5 부동 소수점 배열 만들기\n",
    "np.ones((3, 5), dtype=float)"
   ]
  },
  {
   "cell_type": "code",
   "execution_count": 22,
   "metadata": {
    "collapsed": false
   },
   "outputs": [
    {
     "data": {
      "text/plain": [
       "array([[ 3.14,  3.14,  3.14,  3.14,  3.14],\n",
       "       [ 3.14,  3.14,  3.14,  3.14,  3.14],\n",
       "       [ 3.14,  3.14,  3.14,  3.14,  3.14]])"
      ]
     },
     "execution_count": 22,
     "metadata": {},
     "output_type": "execute_result"
    }
   ],
   "source": [
    "# 3.14fh codns 3 by 5 배열 만들기\n",
    "np.full((3, 5), 3.14)"
   ]
  },
  {
   "cell_type": "code",
   "execution_count": 23,
   "metadata": {
    "collapsed": false
   },
   "outputs": [
    {
     "data": {
      "text/plain": [
       "array([ 0,  2,  4,  6,  8, 10, 12, 14, 16, 18])"
      ]
     },
     "execution_count": 23,
     "metadata": {},
     "output_type": "execute_result"
    }
   ],
   "source": [
    "# 0에서 시작해 2씩 더해 20까지 채움\n",
    "np.arange(0, 20, 2)"
   ]
  },
  {
   "cell_type": "code",
   "execution_count": 24,
   "metadata": {
    "collapsed": false
   },
   "outputs": [
    {
     "data": {
      "text/plain": [
       "array([ 0.  ,  0.25,  0.5 ,  0.75,  1.  ])"
      ]
     },
     "execution_count": 24,
     "metadata": {},
     "output_type": "execute_result"
    }
   ],
   "source": [
    "# 0과 1 사이에 일정한 간격을 가진 다섯 개의 값으로 채운 배열 만들기\n",
    "np.linspace(0, 1, 5)"
   ]
  },
  {
   "cell_type": "code",
   "execution_count": 25,
   "metadata": {
    "collapsed": false
   },
   "outputs": [
    {
     "data": {
      "text/plain": [
       "array([[ 0.09202882,  0.87479251,  0.51152067],\n",
       "       [ 0.47867017,  0.68568906,  0.10960445],\n",
       "       [ 0.26297704,  0.36130886,  0.02854644]])"
      ]
     },
     "execution_count": 25,
     "metadata": {},
     "output_type": "execute_result"
    }
   ],
   "source": [
    "# 균등하게 분포된 3 by 3 배열 만들기. 0과 1사이의 난수로 채움. uniform 분포에서 난수가 생성된다.\n",
    "np.random.random((3, 3))"
   ]
  },
  {
   "cell_type": "code",
   "execution_count": 26,
   "metadata": {
    "collapsed": false
   },
   "outputs": [
    {
     "data": {
      "text/plain": [
       "array([[-0.84664042, -0.63818368, -1.97437054],\n",
       "       [-0.70090964,  0.50694062, -0.4056728 ],\n",
       "       [ 1.46804022, -0.988559  , -1.91711019]])"
      ]
     },
     "execution_count": 26,
     "metadata": {},
     "output_type": "execute_result"
    }
   ],
   "source": [
    "# 표준정규분포 (평균 = 0, 분산 = 1)의 난수로 채운 3 by 3 배열 만들기\n",
    "np.random.normal(0, 1, (3, 3))"
   ]
  },
  {
   "cell_type": "code",
   "execution_count": 27,
   "metadata": {
    "collapsed": false
   },
   "outputs": [
    {
     "data": {
      "text/plain": [
       "array([[5, 3, 6],\n",
       "       [5, 5, 1],\n",
       "       [6, 5, 6]])"
      ]
     },
     "execution_count": 27,
     "metadata": {},
     "output_type": "execute_result"
    }
   ],
   "source": [
    "# 0 ~ 9 구간의 임의의 정수로 채운 3 by 3 배열 만들기\n",
    "np.random.randint(0, 10, (3, 3))"
   ]
  },
  {
   "cell_type": "code",
   "execution_count": 28,
   "metadata": {
    "collapsed": false
   },
   "outputs": [
    {
     "data": {
      "text/plain": [
       "array([[ 1.,  0.,  0.],\n",
       "       [ 0.,  1.,  0.],\n",
       "       [ 0.,  0.,  1.]])"
      ]
     },
     "execution_count": 28,
     "metadata": {},
     "output_type": "execute_result"
    }
   ],
   "source": [
    "# 3 by 3 단위 행렬 만들기\n",
    "np.eye(3)"
   ]
  },
  {
   "cell_type": "markdown",
   "metadata": {},
   "source": [
    "#### Quiz 1  : 맨 가장자리는 모두 0, 내부는 모두 1인 10 by 10 행렬을 구하여라."
   ]
  },
  {
   "cell_type": "code",
   "execution_count": null,
   "metadata": {
    "collapsed": true
   },
   "outputs": [],
   "source": []
  },
  {
   "cell_type": "markdown",
   "metadata": {
    "collapsed": true
   },
   "source": [
    "## 표준 NumPy 데이터 타입\n",
    "- bool_ : 1바이트로 저장된 부울 값(참 또는 거짓)\n",
    "- int32 : 정수(-2,147,483,648 ~ 2,147,483,647)\n",
    "- int64 : 정수(-9,223,372,036,854,775,808 ~ -9,223,372,036,854,775,807)\n",
    "- float32 : 단정밀 부동 소수점(부호 비트, 8비트 지수, 23비트 가수)\n",
    "- float64 : 배정밀 부동 소수점(부호 비트, 11비트 지수, 52비트 가수)\n",
    "(더 많은 type을 알아보고 싶으면 http://www.numpy.org 를 검색해보자."
   ]
  },
  {
   "cell_type": "markdown",
   "metadata": {},
   "source": [
    "## NumPy 배열의 기초\n",
    "### 1. NumPy 배열의 속성 지정"
   ]
  },
  {
   "cell_type": "code",
   "execution_count": 29,
   "metadata": {
    "collapsed": false
   },
   "outputs": [
    {
     "data": {
      "text/plain": [
       "array([9, 4, 0, 1])"
      ]
     },
     "execution_count": 29,
     "metadata": {},
     "output_type": "execute_result"
    }
   ],
   "source": [
    "import numpy as np\n",
    "\n",
    "np.random.seed(10) # 재현 가능성을 위한 시드 값\n",
    "\n",
    "x1 = np.random.randint(10, size=4) # 1차원 배열\n",
    "x1"
   ]
  },
  {
   "cell_type": "code",
   "execution_count": 30,
   "metadata": {
    "collapsed": false
   },
   "outputs": [
    {
     "data": {
      "text/plain": [
       "array([[9, 0, 1, 8, 9],\n",
       "       [0, 8, 6, 4, 3],\n",
       "       [0, 4, 6, 8, 1],\n",
       "       [8, 4, 1, 3, 6]])"
      ]
     },
     "execution_count": 30,
     "metadata": {},
     "output_type": "execute_result"
    }
   ],
   "source": [
    "x2 = np.random.randint(10, size=(4,5)) # 2차원 배열\n",
    "x2"
   ]
  },
  {
   "cell_type": "code",
   "execution_count": 31,
   "metadata": {
    "collapsed": false
   },
   "outputs": [
    {
     "data": {
      "text/plain": [
       "array([[[5, 3, 9, 6],\n",
       "        [9, 1, 9, 4],\n",
       "        [2, 6, 7, 8]],\n",
       "\n",
       "       [[8, 9, 2, 0],\n",
       "        [6, 7, 8, 1],\n",
       "        [7, 1, 4, 0]]])"
      ]
     },
     "execution_count": 31,
     "metadata": {},
     "output_type": "execute_result"
    }
   ],
   "source": [
    "x3 = np.random.randint(10, size=(2,3,4)) # 3차원 배열\n",
    "x3"
   ]
  },
  {
   "cell_type": "code",
   "execution_count": 32,
   "metadata": {
    "collapsed": false
   },
   "outputs": [
    {
     "name": "stdout",
     "output_type": "stream",
     "text": [
      "x3 차원 : 3\n",
      "x3 차원의 크기 : (2, 3, 4)\n",
      "x3 전체 배열의 크기:  24\n",
      "x3 원소의 데이터 타입: int64\n",
      "x3 각 원소의 bytes 수: 8 bytes\n",
      "x3 전체 배열의 bytes 수: 192 bytes\n"
     ]
    }
   ],
   "source": [
    "print \"x3 차원 :\", x3.ndim\n",
    "print \"x3 차원의 크기 :\", x3.shape\n",
    "print \"x3 전체 배열의 크기: \", x3.size\n",
    "print \"x3 원소의 데이터 타입:\", x3.dtype\n",
    "print \"x3 각 원소의 bytes 수:\", x3.itemsize, \"bytes\"\n",
    "print \"x3 전체 배열의 bytes 수:\", x3.nbytes, \"bytes\""
   ]
  },
  {
   "cell_type": "markdown",
   "metadata": {},
   "source": [
    "### 2. 배열 인덱싱 : 단일 요소에 접근하기"
   ]
  },
  {
   "cell_type": "code",
   "execution_count": 33,
   "metadata": {
    "collapsed": false
   },
   "outputs": [
    {
     "name": "stdout",
     "output_type": "stream",
     "text": [
      "[9 4 0 1]\n",
      "1\n",
      "1\n"
     ]
    }
   ],
   "source": [
    "# 1차원 배열\n",
    "print x1\n",
    "print x1[3]\n",
    "print x1[-1]"
   ]
  },
  {
   "cell_type": "code",
   "execution_count": 34,
   "metadata": {
    "collapsed": false
   },
   "outputs": [
    {
     "name": "stdout",
     "output_type": "stream",
     "text": [
      "[[9 0 1 8 9]\n",
      " [0 8 6 4 3]\n",
      " [0 4 6 8 1]\n",
      " [8 4 1 3 6]]\n",
      "9\n",
      "1\n"
     ]
    }
   ],
   "source": [
    "# 다차원 배열\n",
    "print x2\n",
    "print x2[0, 0]\n",
    "print x2[2, -1]"
   ]
  },
  {
   "cell_type": "code",
   "execution_count": 35,
   "metadata": {
    "collapsed": false
   },
   "outputs": [
    {
     "data": {
      "text/plain": [
       "array([[100,   0,   1,   8,   9],\n",
       "       [  0,   8,   6,   4,   3],\n",
       "       [  0,   4,   6,   8,   1],\n",
       "       [  8,   4,   1,   3,   6]])"
      ]
     },
     "execution_count": 35,
     "metadata": {},
     "output_type": "execute_result"
    }
   ],
   "source": [
    "# 배열의 내용을 변경하기\n",
    "x2[0, 0] = 100\n",
    "x2"
   ]
  },
  {
   "cell_type": "code",
   "execution_count": 36,
   "metadata": {
    "collapsed": false
   },
   "outputs": [
    {
     "data": {
      "text/plain": [
       "array([[100,   1,   1,   8,   9],\n",
       "       [  0,   8,   6,   4,   3],\n",
       "       [  0,   4,   6,   8,   1],\n",
       "       [  8,   4,   1,   3,   6]])"
      ]
     },
     "execution_count": 36,
     "metadata": {},
     "output_type": "execute_result"
    }
   ],
   "source": [
    "# NumPy 배열은 단일 타입이기 때문에 만약 정수 배열에 실수를 넣으려고 하면 소수점 이하는 잘린다.\n",
    "x2[0, 1] = 1.2345\n",
    "x2"
   ]
  },
  {
   "cell_type": "markdown",
   "metadata": {},
   "source": [
    "### 3. 배열 슬라이싱 : 하위 배열에 접근하기"
   ]
  },
  {
   "cell_type": "code",
   "execution_count": 37,
   "metadata": {
    "collapsed": false
   },
   "outputs": [
    {
     "data": {
      "text/plain": [
       "array([0, 1, 2, 3, 4, 5, 6, 7, 8, 9])"
      ]
     },
     "execution_count": 37,
     "metadata": {},
     "output_type": "execute_result"
    }
   ],
   "source": [
    "x = np.arange(10)\n",
    "x"
   ]
  },
  {
   "cell_type": "code",
   "execution_count": 38,
   "metadata": {
    "collapsed": false
   },
   "outputs": [
    {
     "data": {
      "text/plain": [
       "array([0, 1, 2, 3, 4])"
      ]
     },
     "execution_count": 38,
     "metadata": {},
     "output_type": "execute_result"
    }
   ],
   "source": [
    "# 첫 5개 개 요소\n",
    "x[:5]"
   ]
  },
  {
   "cell_type": "code",
   "execution_count": 39,
   "metadata": {
    "collapsed": false
   },
   "outputs": [
    {
     "data": {
      "text/plain": [
       "array([5, 6, 7, 8, 9])"
      ]
     },
     "execution_count": 39,
     "metadata": {},
     "output_type": "execute_result"
    }
   ],
   "source": [
    "# 인덱스 5 다음 요소들\n",
    "x[5:]"
   ]
  },
  {
   "cell_type": "code",
   "execution_count": 40,
   "metadata": {
    "collapsed": false
   },
   "outputs": [
    {
     "data": {
      "text/plain": [
       "array([4, 5, 6])"
      ]
     },
     "execution_count": 40,
     "metadata": {},
     "output_type": "execute_result"
    }
   ],
   "source": [
    "# 중간 배열\n",
    "x[4:7]"
   ]
  },
  {
   "cell_type": "markdown",
   "metadata": {},
   "source": [
    "> 슬라이싱의 포맷 => **[ 시작 index : 마지막 index - 1 : step size ]**"
   ]
  },
  {
   "cell_type": "code",
   "execution_count": 41,
   "metadata": {
    "collapsed": false
   },
   "outputs": [
    {
     "data": {
      "text/plain": [
       "array([0, 2, 4, 6, 8])"
      ]
     },
     "execution_count": 41,
     "metadata": {},
     "output_type": "execute_result"
    }
   ],
   "source": [
    "# 스텝 값이 2인 경우\n",
    "x[::2]"
   ]
  },
  {
   "cell_type": "code",
   "execution_count": 42,
   "metadata": {
    "collapsed": false
   },
   "outputs": [
    {
     "data": {
      "text/plain": [
       "array([1, 3, 5, 7, 9])"
      ]
     },
     "execution_count": 42,
     "metadata": {},
     "output_type": "execute_result"
    }
   ],
   "source": [
    "# 홀수만 출력\n",
    "x[1::2]"
   ]
  },
  {
   "cell_type": "code",
   "execution_count": 43,
   "metadata": {
    "collapsed": false
   },
   "outputs": [
    {
     "data": {
      "text/plain": [
       "array([9, 8, 7, 6, 5, 4, 3, 2, 1, 0])"
      ]
     },
     "execution_count": 43,
     "metadata": {},
     "output_type": "execute_result"
    }
   ],
   "source": [
    "# 스텝 값이 음수인 경우\n",
    "x[::-1]"
   ]
  },
  {
   "cell_type": "code",
   "execution_count": 44,
   "metadata": {
    "collapsed": false
   },
   "outputs": [
    {
     "name": "stdout",
     "output_type": "stream",
     "text": [
      "[9 7 5 3 1]\n",
      "[9 7 5 3 1]\n"
     ]
    }
   ],
   "source": [
    "# 홀수를 내림차순으로 가지고 있는 배열\n",
    "# 이 코드가 이해가 안되면, x[-1::] 부터 생각해보자.\n",
    "print x[-1::-2]\n",
    "print x[9::-2]"
   ]
  },
  {
   "cell_type": "code",
   "execution_count": 45,
   "metadata": {
    "collapsed": false
   },
   "outputs": [
    {
     "data": {
      "text/plain": [
       "array([[100,   1,   1,   8,   9],\n",
       "       [  0,   8,   6,   4,   3],\n",
       "       [  0,   4,   6,   8,   1],\n",
       "       [  8,   4,   1,   3,   6]])"
      ]
     },
     "execution_count": 45,
     "metadata": {},
     "output_type": "execute_result"
    }
   ],
   "source": [
    "# 다차원의 하위 배열\n",
    "x2"
   ]
  },
  {
   "cell_type": "code",
   "execution_count": 46,
   "metadata": {
    "collapsed": false
   },
   "outputs": [
    {
     "data": {
      "text/plain": [
       "array([[100,   1,   1],\n",
       "       [  0,   8,   6]])"
      ]
     },
     "execution_count": 46,
     "metadata": {},
     "output_type": "execute_result"
    }
   ],
   "source": [
    "# 두 개의 행, 세 개의 열\n",
    "x2[:2, :3]"
   ]
  },
  {
   "cell_type": "code",
   "execution_count": 47,
   "metadata": {
    "collapsed": false
   },
   "outputs": [
    {
     "data": {
      "text/plain": [
       "array([[100,   1,   9],\n",
       "       [  0,   6,   3],\n",
       "       [  0,   6,   1],\n",
       "       [  8,   1,   6]])"
      ]
     },
     "execution_count": 47,
     "metadata": {},
     "output_type": "execute_result"
    }
   ],
   "source": [
    "# 행 : 모든 행, 열 : 한 열씩을 걸러서\n",
    "x2[:4, ::2]"
   ]
  },
  {
   "cell_type": "code",
   "execution_count": 48,
   "metadata": {
    "collapsed": false
   },
   "outputs": [
    {
     "data": {
      "text/plain": [
       "array([[  6,   3,   1,   4,   8],\n",
       "       [  1,   8,   6,   4,   0],\n",
       "       [  3,   4,   6,   8,   0],\n",
       "       [  9,   8,   1,   1, 100]])"
      ]
     },
     "execution_count": 48,
     "metadata": {},
     "output_type": "execute_result"
    }
   ],
   "source": [
    "# 다차원배열을 역으로 변환\n",
    "x2[::-1, ::-1]"
   ]
  },
  {
   "cell_type": "code",
   "execution_count": 49,
   "metadata": {
    "collapsed": false
   },
   "outputs": [
    {
     "data": {
      "text/plain": [
       "array([100,   0,   0,   8])"
      ]
     },
     "execution_count": 49,
     "metadata": {},
     "output_type": "execute_result"
    }
   ],
   "source": [
    "# x2의 첫 번째 열\n",
    "x2[:, 0]"
   ]
  },
  {
   "cell_type": "code",
   "execution_count": 50,
   "metadata": {
    "collapsed": false
   },
   "outputs": [
    {
     "data": {
      "text/plain": [
       "array([0, 8, 6, 4, 3])"
      ]
     },
     "execution_count": 50,
     "metadata": {},
     "output_type": "execute_result"
    }
   ],
   "source": [
    "# x2의 두 번째 행\n",
    "x2[1, :] # 또는 x2[1]"
   ]
  },
  {
   "cell_type": "markdown",
   "metadata": {},
   "source": [
    "> NumPy의 배열 슬라이싱은 파이썬 리스트의 슬라이싱과는 달리 사본(copy)가 아닌 뷰(view)를 반환한다."
   ]
  },
  {
   "cell_type": "code",
   "execution_count": 51,
   "metadata": {
    "collapsed": false
   },
   "outputs": [
    {
     "data": {
      "text/plain": [
       "array([[100,   1,   1,   8,   9],\n",
       "       [  0,   8,   6,   4,   3],\n",
       "       [  0,   4,   6,   8,   1],\n",
       "       [  8,   4,   1,   3,   6]])"
      ]
     },
     "execution_count": 51,
     "metadata": {},
     "output_type": "execute_result"
    }
   ],
   "source": [
    "# 1. x2를 출력해보자\n",
    "x2"
   ]
  },
  {
   "cell_type": "code",
   "execution_count": 52,
   "metadata": {
    "collapsed": false
   },
   "outputs": [
    {
     "data": {
      "text/plain": [
       "array([[100,   1],\n",
       "       [  0,   8]])"
      ]
     },
     "execution_count": 52,
     "metadata": {},
     "output_type": "execute_result"
    }
   ],
   "source": [
    "# 2. 2 by 2 배열을 추출해 보자\n",
    "x2_sub = x2[:2, :2]\n",
    "x2_sub"
   ]
  },
  {
   "cell_type": "code",
   "execution_count": 53,
   "metadata": {
    "collapsed": false
   },
   "outputs": [
    {
     "data": {
      "text/plain": [
       "array([[0, 1],\n",
       "       [0, 8]])"
      ]
     },
     "execution_count": 53,
     "metadata": {},
     "output_type": "execute_result"
    }
   ],
   "source": [
    "# 3. x2_sub의 내용을 변경해보자\n",
    "x2_sub[0, 0] = 0\n",
    "x2_sub"
   ]
  },
  {
   "cell_type": "code",
   "execution_count": 54,
   "metadata": {
    "collapsed": false
   },
   "outputs": [
    {
     "data": {
      "text/plain": [
       "array([[0, 1, 1, 8, 9],\n",
       "       [0, 8, 6, 4, 3],\n",
       "       [0, 4, 6, 8, 1],\n",
       "       [8, 4, 1, 3, 6]])"
      ]
     },
     "execution_count": 54,
     "metadata": {},
     "output_type": "execute_result"
    }
   ],
   "source": [
    "# 4. x2를 출력해보자\n",
    "x2"
   ]
  },
  {
   "cell_type": "markdown",
   "metadata": {},
   "source": [
    "> 배열이나 하위 배열 내의 데이터를 명시적으로 복사하는 것이 더 유용할 때가 있다. `copy()` 메서드를 이용하면 된다."
   ]
  },
  {
   "cell_type": "code",
   "execution_count": 55,
   "metadata": {
    "collapsed": false
   },
   "outputs": [
    {
     "data": {
      "text/plain": [
       "array([[0, 1],\n",
       "       [0, 8]])"
      ]
     },
     "execution_count": 55,
     "metadata": {},
     "output_type": "execute_result"
    }
   ],
   "source": [
    "# 1. x2의 하위 배열을 copy 해보자.\n",
    "x2_sub_copy = x2[:2, :2].copy()\n",
    "x2_sub_copy"
   ]
  },
  {
   "cell_type": "code",
   "execution_count": 56,
   "metadata": {
    "collapsed": false
   },
   "outputs": [
    {
     "data": {
      "text/plain": [
       "array([[1000,    1],\n",
       "       [   0,    8]])"
      ]
     },
     "execution_count": 56,
     "metadata": {},
     "output_type": "execute_result"
    }
   ],
   "source": [
    "# 2. 하위 배열을 변경해보자\n",
    "x2_sub_copy[0, 0] = 1000\n",
    "x2_sub_copy"
   ]
  },
  {
   "cell_type": "code",
   "execution_count": 57,
   "metadata": {
    "collapsed": false
   },
   "outputs": [
    {
     "data": {
      "text/plain": [
       "array([[0, 1, 1, 8, 9],\n",
       "       [0, 8, 6, 4, 3],\n",
       "       [0, 4, 6, 8, 1],\n",
       "       [8, 4, 1, 3, 6]])"
      ]
     },
     "execution_count": 57,
     "metadata": {},
     "output_type": "execute_result"
    }
   ],
   "source": [
    "# 3. x2를 확인해보자\n",
    "x2"
   ]
  },
  {
   "cell_type": "markdown",
   "metadata": {},
   "source": [
    "### 4. 배열 재구조화\n",
    " > 배열을 재구조하기 전과 재구조한 후의 데이터의 총 크기가 일치해야만 가능하다."
   ]
  },
  {
   "cell_type": "code",
   "execution_count": 58,
   "metadata": {
    "collapsed": false
   },
   "outputs": [
    {
     "data": {
      "text/plain": [
       "array([1, 2, 3, 4, 5, 6, 7, 8, 9])"
      ]
     },
     "execution_count": 58,
     "metadata": {},
     "output_type": "execute_result"
    }
   ],
   "source": [
    "# 배열의 형상을 변경해보자.\n",
    "# 1. 1차원 배열을 생성\n",
    "grid_before = np.arange(1, 10)\n",
    "grid_before"
   ]
  },
  {
   "cell_type": "code",
   "execution_count": 59,
   "metadata": {
    "collapsed": false
   },
   "outputs": [
    {
     "data": {
      "text/plain": [
       "array([[1, 2, 3],\n",
       "       [4, 5, 6],\n",
       "       [7, 8, 9]])"
      ]
     },
     "execution_count": 59,
     "metadata": {},
     "output_type": "execute_result"
    }
   ],
   "source": [
    "# 2. 2차원 배열로 변경해보자\n",
    "grid_before.reshape(3, 3)"
   ]
  },
  {
   "cell_type": "markdown",
   "metadata": {},
   "source": [
    "> 1차원 배열을 2차원 행 매트릭스 또는 열 매트릭스로 재구조화 "
   ]
  },
  {
   "cell_type": "code",
   "execution_count": 60,
   "metadata": {
    "collapsed": false
   },
   "outputs": [
    {
     "data": {
      "text/plain": [
       "array([1, 2, 3, 4, 5])"
      ]
     },
     "execution_count": 60,
     "metadata": {},
     "output_type": "execute_result"
    }
   ],
   "source": [
    "# 1. 1차원 배열을 선언한다.\n",
    "x = np.array([1, 2, 3, 4, 5])\n",
    "x"
   ]
  },
  {
   "cell_type": "code",
   "execution_count": 61,
   "metadata": {
    "collapsed": false
   },
   "outputs": [
    {
     "data": {
      "text/plain": [
       "array([[1, 2, 3, 4, 5]])"
      ]
     },
     "execution_count": 61,
     "metadata": {},
     "output_type": "execute_result"
    }
   ],
   "source": [
    "# 2. newaxis를 이용하여 행 매트릭스를 생성\n",
    "x[np.newaxis, :]"
   ]
  },
  {
   "cell_type": "code",
   "execution_count": 62,
   "metadata": {
    "collapsed": false
   },
   "outputs": [
    {
     "data": {
      "text/plain": [
       "array([[1],\n",
       "       [2],\n",
       "       [3],\n",
       "       [4],\n",
       "       [5]])"
      ]
     },
     "execution_count": 62,
     "metadata": {},
     "output_type": "execute_result"
    }
   ],
   "source": [
    "# 3. newaxis를 이용하여 열 매트릭스를 생성\n",
    "x[:, np.newaxis]"
   ]
  },
  {
   "cell_type": "markdown",
   "metadata": {},
   "source": [
    "### 5. 배열 연결하기"
   ]
  },
  {
   "cell_type": "code",
   "execution_count": 63,
   "metadata": {
    "collapsed": false
   },
   "outputs": [
    {
     "data": {
      "text/plain": [
       "array([1, 2, 3, 3, 2, 1])"
      ]
     },
     "execution_count": 63,
     "metadata": {},
     "output_type": "execute_result"
    }
   ],
   "source": [
    "x = np.array([1, 2, 3])\n",
    "y = np.array([3, 2, 1])\n",
    "np.concatenate([x, y])"
   ]
  },
  {
   "cell_type": "code",
   "execution_count": 64,
   "metadata": {
    "collapsed": false
   },
   "outputs": [
    {
     "data": {
      "text/plain": [
       "array([[1, 2, 3],\n",
       "       [4, 5, 6]])"
      ]
     },
     "execution_count": 64,
     "metadata": {},
     "output_type": "execute_result"
    }
   ],
   "source": [
    "# 다차원 배열의 경우도 사용가능하다.\n",
    "grid = np.array([\n",
    "        [1, 2, 3],\n",
    "        [4, 5, 6]\n",
    "    ])\n",
    "grid"
   ]
  },
  {
   "cell_type": "code",
   "execution_count": 65,
   "metadata": {
    "collapsed": false
   },
   "outputs": [
    {
     "data": {
      "text/plain": [
       "array([[1, 2, 3],\n",
       "       [4, 5, 6],\n",
       "       [1, 2, 3],\n",
       "       [4, 5, 6]])"
      ]
     },
     "execution_count": 65,
     "metadata": {},
     "output_type": "execute_result"
    }
   ],
   "source": [
    "# 첫 번째 축을 따라 연결 (첫 번째 축을 축소하라.)\n",
    "np.concatenate([grid, grid], axis = 0)"
   ]
  },
  {
   "cell_type": "code",
   "execution_count": 66,
   "metadata": {
    "collapsed": false
   },
   "outputs": [
    {
     "data": {
      "text/plain": [
       "array([[1, 2, 3, 1, 2, 3],\n",
       "       [4, 5, 6, 4, 5, 6]])"
      ]
     },
     "execution_count": 66,
     "metadata": {},
     "output_type": "execute_result"
    }
   ],
   "source": [
    "# 두 번째 축을 따라 연결 (두 번째 축을 축소하라.)\n",
    "np.concatenate([grid, grid], axis = 1)"
   ]
  },
  {
   "cell_type": "code",
   "execution_count": 67,
   "metadata": {
    "collapsed": false
   },
   "outputs": [
    {
     "data": {
      "text/plain": [
       "array([[1, 2, 3],\n",
       "       [9, 8, 7],\n",
       "       [6, 5, 4]])"
      ]
     },
     "execution_count": 67,
     "metadata": {},
     "output_type": "execute_result"
    }
   ],
   "source": [
    "# 다차원 배열의 경우, 수직으로 잇는 경우 (더 좋은 사용법)\n",
    "x = np.array([1, 2, 3])\n",
    "y = np.array([\n",
    "        [9, 8, 7],\n",
    "        [6, 5, 4]\n",
    "    ])\n",
    "np.vstack([x, y])"
   ]
  },
  {
   "cell_type": "code",
   "execution_count": 68,
   "metadata": {
    "collapsed": false
   },
   "outputs": [
    {
     "data": {
      "text/plain": [
       "array([[99,  1,  2,  3],\n",
       "       [99,  4,  5,  6]])"
      ]
     },
     "execution_count": 68,
     "metadata": {},
     "output_type": "execute_result"
    }
   ],
   "source": [
    "# 다차원 배열의 경우, 수평으로 잇는 경우 (더 좋은 사용법)\n",
    "z = np.array([\n",
    "        [99],\n",
    "        [99]\n",
    "    ])\n",
    "np.hstack([z, grid])"
   ]
  },
  {
   "cell_type": "markdown",
   "metadata": {},
   "source": [
    "### 6. 배열 분할하기"
   ]
  },
  {
   "cell_type": "code",
   "execution_count": 69,
   "metadata": {
    "collapsed": false
   },
   "outputs": [
    {
     "name": "stdout",
     "output_type": "stream",
     "text": [
      "[1 2 3] [99 99] [3 2 1]\n"
     ]
    }
   ],
   "source": [
    "# 1차원 배열 분할하기\n",
    "x = [1, 2, 3, 99, 99, 3, 2, 1]\n",
    "x1, x2, x3 = np.split(x, [3, 5])\n",
    "print x1, x2, x3"
   ]
  },
  {
   "cell_type": "code",
   "execution_count": 70,
   "metadata": {
    "collapsed": false
   },
   "outputs": [
    {
     "name": "stdout",
     "output_type": "stream",
     "text": [
      "[[ 0  1  2  3]\n",
      " [ 4  5  6  7]\n",
      " [ 8  9 10 11]\n",
      " [12 13 14 15]]\n",
      "[[0 1 2 3]\n",
      " [4 5 6 7]]\n",
      "[[ 8  9 10 11]\n",
      " [12 13 14 15]]\n"
     ]
    }
   ],
   "source": [
    "# 다차원 배열 분할하기\n",
    "grid = np.arange(16).reshape((4, 4))\n",
    "\n",
    "upper, lower = np.vsplit(grid, [2])\n",
    "\n",
    "print grid\n",
    "print upper\n",
    "print lower"
   ]
  },
  {
   "cell_type": "markdown",
   "metadata": {},
   "source": [
    "## NumPy 배열 연산 : 유니버설 함수\n",
    "NumPy 배열의 연산은 아주 느리거나 아주 빠를 수 있다. 이 연산을 빠르게 만드는 핵심은 벡터화(vectorized) 연산을 사용하는 것인데, 그것은 일반적으로 NumPy의 유니버설 함수(universal functions, ufuncs)를 통해 구현된다."
   ]
  },
  {
   "cell_type": "markdown",
   "metadata": {},
   "source": [
    "### 1. 벡터화 연산\n",
    "> - 여러 종류의 연산에 대해 정적 타입 체계를 가진, 컴파일된 루틴에 편리한 인터페이스를 제공. \n",
    "- 쉬운 벡터 연산을 제공해준다.\n",
    "- NumPy에서 벡터화 연산은 NumPy 배열의 값에 반복된 연산을 빠르게 수행하는 것을 주목적으로 하는 ufunc를 통해 구현된다. "
   ]
  },
  {
   "cell_type": "code",
   "execution_count": 71,
   "metadata": {
    "collapsed": false
   },
   "outputs": [
    {
     "name": "stdout",
     "output_type": "stream",
     "text": [
      "1.0\n",
      "0.5\n",
      "0.333333333333\n",
      "0.25\n",
      "0.2\n"
     ]
    }
   ],
   "source": [
    "# 파이썬 리스트에 대한 반복문 연산\n",
    "x = [1, 2, 3, 4, 5]\n",
    "length = len(x)\n",
    "\n",
    "for i in range(length):\n",
    "    print 1.0 / x[i]"
   ]
  },
  {
   "cell_type": "markdown",
   "metadata": {},
   "source": [
    "> 스칼라와 벡터의 연산"
   ]
  },
  {
   "cell_type": "code",
   "execution_count": 72,
   "metadata": {
    "collapsed": false
   },
   "outputs": [
    {
     "data": {
      "text/plain": [
       "array([ 1.        ,  0.5       ,  0.33333333,  0.25      ,  0.2       ])"
      ]
     },
     "execution_count": 72,
     "metadata": {},
     "output_type": "execute_result"
    }
   ],
   "source": [
    "1.0 / np.array(x)"
   ]
  },
  {
   "cell_type": "markdown",
   "metadata": {},
   "source": [
    "> 벡터와 벡터의 연산"
   ]
  },
  {
   "cell_type": "code",
   "execution_count": 73,
   "metadata": {
    "collapsed": false
   },
   "outputs": [
    {
     "data": {
      "text/plain": [
       "array([0, 1, 2, 3, 4])"
      ]
     },
     "metadata": {},
     "output_type": "display_data"
    },
    {
     "data": {
      "text/plain": [
       "array([ 1.,  2.,  3.,  4.,  5.])"
      ]
     },
     "metadata": {},
     "output_type": "display_data"
    },
    {
     "data": {
      "text/plain": [
       "array([ 0.        ,  0.5       ,  0.66666667,  0.75      ,  0.8       ])"
      ]
     },
     "metadata": {},
     "output_type": "display_data"
    }
   ],
   "source": [
    "display(np.arange(5))\n",
    "display(np.arange(1.0, 6.0))\n",
    "\n",
    "display(np.arange(5) / np.arange(1.0, 6.0))"
   ]
  },
  {
   "cell_type": "markdown",
   "metadata": {},
   "source": [
    "> 다차원 배열"
   ]
  },
  {
   "cell_type": "code",
   "execution_count": 74,
   "metadata": {
    "collapsed": false
   },
   "outputs": [
    {
     "data": {
      "text/plain": [
       "array([[  1,   2,   4],\n",
       "       [  8,  16,  32],\n",
       "       [ 64, 128, 256]])"
      ]
     },
     "execution_count": 74,
     "metadata": {},
     "output_type": "execute_result"
    }
   ],
   "source": [
    "x = np.arange(9).reshape((3, 3))\n",
    "\n",
    "2**x"
   ]
  },
  {
   "cell_type": "markdown",
   "metadata": {},
   "source": [
    "### 2. 배열 산술 연산"
   ]
  },
  {
   "cell_type": "code",
   "execution_count": 75,
   "metadata": {
    "collapsed": false
   },
   "outputs": [
    {
     "data": {
      "text/plain": [
       "array([0, 1, 2, 3])"
      ]
     },
     "metadata": {},
     "output_type": "display_data"
    },
    {
     "data": {
      "text/plain": [
       "array([1, 2, 3, 4])"
      ]
     },
     "metadata": {},
     "output_type": "display_data"
    },
    {
     "data": {
      "text/plain": [
       "array([0, 2, 4, 6])"
      ]
     },
     "metadata": {},
     "output_type": "display_data"
    },
    {
     "data": {
      "text/plain": [
       "array([0, 1, 0, 1])"
      ]
     },
     "metadata": {},
     "output_type": "display_data"
    }
   ],
   "source": [
    "x = np.arange(4)\n",
    "\n",
    "display(x)\n",
    "display(x + 1) # np.add(x, 1)와 같다. 즉 add 함수의 wrapper 함수다.\n",
    "display(x * 2) # np.multiply(x, 2)\n",
    "display(x % 2) # np.mod(x, 2)"
   ]
  },
  {
   "cell_type": "markdown",
   "metadata": {},
   "source": [
    "### 3. 절대값 함수"
   ]
  },
  {
   "cell_type": "code",
   "execution_count": 76,
   "metadata": {
    "collapsed": false
   },
   "outputs": [
    {
     "data": {
      "text/plain": [
       "array([2, 1, 0, 1, 2])"
      ]
     },
     "execution_count": 76,
     "metadata": {},
     "output_type": "execute_result"
    }
   ],
   "source": [
    "x = np.array([-2, -1, 0, 1, 2])\n",
    "\n",
    "# 파이썬 내장함수\n",
    "abs(x)"
   ]
  },
  {
   "cell_type": "code",
   "execution_count": 77,
   "metadata": {
    "collapsed": true
   },
   "outputs": [],
   "source": [
    "# NumPy 벡터화 연산"
   ]
  },
  {
   "cell_type": "code",
   "execution_count": 78,
   "metadata": {
    "collapsed": false
   },
   "outputs": [
    {
     "data": {
      "text/plain": [
       "array([2, 1, 0, 1, 2])"
      ]
     },
     "execution_count": 78,
     "metadata": {},
     "output_type": "execute_result"
    }
   ],
   "source": [
    "np.absolute(x)"
   ]
  },
  {
   "cell_type": "code",
   "execution_count": 79,
   "metadata": {
    "collapsed": false
   },
   "outputs": [
    {
     "data": {
      "text/plain": [
       "array([2, 1, 0, 1, 2])"
      ]
     },
     "execution_count": 79,
     "metadata": {},
     "output_type": "execute_result"
    }
   ],
   "source": [
    "np.abs(x)"
   ]
  },
  {
   "cell_type": "markdown",
   "metadata": {},
   "source": [
    "###  4. 삼각 함수"
   ]
  },
  {
   "cell_type": "code",
   "execution_count": 80,
   "metadata": {
    "collapsed": false
   },
   "outputs": [
    {
     "name": "stdout",
     "output_type": "stream",
     "text": [
      "theta = [ 0.          1.57079633  3.14159265]\n",
      "sin(theta) = [  0.00000000e+00   1.00000000e+00   1.22464680e-16]\n",
      "cos(theta) = [  1.00000000e+00   6.12323400e-17  -1.00000000e+00]\n",
      "tan(theta) = [  0.00000000e+00   1.63312394e+16  -1.22464680e-16]\n"
     ]
    }
   ],
   "source": [
    "# 각도 배열\n",
    "theta = np.linspace(0, np.pi, 3) # 0, 90도, 180도\n",
    "\n",
    "print \"theta =\", theta\n",
    "print \"sin(theta) =\", np.sin(theta)\n",
    "print \"cos(theta) =\", np.cos(theta)\n",
    "print \"tan(theta) =\", np.tan(theta)"
   ]
  },
  {
   "cell_type": "markdown",
   "metadata": {},
   "source": [
    "### 5. 역삼각 함수"
   ]
  },
  {
   "cell_type": "code",
   "execution_count": 81,
   "metadata": {
    "collapsed": false
   },
   "outputs": [
    {
     "name": "stdout",
     "output_type": "stream",
     "text": [
      "x = [-1, 0, 1]\n",
      "arcsin(x) = [-1.57079633  0.          1.57079633]\n",
      "arccos(x) = [ 3.14159265  1.57079633  0.        ]\n",
      "arctan(x) = [-0.78539816  0.          0.78539816]\n"
     ]
    }
   ],
   "source": [
    "x = [-1, 0, 1]\n",
    "print \"x =\", x\n",
    "print \"arcsin(x) =\", np.arcsin(x)\n",
    "print \"arccos(x) =\", np.arccos(x)\n",
    "print \"arctan(x) =\", np.arctan(x)"
   ]
  },
  {
   "cell_type": "markdown",
   "metadata": {
    "collapsed": true
   },
   "source": [
    "### 6. 지수 함수"
   ]
  },
  {
   "cell_type": "code",
   "execution_count": 82,
   "metadata": {
    "collapsed": false
   },
   "outputs": [
    {
     "name": "stdout",
     "output_type": "stream",
     "text": [
      "x = [1, 2, 3]\n",
      "e^x = [  2.71828183   7.3890561   20.08553692]\n",
      "2^x = [ 2.  4.  8.]\n",
      "3^x = [ 3  9 27]\n",
      "exp(x) - 1= [ 0.          0.0010005   0.01005017  0.10517092]\n"
     ]
    }
   ],
   "source": [
    "import numpy as np\n",
    "x = [1, 2, 3]\n",
    "\n",
    "print \"x =\", x\n",
    "print \"e^x =\", np.exp(x)\n",
    "print \"2^x =\", np.exp2(x)\n",
    "print \"3^x =\", np.power(3, x)\n",
    "\n",
    "# 매우 작은 입력값의 정확도를 유지하고자 할 때\n",
    "y = [0, 0.001, 0.01, 0.1]\n",
    "print \"exp(x) - 1=\", np.expm1(y)"
   ]
  },
  {
   "cell_type": "markdown",
   "metadata": {},
   "source": [
    "### 7. 로그 함수"
   ]
  },
  {
   "cell_type": "code",
   "execution_count": 83,
   "metadata": {
    "collapsed": false
   },
   "outputs": [
    {
     "name": "stdout",
     "output_type": "stream",
     "text": [
      "x = [1, 2, 4, 10]\n",
      "ln(x) = [ 0.          0.69314718  1.38629436  2.30258509]\n",
      "log2(x) = [ 0.          1.          2.          3.32192809]\n",
      "log10(x) = [ 0.          0.30103     0.60205999  1.        ]\n",
      "log(1 + x) = [ 0.          0.0009995   0.00995033  0.09531018]\n"
     ]
    }
   ],
   "source": [
    "import numpy as np\n",
    "x = [1, 2, 4, 10]\n",
    "\n",
    "print \"x =\", x\n",
    "print \"ln(x) =\", np.log(x)\n",
    "print \"log2(x) =\", np.log2(x)\n",
    "print \"log10(x) =\", np.log10(x)\n",
    "\n",
    "# 매우 작은 입력값의 정확도를 유지하고자 할 때\n",
    "y = [0, 0.001, 0.01, 0.1]\n",
    "print \"log(1 + x) =\", np.log1p(y)"
   ]
  },
  {
   "cell_type": "markdown",
   "metadata": {},
   "source": [
    "### 8. 특화된 유니버설 함수\n",
    "- 잘 알려지지 않은 수학적 함수를 사용하여 데이터를 계산하고자 한다면 **scipy.special**로 구현할 가능성이 크다."
   ]
  },
  {
   "cell_type": "code",
   "execution_count": 84,
   "metadata": {
    "collapsed": false
   },
   "outputs": [
    {
     "name": "stdout",
     "output_type": "stream",
     "text": [
      "gamma(x) = [  1.00000000e+00   2.40000000e+01   3.62880000e+05]\n",
      "ln(gamma(x)) = [  0.           3.17805383  12.80182748]\n",
      "beta(x, 2) = [ 0.5         0.03333333  0.00909091]\n",
      "erf(x) = [ 0.          0.32862676  0.67780119  0.84270079]\n",
      "erfc(x) = [ 1.          0.67137324  0.32219881  0.15729921]\n",
      "erfinv(x) = [ 0.          0.27246271  0.73286908         inf]\n"
     ]
    }
   ],
   "source": [
    "from scipy import special\n",
    "\n",
    "x = [1, 5, 10]\n",
    "\n",
    "# 감마 함수\n",
    "print \"gamma(x) =\", special.gamma(x)\n",
    "print \"ln(gamma(x)) =\", special.gammaln(x)\n",
    "\n",
    "# 베타 함수\n",
    "print \"beta(x, 2) =\", special.beta(x, 2)\n",
    "\n",
    "# 오차 함수(가우스 적분), 그 보수(complement)와 역수(inverse)\n",
    "y = np.array([0, 0.3, 0.7, 1.0])\n",
    "print \"erf(x) =\", special.erf(y)\n",
    "print \"erfc(x) =\", special.erfc(y)\n",
    "print \"erfinv(x) =\", special.erfinv(y)"
   ]
  },
  {
   "cell_type": "markdown",
   "metadata": {},
   "source": [
    "### 9. 고급 Ufunc 기능"
   ]
  },
  {
   "cell_type": "markdown",
   "metadata": {},
   "source": [
    "> 출력 지정\n",
    " - 연산 결과를 저장할 배열을 지정\n",
    " - 임시 배열을 생성하지 않고 지정한 배열을 이용해 원하는 메모리 위치에 직접 연산 결과를 쓸 수 있음\n",
    " - 소규모 연산에서는 별 차이가 없지만 대단히 큰 규모의 배열에서는 out 인수를 신중하게 사용하면 메모리가 절약됨"
   ]
  },
  {
   "cell_type": "code",
   "execution_count": 85,
   "metadata": {
    "collapsed": false
   },
   "outputs": [
    {
     "data": {
      "text/plain": [
       "array([  0.,  10.,  20.,  30.,  40.])"
      ]
     },
     "metadata": {},
     "output_type": "display_data"
    }
   ],
   "source": [
    "x = np.arange(5)\n",
    "y = np.empty(5)\n",
    "\n",
    "np.multiply(x, 10, out = y)\n",
    "\n",
    "display(y)"
   ]
  },
  {
   "cell_type": "code",
   "execution_count": 86,
   "metadata": {
    "collapsed": false
   },
   "outputs": [
    {
     "data": {
      "text/plain": [
       "array([  1.,   0.,   2.,   0.,   4.,   0.,   8.,   0.,  16.,   0.])"
      ]
     },
     "metadata": {},
     "output_type": "display_data"
    }
   ],
   "source": [
    "\"\"\"연산 결과를 지정된 배열의 요소에 하나씩 건너뛰면서 기록\"\"\" \n",
    "\n",
    "# 길이가 10인 영배열을 생성\n",
    "y = np.zeros(10)\n",
    "\n",
    "# Ufunc를 이용하여 0, 2, 4, 6, 8 인덱스 위치에 값을 넣는다.\n",
    "np.power(2, x, out = y[::2])\n",
    "\n",
    "display(y)"
   ]
  },
  {
   "cell_type": "markdown",
   "metadata": {},
   "source": [
    "> 집계함수 1\n",
    "- **reduce** : 결과가 하나만 남을 때까지 해당 연산을 배열 요소에 반복해서 적용한다."
   ]
  },
  {
   "cell_type": "code",
   "execution_count": 87,
   "metadata": {
    "collapsed": false
   },
   "outputs": [
    {
     "data": {
      "text/plain": [
       "array([1, 2, 3, 4, 5])"
      ]
     },
     "metadata": {},
     "output_type": "display_data"
    },
    {
     "name": "stdout",
     "output_type": "stream",
     "text": [
      "15\n",
      "120\n"
     ]
    }
   ],
   "source": [
    "x = np.arange(1, 6)\n",
    "display(x)\n",
    "\n",
    "# 배열의 모든 요소의 합을 반환\n",
    "print np.add.reduce(x)\n",
    "\n",
    "# 배열의 모든 요소의 곱을 반환\n",
    "print np.multiply.reduce(x)"
   ]
  },
  {
   "cell_type": "markdown",
   "metadata": {},
   "source": [
    "> 집계함수 2\n",
    "- **accumulate** : 계산의 중간 결과를 모두 저장하고 싶을때 사용하는 함수"
   ]
  },
  {
   "cell_type": "code",
   "execution_count": 88,
   "metadata": {
    "collapsed": false
   },
   "outputs": [
    {
     "data": {
      "text/plain": [
       "array([ 1,  3,  6, 10, 15])"
      ]
     },
     "metadata": {},
     "output_type": "display_data"
    },
    {
     "data": {
      "text/plain": [
       "array([  1,   2,   6,  24, 120])"
      ]
     },
     "metadata": {},
     "output_type": "display_data"
    }
   ],
   "source": [
    "# 합이 진행되는 중간 결과를 보여준다.\n",
    "a = np.add.accumulate(x)\n",
    "display(a)\n",
    "\n",
    "# 곱이 진행되는 중간 결과를 보여준다. \n",
    "m = np.multiply.accumulate(x)\n",
    "display(m)"
   ]
  },
  {
   "cell_type": "markdown",
   "metadata": {},
   "source": [
    "> 외적 (outer products)\n",
    " - 서로 다른 두 입력값의 모든 쌍에 대한 출력값을 계산"
   ]
  },
  {
   "cell_type": "code",
   "execution_count": 89,
   "metadata": {
    "collapsed": false
   },
   "outputs": [
    {
     "data": {
      "text/plain": [
       "array([1, 2, 3, 4, 5])"
      ]
     },
     "metadata": {},
     "output_type": "display_data"
    },
    {
     "data": {
      "text/plain": [
       "array([[ 1,  2,  3,  4,  5],\n",
       "       [ 2,  4,  6,  8, 10],\n",
       "       [ 3,  6,  9, 12, 15],\n",
       "       [ 4,  8, 12, 16, 20],\n",
       "       [ 5, 10, 15, 20, 25]])"
      ]
     },
     "metadata": {},
     "output_type": "display_data"
    }
   ],
   "source": [
    "x = np.arange(1, 6)\n",
    "display(x)\n",
    "\n",
    "outer = np.multiply.outer(x, x)\n",
    "display(outer)"
   ]
  },
  {
   "cell_type": "markdown",
   "metadata": {},
   "source": [
    "#### Quiz 2 : 행렬 A, B에 대하여 ((A+B)*(-A/2))를 in place (without copy)로 계산하여라."
   ]
  },
  {
   "cell_type": "code",
   "execution_count": 90,
   "metadata": {
    "collapsed": false
   },
   "outputs": [],
   "source": [
    "A = np.ones(3)*1\n",
    "B = np.ones(3)*2"
   ]
  },
  {
   "cell_type": "markdown",
   "metadata": {},
   "source": [
    "## 집계 : 최솟값, 최대값, 그 사이의 모든 것\n",
    "- 대용량 데이터에 직면했을 때 첫 번째 단계는 궁금한 데이터에 대한 요약 통계를 계산하는 것\n",
    "- 가장 보편적인 요약 통계 : 평균, 표준 편차, 합, 곱, 중앙값, 최소값, 최대값, 분위 수 등"
   ]
  },
  {
   "cell_type": "markdown",
   "metadata": {},
   "source": [
    "### 1. 배열의 값의 합 구하기"
   ]
  },
  {
   "cell_type": "code",
   "execution_count": 91,
   "metadata": {
    "collapsed": false
   },
   "outputs": [
    {
     "name": "stdout",
     "output_type": "stream",
     "text": [
      "46.4700667212\n",
      "46.4700667212\n"
     ]
    }
   ],
   "source": [
    "L = np.random.random(100)\n",
    "\n",
    "# 파이썬 내장 함수 사용\n",
    "print sum(L)\n",
    "\n",
    "# NumPy 사용 (속도가 더 빠르다)\n",
    "print np.sum(L)"
   ]
  },
  {
   "cell_type": "markdown",
   "metadata": {},
   "source": [
    "### 2. 최솟값과 최댓값"
   ]
  },
  {
   "cell_type": "code",
   "execution_count": 92,
   "metadata": {
    "collapsed": false
   },
   "outputs": [
    {
     "name": "stdout",
     "output_type": "stream",
     "text": [
      "1 loop, best of 3: 1.25 s per loop\n",
      "1.55025425497e-07 0.99999994971\n"
     ]
    }
   ],
   "source": [
    "big_array = np.random.rand(10000000)\n",
    "\n",
    "# 파이썬 내장 함수 사용, 속도재기\n",
    "%timeit min(big_array), max(big_array)\n",
    "\n",
    "print min(big_array), max(big_array)"
   ]
  },
  {
   "cell_type": "code",
   "execution_count": 93,
   "metadata": {
    "collapsed": false
   },
   "outputs": [
    {
     "name": "stdout",
     "output_type": "stream",
     "text": [
      "100 loops, best of 3: 13.3 ms per loop\n",
      "1.55025425497e-07 0.99999994971\n"
     ]
    }
   ],
   "source": [
    "# NumPy 사용 (속도가 더 빠르다)\n",
    "%timeit np.min(big_array), np.max(big_array)\n",
    "\n",
    "print np.min(big_array), np.max(big_array)"
   ]
  },
  {
   "cell_type": "code",
   "execution_count": 94,
   "metadata": {
    "collapsed": false
   },
   "outputs": [
    {
     "name": "stdout",
     "output_type": "stream",
     "text": [
      "100 loops, best of 3: 10.5 ms per loop\n",
      "1.55025425497e-07 0.99999994971 5001238.16205\n"
     ]
    }
   ],
   "source": [
    "# NumPy 배열 객체 자체의 메서드를 사용\n",
    "%timeit big_array.min(), big_array.max()\n",
    "\n",
    "print big_array.min(), big_array.max(), big_array.sum()"
   ]
  },
  {
   "cell_type": "markdown",
   "metadata": {},
   "source": [
    "### 3. 다차원 집계\n",
    "- 집계 연산의 보편적인 유형은 행이나 열을 기준으로 집계하는 것."
   ]
  },
  {
   "cell_type": "code",
   "execution_count": 95,
   "metadata": {
    "collapsed": false
   },
   "outputs": [
    {
     "data": {
      "text/plain": [
       "array([[ 0.38415751,  0.54328956,  0.1089677 ,  0.70663833],\n",
       "       [ 0.6901017 ,  0.77765968,  0.33476723,  0.14020506],\n",
       "       [ 0.74078331,  0.76217502,  0.36931464,  0.70147078]])"
      ]
     },
     "metadata": {},
     "output_type": "display_data"
    }
   ],
   "source": [
    "# 2차원 배열 생성\n",
    "Mat = np.random.random((3, 4))\n",
    "display(Mat)"
   ]
  },
  {
   "cell_type": "markdown",
   "metadata": {},
   "source": [
    "> 전체 배열의 집계 값을 반환"
   ]
  },
  {
   "cell_type": "code",
   "execution_count": 96,
   "metadata": {
    "collapsed": false
   },
   "outputs": [
    {
     "name": "stdout",
     "output_type": "stream",
     "text": [
      "6.25953052104\n"
     ]
    }
   ],
   "source": [
    "print Mat.sum()"
   ]
  },
  {
   "cell_type": "markdown",
   "metadata": {},
   "source": [
    "> 각 열 또는 행의 최소값을 구하기 (axis 인수)\n",
    "> - axis 키워드는 반환할 차원이 아니라 축소할 차원을 지정"
   ]
  },
  {
   "cell_type": "code",
   "execution_count": 97,
   "metadata": {
    "collapsed": false
   },
   "outputs": [
    {
     "data": {
      "text/plain": [
       "array([ 0.38415751,  0.54328956,  0.1089677 ,  0.14020506])"
      ]
     },
     "metadata": {},
     "output_type": "display_data"
    },
    {
     "data": {
      "text/plain": [
       "array([ 0.1089677 ,  0.14020506,  0.36931464])"
      ]
     },
     "metadata": {},
     "output_type": "display_data"
    }
   ],
   "source": [
    "# 열의 최소값을 구하기 (첫 번째 축을 축소하라.)\n",
    "display(Mat.min(axis = 0))\n",
    "\n",
    "# 열의 최대값을 구하기 (두 번째 축을 축소하라.)\n",
    "display(Mat.min(axis = 1))"
   ]
  },
  {
   "cell_type": "markdown",
   "metadata": {},
   "source": [
    "> 각 열 또는 행의 평균 또는 표준편차를 구하기"
   ]
  },
  {
   "cell_type": "code",
   "execution_count": 98,
   "metadata": {
    "collapsed": false
   },
   "outputs": [
    {
     "data": {
      "text/plain": [
       "array([ 0.60501417,  0.69437476,  0.27101652,  0.51610472])"
      ]
     },
     "metadata": {},
     "output_type": "display_data"
    },
    {
     "data": {
      "text/plain": [
       "array([ 0.22045051,  0.259407  ,  0.1597545 ])"
      ]
     },
     "metadata": {},
     "output_type": "display_data"
    }
   ],
   "source": [
    "# 열의 평균을 구하기\n",
    "display(Mat.mean(axis = 0))\n",
    "\n",
    "# 행의 표준편차를 구하기\n",
    "display(Mat.std(axis = 1))"
   ]
  },
  {
   "cell_type": "markdown",
   "metadata": {},
   "source": [
    "## 배열 연산 : 브로드캐스팅\n",
    "### 1. 브로드캐스팅 소개"
   ]
  },
  {
   "cell_type": "code",
   "execution_count": 99,
   "metadata": {
    "collapsed": false
   },
   "outputs": [
    {
     "data": {
      "text/plain": [
       "array([5, 6, 7])"
      ]
     },
     "execution_count": 99,
     "metadata": {},
     "output_type": "execute_result"
    }
   ],
   "source": [
    "# 같은 크기의 배열에서는 배열의 요소 단위로 이항 연산이 수행된다.\n",
    "a = np.array([0, 1, 2])\n",
    "b = np.array([5, 5, 5])\n",
    "\n",
    "a + b"
   ]
  },
  {
   "cell_type": "code",
   "execution_count": 100,
   "metadata": {
    "collapsed": false
   },
   "outputs": [
    {
     "data": {
      "text/plain": [
       "array([5, 6, 7])"
      ]
     },
     "execution_count": 100,
     "metadata": {},
     "output_type": "execute_result"
    }
   ],
   "source": [
    "# 1 by 3 배열과 scala의 합\n",
    "a + 5"
   ]
  },
  {
   "cell_type": "code",
   "execution_count": 101,
   "metadata": {
    "collapsed": false
   },
   "outputs": [
    {
     "data": {
      "text/plain": [
       "array([[ 1.,  1.,  1.],\n",
       "       [ 1.,  1.,  1.],\n",
       "       [ 1.,  1.,  1.]])"
      ]
     },
     "metadata": {},
     "output_type": "display_data"
    },
    {
     "data": {
      "text/plain": [
       "array([0, 1, 2])"
      ]
     },
     "metadata": {},
     "output_type": "display_data"
    },
    {
     "data": {
      "text/plain": [
       "array([[ 1.,  2.,  3.],\n",
       "       [ 1.,  2.,  3.],\n",
       "       [ 1.,  2.,  3.]])"
      ]
     },
     "metadata": {},
     "output_type": "display_data"
    }
   ],
   "source": [
    "# 3 by 3 배열과 1 by 3 배열의 합\n",
    "Mat = np.ones((3, 3))\n",
    "display(Mat)\n",
    "display(a)\n",
    "\n",
    "# 1차원 배열은 2차원 배열의 형상을 맞추기 위해 두 번째 차원까지 확장 또는 브로드캐스팅된다.\n",
    "display(Mat + a)"
   ]
  },
  {
   "cell_type": "code",
   "execution_count": 102,
   "metadata": {
    "collapsed": false
   },
   "outputs": [
    {
     "data": {
      "text/plain": [
       "array([0, 1, 2])"
      ]
     },
     "metadata": {},
     "output_type": "display_data"
    },
    {
     "data": {
      "text/plain": [
       "array([[0],\n",
       "       [1],\n",
       "       [2]])"
      ]
     },
     "metadata": {},
     "output_type": "display_data"
    },
    {
     "data": {
      "text/plain": [
       "array([[0, 1, 2],\n",
       "       [1, 2, 3],\n",
       "       [2, 3, 4]])"
      ]
     },
     "metadata": {},
     "output_type": "display_data"
    }
   ],
   "source": [
    "# 1 by 3 배열과 3 by 1 배열의 합\n",
    "a = np.arange(3)\n",
    "b = np.arange(3)[:, np.newaxis]\n",
    "\n",
    "display(a)\n",
    "display(b)\n",
    "\n",
    "display(a + b)"
   ]
  },
  {
   "cell_type": "markdown",
   "metadata": {},
   "source": [
    "### 2. 브로드캐스팅 규칙\n",
    "- NumPy의 브로드캐스팅은 두 배열 사이의 상호작용을 결정하기 위해 엄격한 규칙을 따른다.\n",
    " 1. 두 배열의 차원 수가 다르면 더 작은 수의 차원을 가진 배열 형상의 앞쪽을 1로 채운다.\n",
    " 2. 두 배열의 형상이 어떤 차원에서 일치하지 않는다면, 해당 차원의 형상이 1인 배열을 다른 형상의 차원과 일치하도록 형상을 늘린다.\n",
    " 3. 임의의 차원에서 크기가 일치하지 않고 1도 아니라면 오류가 발생한다."
   ]
  },
  {
   "cell_type": "code",
   "execution_count": 103,
   "metadata": {
    "collapsed": false
   },
   "outputs": [
    {
     "data": {
      "text/plain": [
       "array([[ 1.,  1.,  1.],\n",
       "       [ 1.,  1.,  1.]])"
      ]
     },
     "metadata": {},
     "output_type": "display_data"
    },
    {
     "data": {
      "text/plain": [
       "array([0, 1, 2])"
      ]
     },
     "metadata": {},
     "output_type": "display_data"
    },
    {
     "data": {
      "text/plain": [
       "array([[ 1.,  2.,  3.],\n",
       "       [ 1.,  2.,  3.]])"
      ]
     },
     "metadata": {},
     "output_type": "display_data"
    }
   ],
   "source": [
    "\"\"\"브로드캐스팅 예제 1 : 1차원 배열에 2차원 배열을 더하기\"\"\"\n",
    "mat = np.ones((2, 3))\n",
    "vec = np.arange(3)\n",
    "\n",
    "display(mat)\n",
    "display(vec)\n",
    "\n",
    "\"\"\"\n",
    "1. 각 배열의 형상\n",
    " - mat.shape = (2,3)\n",
    " - vec.shape = (3,)\n",
    " \n",
    "2. 규칙 1에 따라서 배열 vec가 더 작은 차원을 가지므로 앞쪽을 1로 채운다.\n",
    " - mat.shape = (2,3)\n",
    " - vec.shape = (1,3)\n",
    " \n",
    " 3. 규칙 2에 따라서 배열 vec의 첫 번째 차원이 일치하지 않으므로 이 차원을 늘리도록한다.\n",
    " - mat.shape = (2,3)\n",
    " - vec.shape = (2,3)\n",
    "\"\"\"\n",
    "\n",
    "display(mat + vec)"
   ]
  },
  {
   "cell_type": "code",
   "execution_count": 104,
   "metadata": {
    "collapsed": false
   },
   "outputs": [
    {
     "data": {
      "text/plain": [
       "array([[0],\n",
       "       [1],\n",
       "       [2]])"
      ]
     },
     "metadata": {},
     "output_type": "display_data"
    },
    {
     "data": {
      "text/plain": [
       "array([0, 1, 2])"
      ]
     },
     "metadata": {},
     "output_type": "display_data"
    },
    {
     "data": {
      "text/plain": [
       "array([[0, 1, 2],\n",
       "       [1, 2, 3],\n",
       "       [2, 3, 4]])"
      ]
     },
     "metadata": {},
     "output_type": "display_data"
    }
   ],
   "source": [
    "\"\"\"브로드캐스팅 예제 2 : 서로 다른 형상을 가진 다차원 배열을 더하기\"\"\"\n",
    "vec1 = np.arange(3).reshape((3, 1))\n",
    "vec2 = np.arange(3)\n",
    "\n",
    "display(vec1)\n",
    "display(vec2)\n",
    "\n",
    "\"\"\"\n",
    "1. 각 배열의 형상\n",
    " - vec1.shape = (3,1)\n",
    " - vec2.shape = (3,)\n",
    " \n",
    "2. 규칙 1에 따라서 배열 vec2가 더 작은 차원을 가지므로 앞쪽을 1로 채운다.\n",
    " - vec1.shape = (3,1)\n",
    " - vec2.shape = (1,3)\n",
    " \n",
    " 3. 규칙 2에 따라서 1인 차원의 형상을 각각 늘리도록 한다.\n",
    " - mat.shape = (3,3)\n",
    " - vec.shape = (3,3)\n",
    "\"\"\"\n",
    "\n",
    "display(vec1 + vec2)"
   ]
  },
  {
   "cell_type": "code",
   "execution_count": 105,
   "metadata": {
    "collapsed": false
   },
   "outputs": [
    {
     "data": {
      "text/plain": [
       "array([[ 1.,  1.],\n",
       "       [ 1.,  1.],\n",
       "       [ 1.,  1.]])"
      ]
     },
     "metadata": {},
     "output_type": "display_data"
    },
    {
     "data": {
      "text/plain": [
       "array([0, 1, 2])"
      ]
     },
     "metadata": {},
     "output_type": "display_data"
    },
    {
     "ename": "ValueError",
     "evalue": "operands could not be broadcast together with shapes (3,2) (3,) ",
     "output_type": "error",
     "traceback": [
      "\u001b[0;31m---------------------------------------------------------------------------\u001b[0m",
      "\u001b[0;31mValueError\u001b[0m                                Traceback (most recent call last)",
      "\u001b[0;32m<ipython-input-105-a2e15be503f1>\u001b[0m in \u001b[0;36m<module>\u001b[0;34m()\u001b[0m\n\u001b[1;32m     20\u001b[0m \"\"\"\n\u001b[1;32m     21\u001b[0m \u001b[0;34m\u001b[0m\u001b[0m\n\u001b[0;32m---> 22\u001b[0;31m \u001b[0mdisplay\u001b[0m\u001b[0;34m(\u001b[0m\u001b[0mmat\u001b[0m \u001b[0;34m+\u001b[0m \u001b[0mvec\u001b[0m\u001b[0;34m)\u001b[0m\u001b[0;34m\u001b[0m\u001b[0m\n\u001b[0m",
      "\u001b[0;31mValueError\u001b[0m: operands could not be broadcast together with shapes (3,2) (3,) "
     ]
    }
   ],
   "source": [
    "\"\"\"브로드캐스팅 예제 3 : 두 개의 배열이 호환되지 않은 경우\"\"\"\n",
    "mat = np.ones((3, 2))\n",
    "vec = np.arange(3)\n",
    "\n",
    "display(mat)\n",
    "display(vec)\n",
    "\n",
    "\"\"\"\n",
    "1. 각 배열의 형상\n",
    " - mat.shape = (3,2)\n",
    " - vec.shape = (3,)\n",
    " \n",
    "2. 규칙 1에 따라서 배열 vec2가 더 작은 차원을 가지므로 앞쪽을 1로 채운다.\n",
    " - mat.shape = (3,2)\n",
    " - vec.shape = (1,3)\n",
    " \n",
    " 3. 규칙 2에 따라서 배열간의 차원을 각각 늘리도록 한다.\n",
    " - mat.shape = (3,2)\n",
    " - vec.shape = (3,3)\n",
    "\"\"\"\n",
    "\n",
    "display(mat + vec)"
   ]
  },
  {
   "cell_type": "code",
   "execution_count": 106,
   "metadata": {
    "collapsed": false
   },
   "outputs": [
    {
     "data": {
      "text/plain": [
       "array([[0],\n",
       "       [1],\n",
       "       [2]])"
      ]
     },
     "metadata": {},
     "output_type": "display_data"
    },
    {
     "data": {
      "text/plain": [
       "array([[ 1.,  1.],\n",
       "       [ 2.,  2.],\n",
       "       [ 3.,  3.]])"
      ]
     },
     "metadata": {},
     "output_type": "display_data"
    }
   ],
   "source": [
    "# 브로드캐스팅이 되기 위해서는, vec의 형상이 (3,)이 아닌 (3,1)이 었다면 가능했을 것이다.\n",
    "display(vec[:, np.newaxis])\n",
    "\n",
    "display(mat + vec[:, np.newaxis])"
   ]
  },
  {
   "cell_type": "code",
   "execution_count": 107,
   "metadata": {
    "collapsed": false
   },
   "outputs": [
    {
     "data": {
      "text/plain": [
       "array([[ 2.71828183,  2.71828183],\n",
       "       [ 2.71828183,  2.71828183],\n",
       "       [ 2.71828183,  2.71828183]])"
      ]
     },
     "metadata": {},
     "output_type": "display_data"
    },
    {
     "data": {
      "text/plain": [
       "array([[ 1.        ],\n",
       "       [ 2.71828183],\n",
       "       [ 7.3890561 ]])"
      ]
     },
     "metadata": {},
     "output_type": "display_data"
    },
    {
     "data": {
      "text/plain": [
       "array([[ 1.31326169,  1.31326169],\n",
       "       [ 1.69314718,  1.69314718],\n",
       "       [ 2.31326169,  2.31326169]])"
      ]
     },
     "metadata": {},
     "output_type": "display_data"
    }
   ],
   "source": [
    "\"\"\"log(exp(a) + exp(b))\"\"\"\n",
    "display(np.exp(mat))\n",
    "display(np.exp(vec[:, np.newaxis]))\n",
    "\n",
    "display(np.logaddexp(mat, vec[:, np.newaxis]))"
   ]
  },
  {
   "cell_type": "markdown",
   "metadata": {},
   "source": [
    "### 3. 실전 브로드캐스팅"
   ]
  },
  {
   "cell_type": "markdown",
   "metadata": {},
   "source": [
    "> 배열을 중앙 정렬하기"
   ]
  },
  {
   "cell_type": "code",
   "execution_count": 108,
   "metadata": {
    "collapsed": false
   },
   "outputs": [
    {
     "data": {
      "text/plain": [
       "array([[ 0.44967132,  0.54586317,  0.34936105],\n",
       "       [ 0.04668108,  0.9298757 ,  0.93358002],\n",
       "       [ 0.42636013,  0.53113383,  0.21163277],\n",
       "       [ 0.95307232,  0.02721679,  0.22549886],\n",
       "       [ 0.96745768,  0.94384147,  0.60119155],\n",
       "       [ 0.69316956,  0.07649944,  0.64188065],\n",
       "       [ 0.35212171,  0.70853515,  0.41411626],\n",
       "       [ 0.90122493,  0.45218608,  0.35217689],\n",
       "       [ 0.85419023,  0.02495777,  0.55145397],\n",
       "       [ 0.85652141,  0.15093067,  0.4494213 ]])"
      ]
     },
     "metadata": {},
     "output_type": "display_data"
    },
    {
     "data": {
      "text/plain": [
       "array([ 0.65004704,  0.43910401,  0.47303133])"
      ]
     },
     "metadata": {},
     "output_type": "display_data"
    },
    {
     "data": {
      "text/plain": [
       "array([[-0.20037571,  0.10675916, -0.12367028],\n",
       "       [-0.60336595,  0.49077169,  0.46054869],\n",
       "       [-0.22368691,  0.09202983, -0.26139856],\n",
       "       [ 0.30302528, -0.41188721, -0.24753247],\n",
       "       [ 0.31741065,  0.50473747,  0.12816022],\n",
       "       [ 0.04312252, -0.36260456,  0.16884932],\n",
       "       [-0.29792532,  0.26943114, -0.05891507],\n",
       "       [ 0.25117789,  0.01308207, -0.12085444],\n",
       "       [ 0.20414319, -0.41414624,  0.07842264],\n",
       "       [ 0.20647437, -0.28817334, -0.02361003]])"
      ]
     },
     "metadata": {},
     "output_type": "display_data"
    }
   ],
   "source": [
    "# 데이터 : 10개의 관측치로 이루어져있고, 각 관측치는 3개의 값으로 구성\n",
    "x = np.random.random((10, 3))\n",
    "\n",
    "# 첫번째 차원의 특성별 평균값\n",
    "x_mean = x.mean(0)\n",
    "x_mean\n",
    "\n",
    "# 평균값을 뺌으로써 x 배열을 중앙 정렬 (브로드캐스팅 연산)\n",
    "x_cent = x - x_mean\n",
    "\n",
    "display(x)\n",
    "display(x_mean)\n",
    "display(x_cent)"
   ]
  },
  {
   "cell_type": "markdown",
   "metadata": {},
   "source": [
    "> 2차원 함수 플로팅하기\n",
    "> - 2차원 함수를 기반으로 이미지를 그릴때 매우 유용하다."
   ]
  },
  {
   "cell_type": "code",
   "execution_count": 109,
   "metadata": {
    "collapsed": false
   },
   "outputs": [
    {
     "data": {
      "text/plain": [
       "array([ 0.        ,  0.10204082,  0.20408163,  0.30612245,  0.40816327,\n",
       "        0.51020408,  0.6122449 ,  0.71428571,  0.81632653,  0.91836735,\n",
       "        1.02040816,  1.12244898,  1.2244898 ,  1.32653061,  1.42857143,\n",
       "        1.53061224,  1.63265306,  1.73469388,  1.83673469,  1.93877551,\n",
       "        2.04081633,  2.14285714,  2.24489796,  2.34693878,  2.44897959,\n",
       "        2.55102041,  2.65306122,  2.75510204,  2.85714286,  2.95918367,\n",
       "        3.06122449,  3.16326531,  3.26530612,  3.36734694,  3.46938776,\n",
       "        3.57142857,  3.67346939,  3.7755102 ,  3.87755102,  3.97959184,\n",
       "        4.08163265,  4.18367347,  4.28571429,  4.3877551 ,  4.48979592,\n",
       "        4.59183673,  4.69387755,  4.79591837,  4.89795918,  5.        ])"
      ]
     },
     "metadata": {},
     "output_type": "display_data"
    },
    {
     "data": {
      "text/plain": [
       "array([[  0.        ],\n",
       "       [  1.02040816],\n",
       "       [  2.04081633],\n",
       "       [  3.06122449],\n",
       "       [  4.08163265],\n",
       "       [  5.10204082],\n",
       "       [  6.12244898],\n",
       "       [  7.14285714],\n",
       "       [  8.16326531],\n",
       "       [  9.18367347],\n",
       "       [ 10.20408163],\n",
       "       [ 11.2244898 ],\n",
       "       [ 12.24489796],\n",
       "       [ 13.26530612],\n",
       "       [ 14.28571429],\n",
       "       [ 15.30612245],\n",
       "       [ 16.32653061],\n",
       "       [ 17.34693878],\n",
       "       [ 18.36734694],\n",
       "       [ 19.3877551 ],\n",
       "       [ 20.40816327],\n",
       "       [ 21.42857143],\n",
       "       [ 22.44897959],\n",
       "       [ 23.46938776],\n",
       "       [ 24.48979592],\n",
       "       [ 25.51020408],\n",
       "       [ 26.53061224],\n",
       "       [ 27.55102041],\n",
       "       [ 28.57142857],\n",
       "       [ 29.59183673],\n",
       "       [ 30.6122449 ],\n",
       "       [ 31.63265306],\n",
       "       [ 32.65306122],\n",
       "       [ 33.67346939],\n",
       "       [ 34.69387755],\n",
       "       [ 35.71428571],\n",
       "       [ 36.73469388],\n",
       "       [ 37.75510204],\n",
       "       [ 38.7755102 ],\n",
       "       [ 39.79591837],\n",
       "       [ 40.81632653],\n",
       "       [ 41.83673469],\n",
       "       [ 42.85714286],\n",
       "       [ 43.87755102],\n",
       "       [ 44.89795918],\n",
       "       [ 45.91836735],\n",
       "       [ 46.93877551],\n",
       "       [ 47.95918367],\n",
       "       [ 48.97959184],\n",
       "       [ 50.        ]])"
      ]
     },
     "metadata": {},
     "output_type": "display_data"
    },
    {
     "data": {
      "text/plain": [
       "array([[ 0.16092847,  0.15572682,  0.14017611, ...,  0.21003721,\n",
       "         0.18642261,  0.10201098],\n",
       "       [ 0.16092847,  0.21681414,  0.27077777, ...,  0.36263586,\n",
       "         0.26716207,  0.11910542],\n",
       "       [ 0.16092847,  0.28632848,  0.43199251, ...,  1.64048443,\n",
       "         1.437375  ,  1.15567113],\n",
       "       ..., \n",
       "       [ 0.16092847,  0.30832547,  1.57062332, ...,  1.36700341,\n",
       "         2.0154145 ,  0.9803748 ],\n",
       "       [ 0.16092847,  0.23646629,  1.3911285 , ...,  2.03902911,\n",
       "         1.1684286 ,  0.03168131],\n",
       "       [ 0.16092847,  0.17282126,  1.19383626, ...,  1.08840103,\n",
       "         0.11609294,  0.21088835]])"
      ]
     },
     "metadata": {},
     "output_type": "display_data"
    },
    {
     "data": {
      "text/plain": [
       "<matplotlib.colorbar.Colorbar at 0x108d6ed50>"
      ]
     },
     "execution_count": 109,
     "metadata": {},
     "output_type": "execute_result"
    },
    {
     "data": {
      "image/png": "[encoded data removed]",
      "text/plain": [
       "<matplotlib.figure.Figure at 0x1062d9090>"
      ]
     },
     "metadata": {},
     "output_type": "display_data"
    }
   ],
   "source": [
    "# x와 y는 0에서 5까지 50단계로 나눈 배열임\n",
    "x = np.linspace(0, 5, 50)\n",
    "display(x)\n",
    "\n",
    "y = np.linspace(0, 50, 50)[:, np.newaxis]\n",
    "display(y)\n",
    "\n",
    "z = np.sin(x) ** 10 + np.cos(10 + y * x) + np.cos(x)\n",
    "display(z)\n",
    "\n",
    "# 2차원 배열을 플로팅(plotting) 하는 데 Matplotlib을 사용할 것이다.\n",
    "%matplotlib inline\n",
    "import matplotlib.pyplot as plt\n",
    "plt.imshow(z, origin='lower', extent = [0, 5, 0, 5], cmap='viridis')\n",
    "plt.colorbar()"
   ]
  },
  {
   "cell_type": "markdown",
   "metadata": {},
   "source": [
    "## Numpy 유니버설 함수\n",
    "- Numpy universal function : https://docs.scipy.org/doc/numpy/reference/ufuncs.html"
   ]
  },
  {
   "cell_type": "markdown",
   "metadata": {},
   "source": [
    "## `np.random.seed` vs `np.random.RandomState`"
   ]
  },
  {
   "cell_type": "code",
   "execution_count": 110,
   "metadata": {
    "collapsed": false
   },
   "outputs": [
    {
     "data": {
      "text/plain": [
       "array([ 1.9151945 ,  6.22108771,  4.37727739,  7.85358584,  7.79975808])"
      ]
     },
     "metadata": {},
     "output_type": "display_data"
    },
    {
     "data": {
      "text/plain": [
       "array([[ 0.27259261,  0.27646426,  0.80187218],\n",
       "       [ 0.95813935,  0.87593263,  0.35781727]])"
      ]
     },
     "metadata": {},
     "output_type": "display_data"
    }
   ],
   "source": [
    "import numpy as np\n",
    "from IPython.display import display\n",
    "\n",
    "# np.random.seed\n",
    "# seed를 바꿀 수 있다. 그러면 random을 사용하게 되면 바뀐 seed가 그대로 적용된다.\n",
    "np.random.seed(1234)\n",
    "display(np.random.uniform(0, 10, 5))\n",
    "display(np.random.rand(2, 3))"
   ]
  },
  {
   "cell_type": "code",
   "execution_count": 111,
   "metadata": {
    "collapsed": false
   },
   "outputs": [
    {
     "data": {
      "text/plain": [
       "array([ 1.9151945 ,  6.22108771,  4.37727739,  7.85358584,  7.79975808])"
      ]
     },
     "metadata": {},
     "output_type": "display_data"
    },
    {
     "data": {
      "text/plain": [
       "array([[ 0.27259261,  0.27646426,  0.80187218],\n",
       "       [ 0.95813935,  0.87593263,  0.35781727]])"
      ]
     },
     "metadata": {},
     "output_type": "display_data"
    },
    {
     "data": {
      "text/plain": [
       "array([ 1.9151945 ,  6.22108771,  4.37727739,  7.85358584,  7.79975808])"
      ]
     },
     "metadata": {},
     "output_type": "display_data"
    },
    {
     "data": {
      "text/plain": [
       "array([[ 0.27259261,  0.27646426,  0.80187218],\n",
       "       [ 0.95813935,  0.87593263,  0.35781727]])"
      ]
     },
     "metadata": {},
     "output_type": "display_data"
    }
   ],
   "source": [
    "# np.random.Randomstate\n",
    "# Random number gererator이다. 클래스이다. 따라서 rng1, rng2를 모두 사용할 수 있다.\n",
    "rng1 = np.random.RandomState(1234)\n",
    "display(rng1.uniform(0, 10, 5))\n",
    "display(rng1.rand(2, 3))\n",
    "\n",
    "rng1 = np.random.RandomState(1234)\n",
    "display(rng1.uniform(0, 10, 5))\n",
    "display(rng1.rand(2, 3))"
   ]
  },
  {
   "cell_type": "markdown",
   "metadata": {},
   "source": [
    "## 비교를 이용한 마스킹 연산, Bool 마스크"
   ]
  },
  {
   "cell_type": "markdown",
   "metadata": {},
   "source": [
    "- **마스킹** : 특정 기준에 따라 배열의 값을 추출하거나 수정, 계산 조작할 때 사용하는 것. 특정 값보다 더 큰 값을 모두 세거나 특정 임계치를 넘어서는 이상치를 모두 제거하려는 경우가 여기에 해당"
   ]
  },
  {
   "cell_type": "markdown",
   "metadata": {},
   "source": [
    "### 1. ufunc으로서의 비교 연산자"
   ]
  },
  {
   "cell_type": "code",
   "execution_count": 112,
   "metadata": {
    "collapsed": false
   },
   "outputs": [
    {
     "name": "stdout",
     "output_type": "stream",
     "text": [
      "x < 3 : [ True  True False False False]\n",
      "x > 3 : [False False False  True  True]\n",
      "x >= 3 : [False False  True  True  True]\n",
      "x <= 3 : [ True  True  True False False]\n",
      "x != 3 : [ True  True False  True  True]\n"
     ]
    }
   ],
   "source": [
    "\"\"\"표준 비교 연산자\"\"\"\n",
    "x = np.array([1, 2, 3, 4, 5])\n",
    "\n",
    "# x < 3은, NumPy 내부적으로 np.less(x, 3)을 사용\n",
    "print \"x < 3 :\", x < 3\n",
    "print \"x > 3 :\", x > 3\n",
    "print \"x >= 3 :\", x >= 3\n",
    "print \"x <= 3 :\", x <= 3\n",
    "print \"x != 3 :\", x != 3"
   ]
  },
  {
   "cell_type": "code",
   "execution_count": 113,
   "metadata": {
    "collapsed": false
   },
   "outputs": [
    {
     "data": {
      "text/plain": [
       "array([False,  True, False, False, False], dtype=bool)"
      ]
     },
     "execution_count": 113,
     "metadata": {},
     "output_type": "execute_result"
    }
   ],
   "source": [
    "\"\"\"두 배열을 항목별로 비교\"\"\"\n",
    "\n",
    "# 내부적으로 np.equal(2 * x, x ** 2)를 사용\n",
    "(2 * x) == (x ** 2)"
   ]
  },
  {
   "cell_type": "code",
   "execution_count": 114,
   "metadata": {
    "collapsed": false
   },
   "outputs": [
    {
     "data": {
      "text/plain": [
       "array([[5, 0, 3, 3],\n",
       "       [7, 9, 3, 5],\n",
       "       [2, 4, 7, 6]])"
      ]
     },
     "metadata": {},
     "output_type": "display_data"
    },
    {
     "data": {
      "text/plain": [
       "array([[ True,  True,  True,  True],\n",
       "       [False, False,  True,  True],\n",
       "       [ True,  True, False, False]], dtype=bool)"
      ]
     },
     "metadata": {},
     "output_type": "display_data"
    }
   ],
   "source": [
    "\"\"\"2차원 배열에도 적용된다. 즉 모든 크기와 형상의 배열에 적용된다.\"\"\"\n",
    "\n",
    "# random number generator를 생성한다.\n",
    "rng = np.random.RandomState(0)\n",
    "x = rng.randint(10, size = (3, 4))\n",
    "\n",
    "display(x)\n",
    "display(x < 6)"
   ]
  },
  {
   "cell_type": "markdown",
   "metadata": {},
   "source": [
    "### 2. 부울 배열로 작업하기"
   ]
  },
  {
   "cell_type": "markdown",
   "metadata": {},
   "source": [
    "> 요소 개수 세기"
   ]
  },
  {
   "cell_type": "code",
   "execution_count": 115,
   "metadata": {
    "collapsed": false
   },
   "outputs": [
    {
     "data": {
      "text/plain": [
       "array([[5, 0, 3, 3],\n",
       "       [7, 9, 3, 5],\n",
       "       [2, 4, 7, 6]])"
      ]
     },
     "metadata": {},
     "output_type": "display_data"
    },
    {
     "name": "stdout",
     "output_type": "stream",
     "text": [
      "8\n",
      "8\n"
     ]
    }
   ],
   "source": [
    "display(x)\n",
    "\n",
    "# count_nonzero 함수를 사용한다.\n",
    "print np.count_nonzero(x < 6)\n",
    "\n",
    "# False : 0, True : 1\n",
    "print np.sum(x < 6)"
   ]
  },
  {
   "cell_type": "code",
   "execution_count": 116,
   "metadata": {
    "collapsed": false
   },
   "outputs": [
    {
     "data": {
      "text/plain": [
       "array([4, 2, 2])"
      ]
     },
     "execution_count": 116,
     "metadata": {},
     "output_type": "execute_result"
    }
   ],
   "source": [
    "# 각 행에 6보다 작은 값이 몇 개일까? 각 행에 대해서 작업해야 하므로,\n",
    "# axis에서 열의(1) 성향을 제거해준다.\n",
    "\n",
    "np.sum(x < 6, axis = 1)"
   ]
  },
  {
   "cell_type": "code",
   "execution_count": 117,
   "metadata": {
    "collapsed": false
   },
   "outputs": [
    {
     "name": "stdout",
     "output_type": "stream",
     "text": [
      "True\n",
      "False\n",
      "True\n"
     ]
    },
    {
     "data": {
      "text/plain": [
       "array([ True, False,  True,  True], dtype=bool)"
      ]
     },
     "metadata": {},
     "output_type": "display_data"
    }
   ],
   "source": [
    "# 8보다 큰 값이 하나라도 있는가?\n",
    "print np.any(x < 8)\n",
    "\n",
    "# 0보다 작은 값이 하나라도 있는가?\n",
    "print np.any(x < 0)\n",
    "\n",
    "# 모든 값이 10보다 작은가?\n",
    "print np.all(x < 10)\n",
    "\n",
    "# 각 열의 모든 값이 7보다 이하인가?\n",
    "display(np.all(x <= 7, axis = 0))"
   ]
  },
  {
   "cell_type": "markdown",
   "metadata": {},
   "source": [
    "### 3. 마스크로서의 부울배열\n",
    " - 부울 배열을 마스크로 사용해 데이터 자체의 특정 부분 집합을 선택하는 것."
   ]
  },
  {
   "cell_type": "code",
   "execution_count": 118,
   "metadata": {
    "collapsed": false
   },
   "outputs": [
    {
     "data": {
      "text/plain": [
       "array([[5, 0, 3, 3],\n",
       "       [7, 9, 3, 5],\n",
       "       [2, 4, 7, 6]])"
      ]
     },
     "metadata": {},
     "output_type": "display_data"
    },
    {
     "data": {
      "text/plain": [
       "array([[False,  True,  True,  True],\n",
       "       [False, False,  True, False],\n",
       "       [ True,  True, False, False]], dtype=bool)"
      ]
     },
     "metadata": {},
     "output_type": "display_data"
    },
    {
     "data": {
      "text/plain": [
       "array([0, 3, 3, 3, 2, 4])"
      ]
     },
     "metadata": {},
     "output_type": "display_data"
    }
   ],
   "source": [
    "\"\"\"5보다 작은 배열 내 값을 추출하자.\"\"\" \n",
    "display(x)\n",
    "\n",
    "# 마스킹 연산\n",
    "display(x < 5)\n",
    "\n",
    "# 부울 마스크\n",
    "display(x[x < 5])"
   ]
  },
  {
   "cell_type": "markdown",
   "metadata": {},
   "source": [
    "### 4. 배열연산으로 조건절 표현하기"
   ]
  },
  {
   "cell_type": "markdown",
   "metadata": {},
   "source": [
    "#### Quiz 3\n",
    "- 3개의 배열이 주어졌을 때, 아래의 조건에 따라 새롭게 생성되는 배열을 구하시오\n",
    " - `cond[i]`가 `true`이면, `xarr[i]`를 선택\n",
    " - `cond[i]`가 `false`이면, `yarr[i]`를 선택\n",
    " \n",
    "```python\n",
    "xarr = np.array([1.1, 1.2, 1.3, 1.4, 1.5])\n",
    "yarr = np.array([2.1, 2.2, 2.3, 2.4, 2.5])\n",
    "cond = np.array([True, False, True, True, False])```"
   ]
  },
  {
   "cell_type": "code",
   "execution_count": 119,
   "metadata": {
    "collapsed": true
   },
   "outputs": [],
   "source": [
    "# Quiz Solution"
   ]
  },
  {
   "cell_type": "code",
   "execution_count": 120,
   "metadata": {
    "collapsed": false
   },
   "outputs": [
    {
     "data": {
      "text/plain": [
       "array([ 1.1,  2.2,  1.3,  1.4,  2.5])"
      ]
     },
     "execution_count": 120,
     "metadata": {},
     "output_type": "execute_result"
    }
   ],
   "source": [
    "xarr = np.array([1.1, 1.2, 1.3, 1.4, 1.5])\n",
    "yarr = np.array([2.1, 2.2, 2.3, 2.4, 2.5])\n",
    "cond = np.array([True, False, True, True, False])\n",
    "\n",
    "np.where(cond, xarr, yarr)"
   ]
  },
  {
   "cell_type": "markdown",
   "metadata": {},
   "source": [
    "#### Quiz 4 : 아래와 같이 크기가 11인 배열이 주어졌을 때, 5번째 원소부터 9번째 원소까지를 음수로 바꾸어 보시오."
   ]
  },
  {
   "cell_type": "code",
   "execution_count": 121,
   "metadata": {
    "collapsed": false
   },
   "outputs": [],
   "source": [
    "quiz4Arr = np.arange(11)"
   ]
  },
  {
   "cell_type": "markdown",
   "metadata": {},
   "source": [
    "## 팬시 인덱싱\n",
    "- 복잡한 배열 값의 하위 집합에 매우 빠르게 접근해 그것을 수정할 수 있다.\n",
    "- 보편적으로 행렬에서 행의 부분집합을 선택하는데에 사용된다."
   ]
  },
  {
   "cell_type": "markdown",
   "metadata": {},
   "source": [
    "### 1. 팬시 인덱싱 알아보기\n",
    "> 예시 1"
   ]
  },
  {
   "cell_type": "code",
   "execution_count": 122,
   "metadata": {
    "collapsed": false
   },
   "outputs": [
    {
     "data": {
      "text/plain": [
       "array([51, 92, 14, 71, 60, 20, 82, 86, 74, 74])"
      ]
     },
     "execution_count": 122,
     "metadata": {},
     "output_type": "execute_result"
    }
   ],
   "source": [
    "# random generator 생성\n",
    "rand = np.random.RandomState(42)\n",
    "x = rand.randint(100, size = 10)\n",
    "x"
   ]
  },
  {
   "cell_type": "code",
   "execution_count": 123,
   "metadata": {
    "collapsed": false
   },
   "outputs": [
    {
     "data": {
      "text/plain": [
       "[71, 86, 60]"
      ]
     },
     "metadata": {},
     "output_type": "display_data"
    },
    {
     "data": {
      "text/plain": [
       "array([71, 86, 60])"
      ]
     },
     "metadata": {},
     "output_type": "display_data"
    }
   ],
   "source": [
    "# 3, 7, 4 번 인덱스에 접근하여 해당 데이터를 추출 방법 1\n",
    "display([x[3], x[7], x[4]])\n",
    "\n",
    "# 3, 7, 4 번 인덱스에 접근하여 해당 데이터를 추출 방법 2\n",
    "idx = [3, 7, 4]\n",
    "display(x[idx])"
   ]
  },
  {
   "cell_type": "code",
   "execution_count": 124,
   "metadata": {
    "collapsed": false
   },
   "outputs": [
    {
     "data": {
      "text/plain": [
       "array([[71, 86],\n",
       "       [60, 20]])"
      ]
     },
     "execution_count": 124,
     "metadata": {},
     "output_type": "execute_result"
    }
   ],
   "source": [
    "\"\"\"팬시 인덱싱\"\"\"\n",
    "\n",
    "# x : 인덱싱 대상 배열\n",
    "# idx : 인덱싱 배열\n",
    "idx = np.array([[3, 7],\n",
    "               [4, 5]])\n",
    "\n",
    "# 호출할 인덱스가 정수가 아닌 다차원 배열이 된다.\n",
    "x[idx]"
   ]
  },
  {
   "cell_type": "markdown",
   "metadata": {},
   "source": [
    "> 예시 2"
   ]
  },
  {
   "cell_type": "code",
   "execution_count": 125,
   "metadata": {
    "collapsed": false
   },
   "outputs": [
    {
     "data": {
      "text/plain": [
       "array([[ 0,  1,  2,  3],\n",
       "       [ 4,  5,  6,  7],\n",
       "       [ 8,  9, 10, 11]])"
      ]
     },
     "execution_count": 125,
     "metadata": {},
     "output_type": "execute_result"
    }
   ],
   "source": [
    "x = np.arange(12).reshape((3, 4))\n",
    "x"
   ]
  },
  {
   "cell_type": "code",
   "execution_count": 126,
   "metadata": {
    "collapsed": false
   },
   "outputs": [
    {
     "data": {
      "text/plain": [
       "array([ 2,  5, 11])"
      ]
     },
     "execution_count": 126,
     "metadata": {},
     "output_type": "execute_result"
    }
   ],
   "source": [
    "# x에서 (row : 0, col : 2), (1, 1), (2, 3) 원소를 추출하자. \n",
    "row_idx = np.array([0, 1, 2])\n",
    "col_idx = np.array([2, 1, 3])\n",
    "\n",
    "# zip 함수와 비슷하게 연산한다.\n",
    "x[row_idx, col_idx]"
   ]
  },
  {
   "cell_type": "markdown",
   "metadata": {},
   "source": [
    "### 2. 결합 인덱싱"
   ]
  },
  {
   "cell_type": "code",
   "execution_count": 127,
   "metadata": {
    "collapsed": false
   },
   "outputs": [
    {
     "data": {
      "text/plain": [
       "array([[ 0,  1,  2,  3],\n",
       "       [ 4,  5,  6,  7],\n",
       "       [ 8,  9, 10, 11]])"
      ]
     },
     "metadata": {},
     "output_type": "display_data"
    },
    {
     "data": {
      "text/plain": [
       "array([10,  8,  9])"
      ]
     },
     "metadata": {},
     "output_type": "display_data"
    }
   ],
   "source": [
    "\"\"\"팬시 인덱스와 단순 인덱스를 결합\"\"\"\n",
    "display(x)\n",
    "\n",
    "# (row : 2, col : 2), (2, 0), (2, 1) 원소 출력\n",
    "display(x[2, [2, 0, 1]])"
   ]
  },
  {
   "cell_type": "code",
   "execution_count": 128,
   "metadata": {
    "collapsed": false
   },
   "outputs": [
    {
     "data": {
      "text/plain": [
       "array([[ 6,  4,  5],\n",
       "       [10,  8,  9]])"
      ]
     },
     "execution_count": 128,
     "metadata": {},
     "output_type": "execute_result"
    }
   ],
   "source": [
    "\"\"\"팬시 인덱싱과 슬라이싱을 결합\"\"\"\n",
    "# row index는 1, 2 즉 (row : 1, col : 2), (1, 0), (1, 1), (row : 2, col : 2), (2, 0), (2, 1)\n",
    "x[1:, [2, 0, 1]]"
   ]
  },
  {
   "cell_type": "code",
   "execution_count": 129,
   "metadata": {
    "collapsed": false
   },
   "outputs": [
    {
     "data": {
      "text/plain": [
       "array([[ 0,  1,  2,  3],\n",
       "       [ 4,  5,  6,  7],\n",
       "       [ 8,  9, 10, 11]])"
      ]
     },
     "metadata": {},
     "output_type": "display_data"
    },
    {
     "data": {
      "text/plain": [
       "array([0, 1, 2])"
      ]
     },
     "metadata": {},
     "output_type": "display_data"
    },
    {
     "data": {
      "text/plain": [
       "array([[ 0,  1,  2,  3],\n",
       "       [ 4,  5,  6,  7],\n",
       "       [ 8,  9, 10, 11]])"
      ]
     },
     "metadata": {},
     "output_type": "display_data"
    },
    {
     "data": {
      "text/plain": [
       "array([[ 0,  1,  2],\n",
       "       [ 4,  5,  6],\n",
       "       [ 8,  9, 10]])"
      ]
     },
     "metadata": {},
     "output_type": "display_data"
    }
   ],
   "source": [
    "\"\"\"팬시 인덱싱과 마스킹을 결합\"\"\"\n",
    "display(x)\n",
    "\n",
    "display(row_idx)\n",
    "\n",
    "# 인덱스가 [,] 가 아닌 [[]] 형태이기 때문에, 행들만 선택된다.\n",
    "display(x[row_idx])\n",
    "\n",
    "# 열들만 선택한다.\n",
    "display(x[:, row_idx])"
   ]
  },
  {
   "cell_type": "code",
   "execution_count": 130,
   "metadata": {
    "collapsed": false
   },
   "outputs": [
    {
     "data": {
      "text/plain": [
       "array([[0],\n",
       "       [1],\n",
       "       [2]])"
      ]
     },
     "metadata": {},
     "output_type": "display_data"
    },
    {
     "data": {
      "text/plain": [
       "array([[[ 0,  1,  2,  3]],\n",
       "\n",
       "       [[ 4,  5,  6,  7]],\n",
       "\n",
       "       [[ 8,  9, 10, 11]]])"
      ]
     },
     "metadata": {},
     "output_type": "display_data"
    },
    {
     "data": {
      "text/plain": [
       "(3, 1, 4)"
      ]
     },
     "metadata": {},
     "output_type": "display_data"
    },
    {
     "data": {
      "text/plain": [
       "array([[ 0,  2],\n",
       "       [ 4,  6],\n",
       "       [ 8, 10]])"
      ]
     },
     "metadata": {},
     "output_type": "display_data"
    }
   ],
   "source": [
    "# 컬럼을 선택할 때, 마스크를 주고 싶을 때.\n",
    "# 행을 열로 변경한다.\n",
    "display(row_idx[:, np.newaxis])\n",
    "\n",
    "display(x[row_idx[:, np.newaxis]])\n",
    "\n",
    "# 컬럼으로 fancy index를 구하면 shape이 변한다. 즉 2차원 배열이 아닌 3차원 배열(우리가 구하려는 것이 아닌 끝나지 않은 배열)\n",
    "display(x[row_idx[:, np.newaxis]].shape)\n",
    "\n",
    "mask = np.array([1, 0, 1, 0], dtype=bool)\n",
    "\n",
    "# row_idx : 0, 1, 2에 대하여 reshape이 된다. 그리고 mask와 결합을 한다. 그리고 0번, 2번 column만 추출한다.\n",
    "display(x[row_idx[:, np.newaxis], mask])"
   ]
  },
  {
   "cell_type": "markdown",
   "metadata": {},
   "source": [
    "### 예제 : 임의의 점 선택하기"
   ]
  },
  {
   "cell_type": "code",
   "execution_count": 131,
   "metadata": {
    "collapsed": false
   },
   "outputs": [
    {
     "data": {
      "text/plain": [
       "(100, 2)"
      ]
     },
     "execution_count": 131,
     "metadata": {},
     "output_type": "execute_result"
    }
   ],
   "source": [
    "# 2차원 정규분포에서 뽑아낸 D차원의 N개의 점을 표시하는 N by D 행렬\n",
    "mean = [0, 0]\n",
    "cov = [[1, 2],\n",
    "      [2, 5]]\n",
    "x = rand.multivariate_normal(mean, cov, 100)\n",
    "x.shape"
   ]
  },
  {
   "cell_type": "code",
   "execution_count": 132,
   "metadata": {
    "collapsed": false
   },
   "outputs": [
    {
     "data": {
      "text/plain": [
       "<matplotlib.collections.PathCollection at 0x1a187acc10>"
      ]
     },
     "execution_count": 132,
     "metadata": {},
     "output_type": "execute_result"
    },
    {
     "data": {
      "image/png": "[encoded data removed]",
      "text/plain": [
       "<matplotlib.figure.Figure at 0x1a186738d0>"
      ]
     },
     "metadata": {},
     "output_type": "display_data"
    }
   ],
   "source": [
    "# plotting 도구를 사용해 산점도로 이 점들을 시각화\n",
    "%matplotlib inline\n",
    "import matplotlib.pyplot as plt\n",
    "import seaborn\n",
    "seaborn.set()\n",
    "plt.scatter(x[:, 0], x[:, 1])"
   ]
  },
  {
   "cell_type": "code",
   "execution_count": 133,
   "metadata": {
    "collapsed": false
   },
   "outputs": [
    {
     "data": {
      "text/plain": [
       "array([22, 83, 43,  6, 96, 48,  8, 88, 30, 24, 64, 68, 62, 93, 72, 27, 94,\n",
       "       53,  1, 29])"
      ]
     },
     "metadata": {},
     "output_type": "display_data"
    }
   ],
   "source": [
    "\"\"\"팬시 인덱싱을 이용해 임의의 점 20개를 선택\"\"\"\n",
    "indices = np.random.choice(x.shape[0], 20, replace=False)\n",
    "display(indices)\n",
    "\n",
    "selection = x[indices]"
   ]
  },
  {
   "cell_type": "code",
   "execution_count": 134,
   "metadata": {
    "collapsed": false
   },
   "outputs": [
    {
     "data": {
      "text/plain": [
       "<matplotlib.collections.PathCollection at 0x1a188c4410>"
      ]
     },
     "execution_count": 134,
     "metadata": {},
     "output_type": "execute_result"
    },
    {
     "data": {
      "image/png": "[encoded data removed]",
      "text/plain": [
       "<matplotlib.figure.Figure at 0x1a187e1d50>"
      ]
     },
     "metadata": {},
     "output_type": "display_data"
    }
   ],
   "source": [
    "# 선택된 점을 살펴보자.\n",
    "plt.scatter(x[:, 0], x[:, 1], alpha=0.3)\n",
    "plt.scatter(selection[:, 0], selection[:, 1], facecolor='none', s=200)"
   ]
  },
  {
   "cell_type": "markdown",
   "metadata": {},
   "source": [
    "#### 통계 모델 검증을 위해 훈련/ 테스트 집단을 분할하거나 통계적 질문에 답하기 위해 샘플링 할 때 종종 필요한 데이터를 신속하게 분할하는데 자주 사용된다."
   ]
  },
  {
   "cell_type": "markdown",
   "metadata": {},
   "source": [
    "### 3. 팬시 인덱싱으로 값 변경하기"
   ]
  },
  {
   "cell_type": "code",
   "execution_count": 135,
   "metadata": {
    "collapsed": false
   },
   "outputs": [
    {
     "data": {
      "text/plain": [
       "array([0, 1, 2, 3, 4, 5, 6, 7, 8, 9])"
      ]
     },
     "metadata": {},
     "output_type": "display_data"
    },
    {
     "data": {
      "text/plain": [
       "array([ 0, 99, 99,  3, 99,  5,  6,  7, 99,  9])"
      ]
     },
     "metadata": {},
     "output_type": "display_data"
    }
   ],
   "source": [
    "x = np.arange(10)\n",
    "display(x)\n",
    "\n",
    "# 변경할 index\n",
    "idx = np.array([2, 1, 8, 4])\n",
    "\n",
    "# 팬시 인덱싱을 이용하여 값을 변경\n",
    "x[idx] = 99\n",
    "\n",
    "display(x)"
   ]
  },
  {
   "cell_type": "code",
   "execution_count": 136,
   "metadata": {
    "collapsed": false
   },
   "outputs": [
    {
     "data": {
      "text/plain": [
       "array([ 0, 89, 89,  3, 89,  5,  6,  7, 89,  9])"
      ]
     },
     "metadata": {},
     "output_type": "display_data"
    }
   ],
   "source": [
    "# 팬시 인덱싱을 이용하여 연산\n",
    "x[idx] -= 10\n",
    "display(x)"
   ]
  },
  {
   "cell_type": "code",
   "execution_count": 137,
   "metadata": {
    "collapsed": false
   },
   "outputs": [
    {
     "data": {
      "text/plain": [
       "array([ 0.,  0.,  0.,  0.,  0.,  0.,  0.,  0.,  0.,  0.])"
      ]
     },
     "metadata": {},
     "output_type": "display_data"
    },
    {
     "data": {
      "text/plain": [
       "array([ 0.,  0.,  1.,  1.,  1.,  0.,  0.,  0.,  0.,  0.])"
      ]
     },
     "metadata": {},
     "output_type": "display_data"
    }
   ],
   "source": [
    "# 동일한 index에서 반복적으로 값을 업데이트 해주는 법 잘못된 오해\n",
    "x = np.zeros(10)\n",
    "display(x)\n",
    "\n",
    "i = [2, 3, 3, 4, 4, 4]\n",
    "\n",
    "# 3번 index에서는 값이 2가 되고, 4번 index에서는 값이 3이 될 것 같다.\n",
    "x[i] += 1\n",
    "display(x)"
   ]
  },
  {
   "cell_type": "code",
   "execution_count": 138,
   "metadata": {
    "collapsed": false
   },
   "outputs": [
    {
     "data": {
      "text/plain": [
       "array([ 0.,  0.,  1.,  2.,  3.,  0.,  0.,  0.,  0.,  0.])"
      ]
     },
     "execution_count": 138,
     "metadata": {},
     "output_type": "execute_result"
    }
   ],
   "source": [
    "# 동일한 index에서 반복적으로 값을 업데이트 해주는 법\n",
    "x = np.zeros(10)\n",
    "i = [2, 3, 3, 4, 4, 4]\n",
    "\n",
    "np.add.at(x, i, 1)\n",
    "x"
   ]
  },
  {
   "cell_type": "markdown",
   "metadata": {},
   "source": [
    "### 예제 : 데이터 구간화"
   ]
  },
  {
   "cell_type": "code",
   "execution_count": 139,
   "metadata": {
    "collapsed": false
   },
   "outputs": [
    {
     "data": {
      "text/plain": [
       "array([-5.        , -4.47368421, -3.94736842, -3.42105263, -2.89473684,\n",
       "       -2.36842105, -1.84210526, -1.31578947, -0.78947368, -0.26315789,\n",
       "        0.26315789,  0.78947368,  1.31578947,  1.84210526,  2.36842105,\n",
       "        2.89473684,  3.42105263,  3.94736842,  4.47368421,  5.        ])"
      ]
     },
     "metadata": {},
     "output_type": "display_data"
    },
    {
     "data": {
      "text/plain": [
       "array([ 0.,  0.,  0.,  0.,  0.,  0.,  0.,  0.,  0.,  0.,  0.,  0.,  0.,\n",
       "        0.,  0.,  0.,  0.,  0.,  0.,  0.])"
      ]
     },
     "metadata": {},
     "output_type": "display_data"
    }
   ],
   "source": [
    "\"\"\"1,000개의 값이 있고 그 값들이 구간 배열에서 어디에 속하는지 빠르게 찾고 싶다.\"\"\"\n",
    "np.random.seed(42)\n",
    "\n",
    "# 표준 정규 분포에서 1000개의 값을 추출한다.\n",
    "x = np.random.randn(1000)\n",
    "\n",
    "# 20개의 구간 생성\n",
    "bins = np.linspace(-5, 5, 20)\n",
    "display(bins)\n",
    "\n",
    "# 20개의 구간에 속하는 값들의 빈도수를 체크하기 위한 영벡터\n",
    "counts = np.zeros_like(bins)\n",
    "display(counts)\n",
    "\n",
    "# 각 x에 대한 적절한 구간 찾기\n",
    "i = np.searchsorted(bins, x)\n",
    "\n",
    "# 각 구간에 1 더하기\n",
    "np.add.at(counts, i, 1)"
   ]
  },
  {
   "cell_type": "code",
   "execution_count": 140,
   "metadata": {
    "collapsed": false
   },
   "outputs": [
    {
     "data": {
      "text/plain": [
       "[<matplotlib.lines.Line2D at 0x1a18c7e950>]"
      ]
     },
     "execution_count": 140,
     "metadata": {},
     "output_type": "execute_result"
    },
    {
     "data": {
      "image/png": "[encoded data removed]",
      "text/plain": [
       "<matplotlib.figure.Figure at 0x106315e50>"
      ]
     },
     "metadata": {},
     "output_type": "display_data"
    }
   ],
   "source": [
    "# plotting을 한다.\n",
    "plt.plot(bins, counts, linestyle='steps')"
   ]
  },
  {
   "cell_type": "code",
   "execution_count": 141,
   "metadata": {
    "collapsed": false
   },
   "outputs": [
    {
     "data": {
      "text/plain": [
       "(array([   0.,    0.,    0.,    1.,    5.,   19.,   63.,  118.,  184.,\n",
       "         218.,  187.,  106.,   62.,   27.,    8.,    1.,    1.,    0.,    0.]),\n",
       " array([-5.        , -4.47368421, -3.94736842, -3.42105263, -2.89473684,\n",
       "        -2.36842105, -1.84210526, -1.31578947, -0.78947368, -0.26315789,\n",
       "         0.26315789,  0.78947368,  1.31578947,  1.84210526,  2.36842105,\n",
       "         2.89473684,  3.42105263,  3.94736842,  4.47368421,  5.        ]),\n",
       " <a list of 1 Patch objects>)"
      ]
     },
     "execution_count": 141,
     "metadata": {},
     "output_type": "execute_result"
    },
    {
     "data": {
      "image/png": "[encoded data removed]",
      "text/plain": [
       "<matplotlib.figure.Figure at 0x1a18d32810>"
      ]
     },
     "metadata": {},
     "output_type": "display_data"
    }
   ],
   "source": [
    "# Tip : hist 함수를 사용하자. 그리고 속력이 더 빠르다!\n",
    "plt.hist(x, bins, histtype='step')"
   ]
  },
  {
   "cell_type": "markdown",
   "metadata": {},
   "source": [
    "### 4. 배열 정렬\n",
    "> `np.sort`\n",
    "> - 기본적으로 퀵 정렬 알고리즘을 사용. merge sort나 heap sort로도 사용 가능."
   ]
  },
  {
   "cell_type": "code",
   "execution_count": 142,
   "metadata": {
    "collapsed": false
   },
   "outputs": [
    {
     "data": {
      "text/plain": [
       "array([2, 1, 4, 3, 5])"
      ]
     },
     "metadata": {},
     "output_type": "display_data"
    },
    {
     "data": {
      "text/plain": [
       "array([1, 2, 3, 4, 5])"
      ]
     },
     "metadata": {},
     "output_type": "display_data"
    }
   ],
   "source": [
    "# 입력값을 수정하지 않고 배열의 정렬 버전을 반환\n",
    "x = np.array([2, 1, 4, 3, 5])\n",
    "sorted_x = np.sort(x)\n",
    "\n",
    "display(x)\n",
    "display(sorted_x)"
   ]
  },
  {
   "cell_type": "code",
   "execution_count": 143,
   "metadata": {
    "collapsed": false
   },
   "outputs": [
    {
     "data": {
      "text/plain": [
       "array([ 1,  5,  6,  7,  8,  9, 10, 11])"
      ]
     },
     "metadata": {},
     "output_type": "display_data"
    }
   ],
   "source": [
    "# in-place 즉 배열을 그 자리에서 정렬\n",
    "x = np.array([10, 9, 8, 11, 1, 5, 7, 6])\n",
    "x.sort()\n",
    "\n",
    "display(x)"
   ]
  },
  {
   "cell_type": "markdown",
   "metadata": {},
   "source": [
    "> `np.argsort`\n",
    "> - 정렬된 요소의 인덱스를 반환"
   ]
  },
  {
   "cell_type": "code",
   "execution_count": 144,
   "metadata": {
    "collapsed": false
   },
   "outputs": [
    {
     "data": {
      "text/plain": [
       "array([1, 0, 3, 4, 2])"
      ]
     },
     "metadata": {},
     "output_type": "display_data"
    }
   ],
   "source": [
    "x = np.array([2, 1, 5, 3, 4])\n",
    "\n",
    "# 2의 경우 정렬결과 2번째이므로 1의 값, 1의 경우 정렬결과 1번째이므로 0의 값...\n",
    "i = np.argsort(x)\n",
    "\n",
    "display(i)"
   ]
  },
  {
   "cell_type": "markdown",
   "metadata": {},
   "source": [
    "#### Quiz 5 난수생성기를 사용하여 크기가 0부터 9까지의 숫자로 구성된, 크기가 20인 배열을 생성하고, 배열의 최대값을 0으로 만들어라."
   ]
  },
  {
   "cell_type": "code",
   "execution_count": 145,
   "metadata": {
    "collapsed": true
   },
   "outputs": [],
   "source": [
    "# Quiz 5 솔루션"
   ]
  },
  {
   "cell_type": "markdown",
   "metadata": {},
   "source": [
    "> 행이나 열 기준으로 정렬하기"
   ]
  },
  {
   "cell_type": "code",
   "execution_count": 146,
   "metadata": {
    "collapsed": false
   },
   "outputs": [
    {
     "data": {
      "text/plain": [
       "array([[6, 3, 7, 4, 6, 9],\n",
       "       [2, 6, 7, 4, 3, 7],\n",
       "       [7, 2, 5, 4, 1, 7],\n",
       "       [5, 1, 4, 0, 9, 5]])"
      ]
     },
     "metadata": {},
     "output_type": "display_data"
    }
   ],
   "source": [
    "# 행렬 생성\n",
    "rand = np.random.RandomState(42)\n",
    "x = rand.randint(0, 10, (4, 6))\n",
    "\n",
    "display(x)"
   ]
  },
  {
   "cell_type": "code",
   "execution_count": 147,
   "metadata": {
    "collapsed": false
   },
   "outputs": [
    {
     "data": {
      "text/plain": [
       "array([[2, 1, 4, 0, 1, 5],\n",
       "       [5, 2, 5, 4, 3, 7],\n",
       "       [6, 3, 7, 4, 6, 7],\n",
       "       [7, 6, 7, 4, 9, 9]])"
      ]
     },
     "execution_count": 147,
     "metadata": {},
     "output_type": "execute_result"
    }
   ],
   "source": [
    "# x의 각 열을 정렬\n",
    "np.sort(x, axis=0)"
   ]
  },
  {
   "cell_type": "code",
   "execution_count": 148,
   "metadata": {
    "collapsed": false
   },
   "outputs": [
    {
     "data": {
      "text/plain": [
       "array([[3, 4, 6, 6, 7, 9],\n",
       "       [2, 3, 4, 6, 7, 7],\n",
       "       [1, 2, 4, 5, 7, 7],\n",
       "       [0, 1, 4, 5, 5, 9]])"
      ]
     },
     "execution_count": 148,
     "metadata": {},
     "output_type": "execute_result"
    }
   ],
   "source": [
    "# x의 각 행을 정렬\n",
    "np.sort(x, axis=1)"
   ]
  },
  {
   "cell_type": "markdown",
   "metadata": {},
   "source": [
    "### 5. 부분 정렬 : 파티션 나누기\n",
    "- 전체 배열을 정렬할 필요 없이, 단순히 배열에서 K개의 가장 작은 값을 찾고 싶은 경우"
   ]
  },
  {
   "cell_type": "code",
   "execution_count": 149,
   "metadata": {
    "collapsed": false
   },
   "outputs": [
    {
     "data": {
      "text/plain": [
       "array([2, 1, 3, 4, 6, 5, 7])"
      ]
     },
     "execution_count": 149,
     "metadata": {},
     "output_type": "execute_result"
    }
   ],
   "source": [
    "\"\"\"일차원 배열의 파티션 나누기\"\"\"\n",
    "x= np.array([7, 2, 3, 1, 6, 5, 4])\n",
    "\n",
    "# 배열 내에서 가장 작은 값 3개는 배열의 좌측으로, 나머지 값은 배열의 우측 (두 파티션 내의 요소는 임의의 순서를 가진다.)\n",
    "np.partition(x, 3)"
   ]
  },
  {
   "cell_type": "code",
   "execution_count": 150,
   "metadata": {
    "collapsed": false
   },
   "outputs": [
    {
     "data": {
      "text/plain": [
       "array([[3, 4, 6, 7, 6, 9],\n",
       "       [2, 3, 4, 7, 6, 7],\n",
       "       [1, 2, 4, 5, 7, 7],\n",
       "       [0, 1, 4, 5, 9, 5]])"
      ]
     },
     "execution_count": 150,
     "metadata": {},
     "output_type": "execute_result"
    }
   ],
   "source": [
    "\"\"\"다차원 배열의 임의의 축을 따라 파티션 나누기\"\"\"\n",
    "rand = np.random.RandomState(42)\n",
    "y = rand.randint(0, 10, (4, 6))\n",
    "\n",
    "# 행렬의 각 row에서 2개의 클러스터로 구분하고, 가장 작은 값 2개를 좌측으로 구분\n",
    "np.partition(y, 2, axis=1)"
   ]
  },
  {
   "cell_type": "markdown",
   "metadata": {},
   "source": [
    "## 구조화된 데이터 :  NumPy의 구조화된 배열\n",
    "### 1. 구조화된 데이터 알아보기"
   ]
  },
  {
   "cell_type": "code",
   "execution_count": 151,
   "metadata": {
    "collapsed": false
   },
   "outputs": [],
   "source": [
    "# 여러 사람에 대한 다양한 종류의 데이터를 표현하는 방법 - 다소 이해하기 쉽지 않다.\n",
    "name = ['Alice', 'Bob', 'Cathy', 'Doug']\n",
    "age = [25, 45, 37, 19]\n",
    "weight = [55.0, 85.5, 68.0, 61.5]"
   ]
  },
  {
   "cell_type": "code",
   "execution_count": 152,
   "metadata": {
    "collapsed": false
   },
   "outputs": [
    {
     "data": {
      "text/plain": [
       "array([(u'', 0,  0.), (u'', 0,  0.), (u'', 0,  0.), (u'', 0,  0.)], \n",
       "      dtype=[('name', '<U10'), ('age', '<i4'), ('weight', '<f8')])"
      ]
     },
     "execution_count": 152,
     "metadata": {},
     "output_type": "execute_result"
    }
   ],
   "source": [
    "\"\"\"복합 데이터 타입을 가지는 배열인 구조화된 배열을 통해 처리해보자\"\"\"\n",
    "\n",
    "# 복합 데이터 타입을 지정\n",
    "# U10 : 최대 길이 10일 갖는 유니코드 문자열\n",
    "# i4 : 4바이트 정수\n",
    "# f8 : 8바이트 부동 소수점\n",
    "data = np.zeros(4, dtype = {'names':('name', 'age', 'weight'),\n",
    "                        'formats':('U10', 'i4', 'f8')})\n",
    "\n",
    "data"
   ]
  },
  {
   "cell_type": "code",
   "execution_count": 153,
   "metadata": {
    "collapsed": false
   },
   "outputs": [
    {
     "data": {
      "text/plain": [
       "array([(u'Alice', 25,  55. ), (u'Bob', 45,  85.5), (u'Cathy', 37,  68. ),\n",
       "       (u'Doug', 19,  61.5)], \n",
       "      dtype=[('name', '<U10'), ('age', '<i4'), ('weight', '<f8')])"
      ]
     },
     "execution_count": 153,
     "metadata": {},
     "output_type": "execute_result"
    }
   ],
   "source": [
    "data['name'] = name\n",
    "data['age'] = age\n",
    "data['weight'] = weight\n",
    "\n",
    "data"
   ]
  },
  {
   "cell_type": "code",
   "execution_count": 154,
   "metadata": {
    "collapsed": false
   },
   "outputs": [
    {
     "data": {
      "text/plain": [
       "array([u'Alice', u'Bob', u'Cathy', u'Doug'], \n",
       "      dtype='<U10')"
      ]
     },
     "metadata": {},
     "output_type": "display_data"
    },
    {
     "data": {
      "text/plain": [
       "(u'Alice', 25,  55.)"
      ]
     },
     "metadata": {},
     "output_type": "display_data"
    },
    {
     "data": {
      "text/plain": [
       "u'Doug'"
      ]
     },
     "metadata": {},
     "output_type": "display_data"
    }
   ],
   "source": [
    "# 전체 이름 가져오기\n",
    "display(data['name'])\n",
    "\n",
    "# 데이터의 첫 번째 행 가져오기\n",
    "display(data[0])\n",
    "\n",
    "# 마지막 행의 이름 가져오기\n",
    "display(data[-1]['name'])"
   ]
  },
  {
   "cell_type": "code",
   "execution_count": 155,
   "metadata": {
    "collapsed": false
   },
   "outputs": [
    {
     "data": {
      "text/plain": [
       "array([[ 1.,  1.,  1.,  1.,  1.,  1.,  1.,  1.,  1.,  1.],\n",
       "       [ 1.,  0.,  0.,  0.,  0.,  0.,  0.,  0.,  0.,  1.],\n",
       "       [ 1.,  0.,  0.,  0.,  0.,  0.,  0.,  0.,  0.,  1.],\n",
       "       [ 1.,  0.,  0.,  0.,  0.,  0.,  0.,  0.,  0.,  1.],\n",
       "       [ 1.,  0.,  0.,  0.,  0.,  0.,  0.,  0.,  0.,  1.],\n",
       "       [ 1.,  0.,  0.,  0.,  0.,  0.,  0.,  0.,  0.,  1.],\n",
       "       [ 1.,  0.,  0.,  0.,  0.,  0.,  0.,  0.,  0.,  1.],\n",
       "       [ 1.,  0.,  0.,  0.,  0.,  0.,  0.,  0.,  0.,  1.],\n",
       "       [ 1.,  0.,  0.,  0.,  0.,  0.,  0.,  0.,  0.,  1.],\n",
       "       [ 1.,  1.,  1.,  1.,  1.,  1.,  1.,  1.,  1.,  1.]])"
      ]
     },
     "execution_count": 155,
     "metadata": {},
     "output_type": "execute_result"
    }
   ],
   "source": [
    "# Quiz 1 답\n",
    "Z = np.ones((10,10))\n",
    "Z[1:-1,1:-1] = 0\n",
    "Z"
   ]
  },
  {
   "cell_type": "code",
   "execution_count": 156,
   "metadata": {
    "collapsed": false
   },
   "outputs": [
    {
     "data": {
      "text/plain": [
       "array([-1.5, -1.5, -1.5])"
      ]
     },
     "execution_count": 156,
     "metadata": {},
     "output_type": "execute_result"
    }
   ],
   "source": [
    "# Quiz 2 답\n",
    "np.add(A,B,out=B)\n",
    "np.divide(A,2,out=A)\n",
    "np.negative(A,out=A)\n",
    "np.multiply(A,B,out=A)"
   ]
  },
  {
   "cell_type": "code",
   "execution_count": 157,
   "metadata": {
    "collapsed": false
   },
   "outputs": [
    {
     "data": {
      "text/plain": [
       "[1.1000000000000001, 2.2000000000000002, 1.3, 1.3999999999999999, 2.5]"
      ]
     },
     "execution_count": 157,
     "metadata": {},
     "output_type": "execute_result"
    }
   ],
   "source": [
    "# Quiz 3 답\n",
    "[x if c else y for x, y, c in zip(xarr, yarr, cond)]"
   ]
  },
  {
   "cell_type": "code",
   "execution_count": 158,
   "metadata": {
    "collapsed": false
   },
   "outputs": [
    {
     "data": {
      "text/plain": [
       "array([ 0,  1,  2,  3, -4, -5, -6, -7, -8,  9, 10])"
      ]
     },
     "execution_count": 158,
     "metadata": {},
     "output_type": "execute_result"
    }
   ],
   "source": [
    "# Quiz 4 답\n",
    "quiz4Arr[(3 < quiz4Arr) & (quiz4Arr <= 8)] *= -1\n",
    "quiz4Arr"
   ]
  },
  {
   "cell_type": "code",
   "execution_count": 159,
   "metadata": {
    "collapsed": false
   },
   "outputs": [
    {
     "data": {
      "text/plain": [
       "array([6, 0, 7, 2, 5, 8, 5, 8, 6, 8, 1, 7, 7, 1, 3, 6, 3, 3, 5, 9])"
      ]
     },
     "metadata": {},
     "output_type": "display_data"
    },
    {
     "data": {
      "text/plain": [
       "19"
      ]
     },
     "metadata": {},
     "output_type": "display_data"
    },
    {
     "data": {
      "text/plain": [
       "array([6, 0, 7, 2, 5, 8, 5, 8, 6, 8, 1, 7, 7, 1, 3, 6, 3, 3, 5, 0])"
      ]
     },
     "metadata": {},
     "output_type": "display_data"
    }
   ],
   "source": [
    "# Quiz 5 답\n",
    "quiz5Arr = np.random.randint(0, 10, 20)\n",
    "display(quiz5Arr)\n",
    "\n",
    "display(np.argmax(quiz5Arr))\n",
    "\n",
    "quiz5Arr[np.argmax(quiz5Arr)] = 0\n",
    "display(quiz5Arr)"
   ]
  }
 ],
 "metadata": {
  "anaconda-cloud": {},
  "kernelspec": {
   "display_name": "Python [conda root]",
   "language": "python",
   "name": "conda-root-py"
  },
  "language_info": {
   "codemirror_mode": {
    "name": "ipython",
    "version": 2
   },
   "file_extension": ".py",
   "mimetype": "text/x-python",
   "name": "python",
   "nbconvert_exporter": "python",
   "pygments_lexer": "ipython2",
   "version": "2.7.12"
  }
 },
 "nbformat": 4,
 "nbformat_minor": 1
}
