{
 "cells": [
  {
   "cell_type": "markdown",
   "metadata": {
    "collapsed": true
   },
   "source": [
    "# Class\n",
    "### Class는 왜 필요한가?"
   ]
  },
  {
   "cell_type": "code",
   "execution_count": 1,
   "metadata": {
    "collapsed": false
   },
   "outputs": [
    {
     "name": "stdout",
     "output_type": "stream",
     "text": [
      "3\n",
      "7\n"
     ]
    }
   ],
   "source": [
    "# 계산기 예제\n",
    "result = 0\n",
    "\n",
    "def calculate(num):\n",
    "    global result\n",
    "    result += num\n",
    "    return result\n",
    "\n",
    "print calculate(3)\n",
    "print calculate(4)"
   ]
  },
  {
   "cell_type": "code",
   "execution_count": 2,
   "metadata": {
    "collapsed": false
   },
   "outputs": [
    {
     "name": "stdout",
     "output_type": "stream",
     "text": [
      "1번 Print : 3\n",
      "1번 Print : 7\n",
      "2번 Print : 3\n",
      "2번 Print : 10\n"
     ]
    }
   ],
   "source": [
    "# 계산기가 2개인 경우 예제\n",
    "result1 = 0\n",
    "result2 = 0\n",
    "\n",
    "def calculate1(num): # 1번 계산기\n",
    "    global result1\n",
    "    result1 += num\n",
    "    return result1\n",
    "\n",
    "def calculate2(num): # 2번 계산기\n",
    "    global result2\n",
    "    result2 += num\n",
    "    return result2\n",
    "\n",
    "print \"1번 Print :\", calculate1(3)\n",
    "print \"1번 Print :\", calculate1(4)\n",
    "\n",
    "print \"2번 Print :\", calculate2(3)\n",
    "print \"2번 Print :\", calculate2(7) # 2개 계산기의 계산결과가 서로 독립적이다."
   ]
  },
  {
   "cell_type": "markdown",
   "metadata": {},
   "source": [
    "- 독립적인 계산기를 더 많이 만들 경우, 더 많은 전역변수와 함수가 필요해진다. 더 나은 방법은 없을까?\n",
    "- 전역변수와 함수를 기본 틀(Class)로 생각하고, 계산기 여러개를 더 찍어내는 것은 어떨까?\n",
    "```python\n",
    "# 이 부분을 틀(Class)로 만든다.\n",
    "result = 0\n",
    "def calculate(num):\n",
    "    global result\n",
    "    result += num\n",
    "    return result\n",
    "```"
   ]
  },
  {
   "cell_type": "markdown",
   "metadata": {},
   "source": [
    "### Class vs Instance\n",
    "- Class는 붕어빵틀, Instance는 붕어빵이라고 생각하면 된다.\n",
    "- Class는 똑같은 무엇인가를 계속해서 만들어낼 수 있는 설계 도면이고, Instance는 Class에 의해서 만들어진 피조물이다."
   ]
  },
  {
   "cell_type": "markdown",
   "metadata": {},
   "source": [
    "### Object? Instance?\n",
    "- 클래스에 의해서 만들어진 객체를 인스턴스라고도 한다.\n",
    "- a = ClassA()의 경우\n",
    " - a는 객체 (a는 인스턴스라는 표현을 하지 않는다.)\n",
    " - a는 ClassA의 인스턴스 (a는 ClassA의 객체라는 표현을 하지 않는다.) \n",
    "- 즉 인스턴스라는 말은 특정 객체가 어떤 클래스의 객체인지를 관계 위주로 설명할 때 사용"
   ]
  },
  {
   "cell_type": "markdown",
   "metadata": {},
   "source": [
    "### 클래스 구조\n",
    "- 클래스 변수"
   ]
  },
  {
   "cell_type": "code",
   "execution_count": 3,
   "metadata": {
    "collapsed": false
   },
   "outputs": [
    {
     "data": {
      "text/plain": [
       "'Data science extension school lecture.'"
      ]
     },
     "execution_count": 3,
     "metadata": {},
     "output_type": "execute_result"
    }
   ],
   "source": [
    "class Lecture:\n",
    "    # 클래스 변수\n",
    "    title = \"Data science extension school lecture.\"\n",
    "\n",
    "# Lecture 클래스의 인스턴스 lecture_1를 생성한다.\n",
    "lecture_1 = Lecture()\n",
    "\n",
    "# 클래스 변수에 접근하는 방법\n",
    "lecture_1.title"
   ]
  },
  {
   "cell_type": "markdown",
   "metadata": {},
   "source": [
    "- 클래스 함수"
   ]
  },
  {
   "cell_type": "code",
   "execution_count": 4,
   "metadata": {
    "collapsed": false
   },
   "outputs": [
    {
     "name": "stdout",
     "output_type": "stream",
     "text": [
      "수강생 이름은 David 입니다.\n"
     ]
    }
   ],
   "source": [
    "class Lecture:\n",
    "    # 클래스 변수\n",
    "    title = \"Data science extension school lecture.\"\n",
    "    # 클래스 함수\n",
    "    def get_student_name(self, student):\n",
    "        print \"수강생 이름은 %s 입니다.\" % student\n",
    "        \n",
    "# Lecture 클래스의 인스턴스 lecture_2를 생성한다.\n",
    "lecture_2 = Lecture()\n",
    "\n",
    "# 클래스 함수를 호출하는 방법. self는 왜 없는가?\n",
    "lecture_2.get_student_name(\"David\")"
   ]
  },
  {
   "cell_type": "markdown",
   "metadata": {},
   "source": [
    "- **`self`**\n",
    " - `get_student_name(self, name)` 이 코드에서 첫번째 입력 인수는 **`self`**이다. 하지만 클래스 함수를 호출할 때는 2번째 입력 인수만 input으로 주어졌다.\n",
    " - `lecture_2.get_student_name(\"David\")` 라는 호출이 발생하면 **`self`**는 호출 시 이용했던 <U>인스턴스로 바뀌게 된다</U>.\n",
    " - **`self`**는 인스턴스 그 자신을 가리킨다."
   ]
  },
  {
   "cell_type": "code",
   "execution_count": 5,
   "metadata": {
    "collapsed": false
   },
   "outputs": [
    {
     "name": "stdout",
     "output_type": "stream",
     "text": [
      "수강생 이름은 David 입니다.\n"
     ]
    }
   ],
   "source": [
    "# 원래라면\n",
    "Lecture.get_student_name(lecture_2, \"David\")"
   ]
  },
  {
   "cell_type": "code",
   "execution_count": 6,
   "metadata": {
    "collapsed": false
   },
   "outputs": [
    {
     "name": "stdout",
     "output_type": "stream",
     "text": [
      "수강생 이름은 David 입니다.\n"
     ]
    }
   ],
   "source": [
    "# 보편적인 사용은\n",
    "lecture_2.get_student_name(\"David\")"
   ]
  },
  {
   "cell_type": "markdown",
   "metadata": {},
   "source": [
    " - **`self`**는 왜 필요할까?\n",
    "  - Python이라는 언어가 개발된 원리를 깊이 알아야지 알 수 있으므로, <U>클래스 내 함수의 첫 번째 인수는 무조건 **`self`**로 사용해야 인스턴스의 함수로 사용할 수 있다</U>는 정도로만 알아두자."
   ]
  },
  {
   "cell_type": "markdown",
   "metadata": {},
   "source": [
    "- Instance Attribute"
   ]
  },
  {
   "cell_type": "code",
   "execution_count": 7,
   "metadata": {
    "collapsed": false
   },
   "outputs": [
    {
     "name": "stdout",
     "output_type": "stream",
     "text": [
      "Math 수업을 듣는 수강생 이름은 David 입니다.\n"
     ]
    }
   ],
   "source": [
    "class Lecture:\n",
    "    # 클래스 변수\n",
    "    title = \"Data science extension school lecture.\"\n",
    "    # 클래스 함수\n",
    "    def get_student_name(self, student):\n",
    "        print \"%s 수업을 듣는 수강생 이름은 %s 입니다.\" % (self.name, student)\n",
    "    # 수업이름을 셋팅해 줄 수 있는 함수. self.name?\n",
    "    def set_name(self, name):\n",
    "        self.name = name\n",
    "\n",
    "lecture_3 = Lecture()\n",
    "# 수업이름을 셋팅한다.\n",
    "lecture_3.set_name(\"Math\")\n",
    "lecture_3.get_student_name(\"David\")"
   ]
  },
  {
   "cell_type": "markdown",
   "metadata": {},
   "source": [
    "1. `set_name(self, name)`이 호출되면, `self.name = name`이 실행된다. \n",
    "2. `self`는 객체 `lecture_3`으로 바뀌게 된다.\n",
    "3. 인스턴스 변수 `self.name`에 input 값이 할당된다. 즉 `lecture_3.name`에 값이 할당된다.\n",
    "4. `get_student_name(self, student)`이 호출되면, `self.name` 즉 `lecture_3.name`의 값을 가지고 온다."
   ]
  },
  {
   "cell_type": "code",
   "execution_count": 8,
   "metadata": {
    "collapsed": false
   },
   "outputs": [
    {
     "ename": "AttributeError",
     "evalue": "Lecture instance has no attribute 'name'",
     "output_type": "error",
     "traceback": [
      "\u001b[0;31m---------------------------------------------------------------------------\u001b[0m",
      "\u001b[0;31mAttributeError\u001b[0m                            Traceback (most recent call last)",
      "\u001b[0;32m<ipython-input-8-487d92b0f1c2>\u001b[0m in \u001b[0;36m<module>\u001b[0;34m()\u001b[0m\n\u001b[1;32m      1\u001b[0m \u001b[0;31m# 에러를 일으키는 코드\u001b[0m\u001b[0;34m\u001b[0m\u001b[0;34m\u001b[0m\u001b[0m\n\u001b[1;32m      2\u001b[0m \u001b[0mlecture4\u001b[0m \u001b[0;34m=\u001b[0m \u001b[0mLecture\u001b[0m\u001b[0;34m(\u001b[0m\u001b[0;34m)\u001b[0m\u001b[0;34m\u001b[0m\u001b[0m\n\u001b[0;32m----> 3\u001b[0;31m \u001b[0mlecture4\u001b[0m\u001b[0;34m.\u001b[0m\u001b[0mget_student_name\u001b[0m\u001b[0;34m(\u001b[0m\u001b[0;34m\"David\"\u001b[0m\u001b[0;34m)\u001b[0m\u001b[0;34m\u001b[0m\u001b[0m\n\u001b[0m",
      "\u001b[0;32m<ipython-input-7-46bf8acac5e8>\u001b[0m in \u001b[0;36mget_student_name\u001b[0;34m(self, student)\u001b[0m\n\u001b[1;32m      4\u001b[0m     \u001b[0;31m# 클래스 함수\u001b[0m\u001b[0;34m\u001b[0m\u001b[0;34m\u001b[0m\u001b[0m\n\u001b[1;32m      5\u001b[0m     \u001b[0;32mdef\u001b[0m \u001b[0mget_student_name\u001b[0m\u001b[0;34m(\u001b[0m\u001b[0mself\u001b[0m\u001b[0;34m,\u001b[0m \u001b[0mstudent\u001b[0m\u001b[0;34m)\u001b[0m\u001b[0;34m:\u001b[0m\u001b[0;34m\u001b[0m\u001b[0m\n\u001b[0;32m----> 6\u001b[0;31m         \u001b[0;32mprint\u001b[0m \u001b[0;34m\"%s 수업을 듣는 수강생 이름은 %s 입니다.\"\u001b[0m \u001b[0;34m%\u001b[0m \u001b[0;34m(\u001b[0m\u001b[0mself\u001b[0m\u001b[0;34m.\u001b[0m\u001b[0mname\u001b[0m\u001b[0;34m,\u001b[0m \u001b[0mstudent\u001b[0m\u001b[0;34m)\u001b[0m\u001b[0;34m\u001b[0m\u001b[0m\n\u001b[0m\u001b[1;32m      7\u001b[0m     \u001b[0;31m# 수업이름을 셋팅해 줄 수 있는 함수. self.name?\u001b[0m\u001b[0;34m\u001b[0m\u001b[0;34m\u001b[0m\u001b[0m\n\u001b[1;32m      8\u001b[0m     \u001b[0;32mdef\u001b[0m \u001b[0mset_name\u001b[0m\u001b[0;34m(\u001b[0m\u001b[0mself\u001b[0m\u001b[0;34m,\u001b[0m \u001b[0mname\u001b[0m\u001b[0;34m)\u001b[0m\u001b[0;34m:\u001b[0m\u001b[0;34m\u001b[0m\u001b[0m\n",
      "\u001b[0;31mAttributeError\u001b[0m: Lecture instance has no attribute 'name'"
     ]
    }
   ],
   "source": [
    "# 에러를 일으키는 코드\n",
    "lecture4 = Lecture()\n",
    "lecture4.get_student_name(\"David\")"
   ]
  },
  {
   "cell_type": "markdown",
   "metadata": {},
   "source": [
    "- **`__init__`**\n",
    " - 클래스를 정의하고, 그 <U>클래스의 인스턴스를 만들 때 반드시 실행</U>되는 코드들을 정의"
   ]
  },
  {
   "cell_type": "code",
   "execution_count": 9,
   "metadata": {
    "collapsed": false
   },
   "outputs": [
    {
     "name": "stdout",
     "output_type": "stream",
     "text": [
      "Math 수업을 듣는 수강생 이름은 David 입니다.\n"
     ]
    }
   ],
   "source": [
    "class Lecture:\n",
    "    title = \"Data science extension school lecture.\"\n",
    "\n",
    "    def __init__(self, name):\n",
    "        self.name = name\n",
    "        \n",
    "    def get_student_name(self, student):\n",
    "        print \"%s 수업을 듣는 수강생 이름은 %s 입니다.\" % (self.name, student)\n",
    "        \n",
    "# __init__ 함수의 입력 인수를 인스턴스 생성시 넘겨준다.        \n",
    "lecture5 = Lecture(\"Math\")\n",
    "lecture5.get_student_name(\"David\")"
   ]
  },
  {
   "cell_type": "markdown",
   "metadata": {},
   "source": [
    "### 클래스 만들기 예제 1 : 사칙연산\n",
    "- 클래스를 어떻게 만들지 먼저 구상\n",
    " - 필요한 기능\n",
    "    - 사칙연산을 하기 위해서, 두 숫자를 받는 기능(메소드 또는 함수)이 필요\n",
    "    - 더하기 기능\n",
    "    - 곱하기 기능\n",
    "    - 빼기 기능\n",
    "    - 나누기 기능    "
   ]
  },
  {
   "cell_type": "markdown",
   "metadata": {},
   "source": [
    "- 클래스의 기본 구조(뼈대) 만들기"
   ]
  },
  {
   "cell_type": "code",
   "execution_count": 10,
   "metadata": {
    "collapsed": true
   },
   "outputs": [],
   "source": [
    "class FourCal:\n",
    "    pass"
   ]
  },
  {
   "cell_type": "code",
   "execution_count": 11,
   "metadata": {
    "collapsed": false
   },
   "outputs": [
    {
     "data": {
      "text/plain": [
       "instance"
      ]
     },
     "execution_count": 11,
     "metadata": {},
     "output_type": "execute_result"
    }
   ],
   "source": [
    "# FourCal 클래스는 아무런 변수나 함수도 포함하지 않지만 객체를 생성할 수 있는 상태이다.\n",
    "a = FourCal()\n",
    "type(a)"
   ]
  },
  {
   "cell_type": "markdown",
   "metadata": {},
   "source": [
    "- 두 숫자를 받는 기능(**메소드 또는 클래스 함수**)를 생성\n",
    " - 계산을 하려면, 두 숫자를 받아서 인스턴스 변수로 들고 있도록 한다."
   ]
  },
  {
   "cell_type": "code",
   "execution_count": 12,
   "metadata": {
    "collapsed": true
   },
   "outputs": [],
   "source": [
    "class FourCal:\n",
    "    \"\"\"setdata는 FourCal의 클래스 메소드이다.\n",
    "    메소드의 첫번째 입력 인수는 self임을 잊지말자.\"\"\"\n",
    "    def setdata(self, first, second):\n",
    "        self.first = first\n",
    "        self.second = second"
   ]
  },
  {
   "cell_type": "code",
   "execution_count": 13,
   "metadata": {
    "collapsed": false
   },
   "outputs": [
    {
     "name": "stdout",
     "output_type": "stream",
     "text": [
      "4\n",
      "2\n"
     ]
    }
   ],
   "source": [
    "a = FourCal()\n",
    "a.setdata(4, 2)\n",
    "print a.first\n",
    "print a.second"
   ]
  },
  {
   "cell_type": "code",
   "execution_count": 14,
   "metadata": {
    "collapsed": false
   },
   "outputs": [
    {
     "name": "stdout",
     "output_type": "stream",
     "text": [
      "3\n",
      "7\n"
     ]
    }
   ],
   "source": [
    "b = FourCal()\n",
    "b.setdata(3, 7)\n",
    "print b.first\n",
    "print b.second"
   ]
  },
  {
   "cell_type": "markdown",
   "metadata": {},
   "source": [
    "a, b객체는 모두 `first`라고 하는 인스턴스 변수를 가지고 있지만, 값은 서로 다르다. 즉 a, b객체는 각자 고유한 저장 영역을 가지고 있다."
   ]
  },
  {
   "cell_type": "markdown",
   "metadata": {},
   "source": [
    "- 더하기 기능 만들기"
   ]
  },
  {
   "cell_type": "code",
   "execution_count": 15,
   "metadata": {
    "collapsed": false
   },
   "outputs": [
    {
     "name": "stdout",
     "output_type": "stream",
     "text": [
      "6\n",
      "10\n"
     ]
    }
   ],
   "source": [
    "class FourCal:\n",
    "    def setdata(self, first, second):\n",
    "        self.first = first\n",
    "        self.second = second\n",
    "        \n",
    "    # 클래스 메소드이므로 첫번째 입력 인수는 self\n",
    "    def sum(self):\n",
    "        result = self.first + self.second\n",
    "        return result\n",
    "    \n",
    "a = FourCal()\n",
    "a.setdata(4, 2)\n",
    "print a.sum()\n",
    "\n",
    "b = FourCal()\n",
    "b.setdata(3, 7)\n",
    "print b.sum()"
   ]
  },
  {
   "cell_type": "markdown",
   "metadata": {},
   "source": [
    "- 곱하기, 빼기, 나누기 기능 만들기"
   ]
  },
  {
   "cell_type": "code",
   "execution_count": 16,
   "metadata": {
    "collapsed": true
   },
   "outputs": [],
   "source": [
    "class FourCal:\n",
    "    def setdata(self, first, second):\n",
    "        self.first = first\n",
    "        self.second = second\n",
    "        \n",
    "    def sum(self):\n",
    "        result = self.first + self.second\n",
    "        return result\n",
    "    \n",
    "    def mul(self):\n",
    "        result = self.first * self.second\n",
    "        return result\n",
    "    \n",
    "    def sub(self):\n",
    "        result = self.first - self.second\n",
    "        return result\n",
    "    \n",
    "    def div(self):\n",
    "        result = self.first / self.second\n",
    "        return result"
   ]
  },
  {
   "cell_type": "code",
   "execution_count": 17,
   "metadata": {
    "collapsed": false
   },
   "outputs": [
    {
     "name": "stdout",
     "output_type": "stream",
     "text": [
      "6\n",
      "8\n",
      "2\n",
      "2\n",
      "10\n",
      "21\n",
      "-4\n",
      "0\n"
     ]
    }
   ],
   "source": [
    "a = FourCal()\n",
    "b = FourCal()\n",
    "\n",
    "a.setdata(4, 2)\n",
    "b.setdata(3, 7)\n",
    "\n",
    "print a.sum()\n",
    "print a.mul()\n",
    "print a.sub()\n",
    "print a.div()\n",
    "\n",
    "print b.sum()\n",
    "print b.mul()\n",
    "print b.sub()\n",
    "print b.div()"
   ]
  },
  {
   "cell_type": "markdown",
   "metadata": {},
   "source": [
    "a객체와 b객체는 서로 다른 저장 공간을 가지고 있기 때문에, 완전히 독립적으로 동작하는 것을 볼 수 있다. 즉 <U>클래스에 의해서 생성된 객체들은 다른 객체들과 완전히 다른 저장 공간을 가지고 독립적으로 동작한다</U>는 것을 잊지 말자."
   ]
  },
  {
   "cell_type": "markdown",
   "metadata": {},
   "source": [
    "### 클래스 만들기 예제 2 : \"윤씨네 집\" 클래스 만들기\n",
    "- 클래스를 어떻게 만들지 먼저 구상\n",
    " - 필요한 기능\n",
    "    - 윤씨 가족의 이름을 설정할 수 있는 기능이 필요하다. (메소드)\n",
    "    - 윤씨 가족 중 한 사람이 여행 가고 싶은 곳을 출력하는 기능 (메소드)"
   ]
  },
  {
   "cell_type": "markdown",
   "metadata": {},
   "source": [
    "- 클래스의 기본 구조(뼈대) 만들기"
   ]
  },
  {
   "cell_type": "code",
   "execution_count": 18,
   "metadata": {
    "collapsed": true
   },
   "outputs": [],
   "source": [
    "class HouseYoon:\n",
    "    # 클래스 변수 - HousePark 클래스에서 생성되는 모든 인스턴스에 동일하게 적용\n",
    "    lastname = \"윤\""
   ]
  },
  {
   "cell_type": "code",
   "execution_count": 19,
   "metadata": {
    "collapsed": false
   },
   "outputs": [
    {
     "name": "stdout",
     "output_type": "stream",
     "text": [
      "윤\n",
      "윤\n"
     ]
    }
   ],
   "source": [
    "a = HouseYoon()\n",
    "b = HouseYoon()\n",
    "\n",
    "print a.lastname\n",
    "print b.lastname"
   ]
  },
  {
   "cell_type": "markdown",
   "metadata": {},
   "source": [
    "- 이름을 설정하는 기능 만들기"
   ]
  },
  {
   "cell_type": "code",
   "execution_count": 20,
   "metadata": {
    "collapsed": true
   },
   "outputs": [],
   "source": [
    "class HouseYoon:\n",
    "    lastname = \"윤\"\n",
    "    \n",
    "    # 클래스 함수\n",
    "    def setname(self, name):\n",
    "        self.fullname = self.lastname + name"
   ]
  },
  {
   "cell_type": "code",
   "execution_count": 21,
   "metadata": {
    "collapsed": false
   },
   "outputs": [
    {
     "name": "stdout",
     "output_type": "stream",
     "text": [
      "윤정훈1\n",
      "윤정훈2\n"
     ]
    }
   ],
   "source": [
    "a = HouseYoon()\n",
    "b = HouseYoon()\n",
    "\n",
    "a.setname(\"정훈1\")\n",
    "b.setname(\"정훈2\")\n",
    "\n",
    "print a.fullname\n",
    "print b.fullname"
   ]
  },
  {
   "cell_type": "markdown",
   "metadata": {},
   "source": [
    "- 여행을 가고 싶은 곳을 출력해주는 기능"
   ]
  },
  {
   "cell_type": "code",
   "execution_count": 22,
   "metadata": {
    "collapsed": true
   },
   "outputs": [],
   "source": [
    "class HouseYoon:\n",
    "    lastname = \"윤\"\n",
    "    \n",
    "    def setname(self, name):\n",
    "        self.fullname = self.lastname + name\n",
    "    \n",
    "    # 클래스 함수\n",
    "    def travel(self, where):\n",
    "        print \"%s, %s 여행을 간다.\" % (self.fullname, where)"
   ]
  },
  {
   "cell_type": "code",
   "execution_count": 23,
   "metadata": {
    "collapsed": false
   },
   "outputs": [
    {
     "name": "stdout",
     "output_type": "stream",
     "text": [
      "윤정훈1, 유럽 여행을 간다.\n"
     ]
    }
   ],
   "source": [
    "a = HouseYoon()\n",
    "a.setname(\"정훈1\")\n",
    "\n",
    "a.travel(\"유럽\")"
   ]
  },
  {
   "cell_type": "markdown",
   "metadata": {},
   "source": [
    "- `_init_` 메소드로 초기값을 설정한다."
   ]
  },
  {
   "cell_type": "code",
   "execution_count": 24,
   "metadata": {
    "collapsed": false
   },
   "outputs": [
    {
     "ename": "AttributeError",
     "evalue": "HouseYoon instance has no attribute 'fullname'",
     "output_type": "error",
     "traceback": [
      "\u001b[0;31m---------------------------------------------------------------------------\u001b[0m",
      "\u001b[0;31mAttributeError\u001b[0m                            Traceback (most recent call last)",
      "\u001b[0;32m<ipython-input-24-57f76ebe4915>\u001b[0m in \u001b[0;36m<module>\u001b[0;34m()\u001b[0m\n\u001b[1;32m      1\u001b[0m \u001b[0;31m# 다음과 같은 에러상황이 발생 할 수 있다.\u001b[0m\u001b[0;34m\u001b[0m\u001b[0;34m\u001b[0m\u001b[0m\n\u001b[1;32m      2\u001b[0m \u001b[0mb\u001b[0m \u001b[0;34m=\u001b[0m \u001b[0mHouseYoon\u001b[0m\u001b[0;34m(\u001b[0m\u001b[0;34m)\u001b[0m\u001b[0;34m\u001b[0m\u001b[0m\n\u001b[0;32m----> 3\u001b[0;31m \u001b[0mb\u001b[0m\u001b[0;34m.\u001b[0m\u001b[0mtravel\u001b[0m\u001b[0;34m(\u001b[0m\u001b[0;34m\"홍콩\"\u001b[0m\u001b[0;34m)\u001b[0m\u001b[0;34m\u001b[0m\u001b[0m\n\u001b[0m",
      "\u001b[0;32m<ipython-input-22-af54e99e0326>\u001b[0m in \u001b[0;36mtravel\u001b[0;34m(self, where)\u001b[0m\n\u001b[1;32m      7\u001b[0m     \u001b[0;31m# 클래스 함수\u001b[0m\u001b[0;34m\u001b[0m\u001b[0;34m\u001b[0m\u001b[0m\n\u001b[1;32m      8\u001b[0m     \u001b[0;32mdef\u001b[0m \u001b[0mtravel\u001b[0m\u001b[0;34m(\u001b[0m\u001b[0mself\u001b[0m\u001b[0;34m,\u001b[0m \u001b[0mwhere\u001b[0m\u001b[0;34m)\u001b[0m\u001b[0;34m:\u001b[0m\u001b[0;34m\u001b[0m\u001b[0m\n\u001b[0;32m----> 9\u001b[0;31m         \u001b[0;32mprint\u001b[0m \u001b[0;34m\"%s, %s 여행을 간다.\"\u001b[0m \u001b[0;34m%\u001b[0m \u001b[0;34m(\u001b[0m\u001b[0mself\u001b[0m\u001b[0;34m.\u001b[0m\u001b[0mfullname\u001b[0m\u001b[0;34m,\u001b[0m \u001b[0mwhere\u001b[0m\u001b[0;34m)\u001b[0m\u001b[0;34m\u001b[0m\u001b[0m\n\u001b[0m",
      "\u001b[0;31mAttributeError\u001b[0m: HouseYoon instance has no attribute 'fullname'"
     ]
    }
   ],
   "source": [
    "# 다음과 같은 에러상황이 발생 할 수 있다.\n",
    "b = HouseYoon()\n",
    "b.travel(\"홍콩\")"
   ]
  },
  {
   "cell_type": "markdown",
   "metadata": {},
   "source": [
    "클래스를 설계할 때, 이렇게 오류가 발생할 수 있는 상황을 차단해야 한다. 이런 오류를 방지하기 위해서는 객체를 만드는 순간 클래스 변수를 셋팅하도록 즉 `setname()` 함수가 실행되도록 하면 된다."
   ]
  },
  {
   "cell_type": "code",
   "execution_count": 25,
   "metadata": {
    "collapsed": true
   },
   "outputs": [],
   "source": [
    "class HouseYoon:\n",
    "    lastname = \"윤\"\n",
    "    \n",
    "    # 초깃값을 설정한다.\n",
    "    def __init__(self, name):\n",
    "        self.fullname = self.lastname + name\n",
    "    \n",
    "    def travel(self, where):\n",
    "        print \"%s, %s 여행을 간다.\" % (self.fullname, where)"
   ]
  },
  {
   "cell_type": "code",
   "execution_count": 26,
   "metadata": {
    "collapsed": false
   },
   "outputs": [
    {
     "name": "stdout",
     "output_type": "stream",
     "text": [
      "윤정훈3, 홍콩 여행을 간다.\n"
     ]
    }
   ],
   "source": [
    "c = HouseYoon(\"정훈3\")\n",
    "c.travel(\"홍콩\")"
   ]
  },
  {
   "cell_type": "markdown",
   "metadata": {
    "collapsed": true
   },
   "source": [
    "### 클래스의 상속\n",
    "- 상속이란 \"물려받다\"라는 뜻으로, \"재산을 상속받다\"라고 할 때의 상속과 같은 의미이다. 클래스의 경우, 어떤 클래스를 만들 때 다른 클래스의 기능을 물려받을 수 있게 만드는 것이다.\n",
    "- 클래스를 상속 : `class 상속받을 클래스명(상속할 클래스명)`"
   ]
  },
  {
   "cell_type": "code",
   "execution_count": 27,
   "metadata": {
    "collapsed": false
   },
   "outputs": [
    {
     "name": "stdout",
     "output_type": "stream",
     "text": [
      "김줄리엣, 독도 여행을 간다.\n"
     ]
    }
   ],
   "source": [
    "# 클래스의 상속 예제 1 : \"윤씨네 집\"을 상속하는 \"김씨네 집\"을 만들기\n",
    "class HouseKim(HouseYoon):\n",
    "    # 클래스 변수\n",
    "    lastname = \"김\"\n",
    "    \n",
    "a = HouseKim(\"줄리엣\")\n",
    "# HouseYoon의 모든 기능을 상속받는다.\n",
    "a.travel(\"독도\")"
   ]
  },
  {
   "cell_type": "markdown",
   "metadata": {},
   "source": [
    "- **메소드 오버라이딩(overriding)**\n",
    " - 클래스를 생성 시, 상속받을 대상인 클래스의 메소드와 이름은 같지만 행동은 다르게 해야 할 때"
   ]
  },
  {
   "cell_type": "code",
   "execution_count": 28,
   "metadata": {
    "collapsed": false
   },
   "outputs": [
    {
     "name": "stdout",
     "output_type": "stream",
     "text": [
      "김줄리엣, 독도여행 7일 가네.\n"
     ]
    }
   ],
   "source": [
    "# 클래스의 메소드 오버라이딩 예제\n",
    "class HouseKim(HouseYoon):\n",
    "    lastname = \"김\"\n",
    "    # 오버라이딩을 하고 싶으면, 같은 이름의 클래스 함수를 재정의한다.\n",
    "    def travel(self, where, day):\n",
    "        print \"%s, %s여행 %d일 가네.\" % (self.fullname, where, day)\n",
    "        \n",
    "b = HouseKim(\"줄리엣\")\n",
    "# 오버라이딩이 된 메소드를 호출한다.\n",
    "b.travel(\"독도\", 7)"
   ]
  },
  {
   "cell_type": "markdown",
   "metadata": {},
   "source": [
    "### 연산자 오버로딩\n",
    " - 연산자 오버로딩(Overloading)이란 연산자`(+, -, *, /,,,)`를 객체끼리 사용할 수 있게 하는 기법"
   ]
  },
  {
   "cell_type": "code",
   "execution_count": 29,
   "metadata": {
    "collapsed": false
   },
   "outputs": [
    {
     "name": "stdout",
     "output_type": "stream",
     "text": [
      "윤로미오, 김줄리엣 사랑에 빠졌네\n",
      "윤로미오, 김줄리엣 결혼했네\n"
     ]
    }
   ],
   "source": [
    "# 연산자 오버로딩 예제\n",
    "class HouseYoon:\n",
    "    lastname = \"윤\"\n",
    "    def __init__(self, name):\n",
    "        self.fullname = self.lastname + name\n",
    "    def travel(self, where):\n",
    "        print \"%s, %s여행을 가다.\" % (self.fullname, where)\n",
    "    def love(self, other):\n",
    "        print \"%s, %s 사랑에 빠졌네\" % (self.fullname, other.fullname)\n",
    "    # 연산자 오버로딩 사용\n",
    "    def __add__(self, other):\n",
    "        print \"%s, %s 결혼했네\" % (self.fullname, other.fullname)\n",
    "        \n",
    "class HouseKim(HouseYoon):\n",
    "    lastname = \"김\"\n",
    "    def travel(self, where, day):\n",
    "        print \"%s, %s여행 %d일 가네.\" %(self.fullname, where, day)\n",
    "        \n",
    "yoon = HouseYoon(\"로미오\")\n",
    "kim = HouseKim(\"줄리엣\")\n",
    "\n",
    "yoon.love(kim)\n",
    "# 연산자 오버로딩 실행\n",
    "yoon + kim"
   ]
  },
  {
   "cell_type": "markdown",
   "metadata": {},
   "source": [
    "- `+`연산자를 객체에 사용하게 되면 클래스의 `__add__`라는 함수가 호출된다."
   ]
  },
  {
   "cell_type": "markdown",
   "metadata": {},
   "source": [
    "### 연산자 오버로딩 예제 1\n",
    "다음과 같은 내용을 출력하는 클래스를 만들어라.\n",
    "- 윤로미오, 부산여행을 가다.\n",
    "- 김줄리엣, 부산여행을 3일 가네.\n",
    "- 윤로미오, 김줄리엣 사랑에 빠졌네\n",
    "- 윤로미오, 김줄리엣 결혼했네\n",
    "- 윤로미오, 김줄리엣 싸우네\n",
    "- 윤로미오, 김줄리엣 이혼했네"
   ]
  },
  {
   "cell_type": "code",
   "execution_count": 30,
   "metadata": {
    "collapsed": false
   },
   "outputs": [
    {
     "name": "stdout",
     "output_type": "stream",
     "text": [
      "윤로미오, 부산여행을 가다.\n",
      "김줄리엣, 부산여행을 3일 가네.\n",
      "윤로미오, 김줄리엣 사랑에 빠졌네\n",
      "윤로미오, 김줄리엣 결혼했네\n",
      "윤로미오, 김줄리엣 싸우네\n",
      "윤로미오, 김줄리엣 이혼했네\n"
     ]
    }
   ],
   "source": [
    "class HouseYoon:\n",
    "    lastname = \"윤\"\n",
    "    def __init__(self, name):\n",
    "        self.fullname = self.lastname + name\n",
    "    def travel(self, where):\n",
    "        print \"%s, %s여행을 가다.\" % (self.fullname, where)\n",
    "    def love(self, other):\n",
    "        print \"%s, %s 사랑에 빠졌네\" % (self.fullname, other.fullname)\n",
    "    def fight(self, other):\n",
    "        print \"%s, %s 싸우네\" % (self.fullname, other.fullname)\n",
    "    def __add__(self, other):\n",
    "        print \"%s, %s 결혼했네\" % (self.fullname, other.fullname)\n",
    "    def __sub__(self, other):\n",
    "        print \"%s, %s 이혼했네\" % (self.fullname, other.fullname)\n",
    "        \n",
    "class HouseKim(HouseYoon):\n",
    "    lastname = \"김\"\n",
    "    def travel(self, where, day):\n",
    "        print \"%s, %s여행을 %d일 가네.\" % (self.fullname, where, day)\n",
    "        \n",
    "yoon = HouseYoon(\"로미오\")\n",
    "kim = HouseKim(\"줄리엣\")\n",
    "\n",
    "yoon.travel(\"부산\")\n",
    "kim.travel(\"부산\", 3)\n",
    "\n",
    "yoon.love(kim)\n",
    "yoon + kim\n",
    "\n",
    "yoon.fight(kim)\n",
    "yoon - kim"
   ]
  },
  {
   "cell_type": "markdown",
   "metadata": {},
   "source": [
    "# 예외 처리\n",
    "프로그램을 만들다 보면 많은 오류를 만나게 된다. 때때로 이러한 오류를 무시하고 싶을 때도 있다. 이 때 파이썬은 try, except를 이용해서 예외적으로 오류를 처리할 수 있다."
   ]
  },
  {
   "cell_type": "code",
   "execution_count": 31,
   "metadata": {
    "collapsed": false
   },
   "outputs": [
    {
     "ename": "IOError",
     "evalue": "[Errno 2] No such file or directory: '\\xec\\x97\\x86\\xeb\\x8a\\x94 \\xed\\x8c\\x8c\\xec\\x9d\\xbc'",
     "output_type": "error",
     "traceback": [
      "\u001b[0;31m---------------------------------------------------------------------------\u001b[0m",
      "\u001b[0;31mIOError\u001b[0m                                   Traceback (most recent call last)",
      "\u001b[0;32m<ipython-input-31-0e5e279110bb>\u001b[0m in \u001b[0;36m<module>\u001b[0;34m()\u001b[0m\n\u001b[1;32m      1\u001b[0m \u001b[0;31m# 오류 예제 1 - I/O Error\u001b[0m\u001b[0;34m\u001b[0m\u001b[0;34m\u001b[0m\u001b[0m\n\u001b[0;32m----> 2\u001b[0;31m \u001b[0mf\u001b[0m \u001b[0;34m=\u001b[0m \u001b[0mopen\u001b[0m\u001b[0;34m(\u001b[0m\u001b[0;34m\"없는 파일\"\u001b[0m\u001b[0;34m,\u001b[0m \u001b[0;34m\"r\"\u001b[0m\u001b[0;34m)\u001b[0m\u001b[0;34m\u001b[0m\u001b[0m\n\u001b[0m",
      "\u001b[0;31mIOError\u001b[0m: [Errno 2] No such file or directory: '\\xec\\x97\\x86\\xeb\\x8a\\x94 \\xed\\x8c\\x8c\\xec\\x9d\\xbc'"
     ]
    }
   ],
   "source": [
    "# 오류 예제 1 - I/O Error\n",
    "f = open(\"없는 파일\", \"r\")"
   ]
  },
  {
   "cell_type": "code",
   "execution_count": 32,
   "metadata": {
    "collapsed": false
   },
   "outputs": [
    {
     "ename": "ZeroDivisionError",
     "evalue": "integer division or modulo by zero",
     "output_type": "error",
     "traceback": [
      "\u001b[0;31m---------------------------------------------------------------------------\u001b[0m",
      "\u001b[0;31mZeroDivisionError\u001b[0m                         Traceback (most recent call last)",
      "\u001b[0;32m<ipython-input-32-84d072e841b9>\u001b[0m in \u001b[0;36m<module>\u001b[0;34m()\u001b[0m\n\u001b[1;32m      1\u001b[0m \u001b[0;31m# 오류 예제 2 - ZeroDivisionError\u001b[0m\u001b[0;34m\u001b[0m\u001b[0;34m\u001b[0m\u001b[0m\n\u001b[0;32m----> 2\u001b[0;31m \u001b[0;36m4\u001b[0m \u001b[0;34m/\u001b[0m \u001b[0;36m0\u001b[0m\u001b[0;34m\u001b[0m\u001b[0m\n\u001b[0m",
      "\u001b[0;31mZeroDivisionError\u001b[0m: integer division or modulo by zero"
     ]
    }
   ],
   "source": [
    "# 오류 예제 2 - ZeroDivisionError\n",
    "4 / 0"
   ]
  },
  {
   "cell_type": "code",
   "execution_count": 33,
   "metadata": {
    "collapsed": false
   },
   "outputs": [
    {
     "ename": "IndexError",
     "evalue": "list index out of range",
     "output_type": "error",
     "traceback": [
      "\u001b[0;31m---------------------------------------------------------------------------\u001b[0m",
      "\u001b[0;31mIndexError\u001b[0m                                Traceback (most recent call last)",
      "\u001b[0;32m<ipython-input-33-624c50786125>\u001b[0m in \u001b[0;36m<module>\u001b[0;34m()\u001b[0m\n\u001b[1;32m      1\u001b[0m \u001b[0;31m# 오류 예제 3 - IndexError\u001b[0m\u001b[0;34m\u001b[0m\u001b[0;34m\u001b[0m\u001b[0m\n\u001b[1;32m      2\u001b[0m \u001b[0ma\u001b[0m \u001b[0;34m=\u001b[0m \u001b[0;34m[\u001b[0m\u001b[0;36m1\u001b[0m\u001b[0;34m,\u001b[0m \u001b[0;36m2\u001b[0m\u001b[0;34m,\u001b[0m \u001b[0;36m3\u001b[0m\u001b[0;34m]\u001b[0m\u001b[0;34m\u001b[0m\u001b[0m\n\u001b[0;32m----> 3\u001b[0;31m \u001b[0ma\u001b[0m\u001b[0;34m[\u001b[0m\u001b[0;36m4\u001b[0m\u001b[0;34m]\u001b[0m\u001b[0;34m\u001b[0m\u001b[0m\n\u001b[0m",
      "\u001b[0;31mIndexError\u001b[0m: list index out of range"
     ]
    }
   ],
   "source": [
    "# 오류 예제 3 - IndexError\n",
    "a = [1, 2, 3]\n",
    "a[4]"
   ]
  },
  {
   "cell_type": "markdown",
   "metadata": {},
   "source": [
    "### 오류 예외 처리 기법\n",
    "```python\n",
    "try:\n",
    "    ...\n",
    "except:\n",
    "    ...\n",
    "```\n",
    "- try 블록 수행 중 오류가 발생하면 except 블록이 수행된다. 하지만 try 블록에서 오류가 발생하지 않는다면 except 블록은 수행되지 않는다."
   ]
  },
  {
   "cell_type": "code",
   "execution_count": 34,
   "metadata": {
    "collapsed": false
   },
   "outputs": [
    {
     "name": "stdout",
     "output_type": "stream",
     "text": [
      "블록을 수행하라.\n"
     ]
    }
   ],
   "source": [
    "# 패턴 1 : 오류 종류에 상관없이 except 블록을 수행한다.\n",
    "try:\n",
    "    4 / 0\n",
    "except:\n",
    "    print \"블록을 수행하라.\""
   ]
  },
  {
   "cell_type": "code",
   "execution_count": 35,
   "metadata": {
    "collapsed": false
   },
   "outputs": [
    {
     "name": "stdout",
     "output_type": "stream",
     "text": [
      "블록을 수행하라.\n"
     ]
    }
   ],
   "source": [
    "# 패턴 2 : 이름이 똑같은 오류가 발생할 경우만 except 블록을 수행한다.\n",
    "try:\n",
    "    4 / 0\n",
    "except ZeroDivisionError:\n",
    "    print \"블록을 수행하라.\""
   ]
  },
  {
   "cell_type": "code",
   "execution_count": 36,
   "metadata": {
    "collapsed": false
   },
   "outputs": [
    {
     "ename": "ZeroDivisionError",
     "evalue": "integer division or modulo by zero",
     "output_type": "error",
     "traceback": [
      "\u001b[0;31m---------------------------------------------------------------------------\u001b[0m",
      "\u001b[0;31mZeroDivisionError\u001b[0m                         Traceback (most recent call last)",
      "\u001b[0;32m<ipython-input-36-e6a764a40864>\u001b[0m in \u001b[0;36m<module>\u001b[0;34m()\u001b[0m\n\u001b[1;32m      1\u001b[0m \u001b[0;31m# 패턴 2 : 이름이 똑같은 오류가 발생할 경우만 except 블록을 수행한다.\u001b[0m\u001b[0;34m\u001b[0m\u001b[0;34m\u001b[0m\u001b[0m\n\u001b[1;32m      2\u001b[0m \u001b[0;32mtry\u001b[0m\u001b[0;34m:\u001b[0m\u001b[0;34m\u001b[0m\u001b[0m\n\u001b[0;32m----> 3\u001b[0;31m     \u001b[0;36m4\u001b[0m \u001b[0;34m/\u001b[0m \u001b[0;36m0\u001b[0m\u001b[0;34m\u001b[0m\u001b[0m\n\u001b[0m\u001b[1;32m      4\u001b[0m \u001b[0;32mexcept\u001b[0m \u001b[0mIOError\u001b[0m\u001b[0;34m:\u001b[0m\u001b[0;34m\u001b[0m\u001b[0m\n\u001b[1;32m      5\u001b[0m     \u001b[0;32mprint\u001b[0m \u001b[0;34m\"블록을 수행하라.\"\u001b[0m\u001b[0;34m\u001b[0m\u001b[0m\n",
      "\u001b[0;31mZeroDivisionError\u001b[0m: integer division or modulo by zero"
     ]
    }
   ],
   "source": [
    "# 패턴 2 : 이름이 똑같은 오류가 발생할 경우만 except 블록을 수행한다.\n",
    "try:\n",
    "    4 / 0\n",
    "except IOError:\n",
    "    print \"블록을 수행하라.\""
   ]
  },
  {
   "cell_type": "code",
   "execution_count": 37,
   "metadata": {
    "collapsed": false
   },
   "outputs": [
    {
     "name": "stdout",
     "output_type": "stream",
     "text": [
      "integer division or modulo by zero\n"
     ]
    }
   ],
   "source": [
    "# 패턴 3 : 발생 오류와 오류 메시지 변수까지 포함\n",
    "try:\n",
    "    4 / 0\n",
    "except ZeroDivisionError as e:\n",
    "    print e"
   ]
  },
  {
   "cell_type": "markdown",
   "metadata": {},
   "source": [
    "```python\n",
    "try:\n",
    "    ...\n",
    "except:\n",
    "    ...\n",
    "finally:\n",
    "    ...\n",
    "```\n",
    "- finally 절은 try문 수행 도중 예외 발생 여부에 상관없이 항상 수행된다."
   ]
  },
  {
   "cell_type": "code",
   "execution_count": 38,
   "metadata": {
    "collapsed": false
   },
   "outputs": [
    {
     "name": "stdout",
     "output_type": "stream",
     "text": [
      "integer division or modulo by zero\n",
      "반드시 출력!\n"
     ]
    }
   ],
   "source": [
    "try:\n",
    "    4/0\n",
    "except ZeroDivisionError as e:\n",
    "    print e\n",
    "finally:\n",
    "    print \"반드시 출력!\""
   ]
  },
  {
   "cell_type": "markdown",
   "metadata": {},
   "source": [
    "### 오류 회피하기\n",
    "- 프로그래밍을 하다 보면 특정 오류가 발생할 경우 그냥 통과시켜야 할 때가 있다."
   ]
  },
  {
   "cell_type": "code",
   "execution_count": 39,
   "metadata": {
    "collapsed": false
   },
   "outputs": [],
   "source": [
    "try:\n",
    "    f = open(\"나 없는 파일\", \"r\")\n",
    "except IOError:\n",
    "    pass"
   ]
  },
  {
   "cell_type": "markdown",
   "metadata": {},
   "source": [
    "### 오류 일부러 발생시키기\n",
    "- 프로그래밍을 하다 보면 종종 오류를 일부러 발생시켜야 할 경우도 생긴다.\n",
    "- raise라는 명령어를 이용해 오류를 강제로 발생시킬 수 있다."
   ]
  },
  {
   "cell_type": "code",
   "execution_count": 40,
   "metadata": {
    "collapsed": false
   },
   "outputs": [
    {
     "ename": "NotImplementedError",
     "evalue": "",
     "output_type": "error",
     "traceback": [
      "\u001b[0;31m---------------------------------------------------------------------------\u001b[0m",
      "\u001b[0;31mNotImplementedError\u001b[0m                       Traceback (most recent call last)",
      "\u001b[0;32m<ipython-input-40-5424e6ec8a5a>\u001b[0m in \u001b[0;36m<module>\u001b[0;34m()\u001b[0m\n\u001b[1;32m      9\u001b[0m \u001b[0;34m\u001b[0m\u001b[0m\n\u001b[1;32m     10\u001b[0m \u001b[0meagle\u001b[0m \u001b[0;34m=\u001b[0m \u001b[0mEagle\u001b[0m\u001b[0;34m(\u001b[0m\u001b[0;34m)\u001b[0m\u001b[0;34m\u001b[0m\u001b[0m\n\u001b[0;32m---> 11\u001b[0;31m \u001b[0meagle\u001b[0m\u001b[0;34m.\u001b[0m\u001b[0mfly\u001b[0m\u001b[0;34m(\u001b[0m\u001b[0;34m)\u001b[0m\u001b[0;34m\u001b[0m\u001b[0m\n\u001b[0m",
      "\u001b[0;32m<ipython-input-40-5424e6ec8a5a>\u001b[0m in \u001b[0;36mfly\u001b[0;34m(self)\u001b[0m\n\u001b[1;32m      2\u001b[0m \u001b[0;32mclass\u001b[0m \u001b[0mBird\u001b[0m\u001b[0;34m:\u001b[0m\u001b[0;34m\u001b[0m\u001b[0m\n\u001b[1;32m      3\u001b[0m     \u001b[0;32mdef\u001b[0m \u001b[0mfly\u001b[0m\u001b[0;34m(\u001b[0m\u001b[0mself\u001b[0m\u001b[0;34m)\u001b[0m\u001b[0;34m:\u001b[0m\u001b[0;34m\u001b[0m\u001b[0m\n\u001b[0;32m----> 4\u001b[0;31m         \u001b[0;32mraise\u001b[0m \u001b[0mNotImplementedError\u001b[0m\u001b[0;34m\u001b[0m\u001b[0m\n\u001b[0m\u001b[1;32m      5\u001b[0m \u001b[0;34m\u001b[0m\u001b[0m\n\u001b[1;32m      6\u001b[0m \u001b[0;31m# Eagle은 Bird를 상속받았지만 fly를 오버라이딩하지 않았다.\u001b[0m\u001b[0;34m\u001b[0m\u001b[0;34m\u001b[0m\u001b[0m\n",
      "\u001b[0;31mNotImplementedError\u001b[0m: "
     ]
    }
   ],
   "source": [
    "# Bird를 상속받는 클래스는 fly를 오버라이딩해서 구현해야한다. 안되면, 오류를 발생시킨다.\n",
    "class Bird:\n",
    "    def fly(self):\n",
    "        raise NotImplementedError\n",
    "        \n",
    "# Eagle은 Bird를 상속받았지만 fly를 오버라이딩하지 않았다.\n",
    "class Eagle(Bird):\n",
    "    pass\n",
    "\n",
    "eagle = Eagle()\n",
    "eagle.fly()"
   ]
  },
  {
   "cell_type": "code",
   "execution_count": 41,
   "metadata": {
    "collapsed": false
   },
   "outputs": [
    {
     "name": "stdout",
     "output_type": "stream",
     "text": [
      "very fast\n"
     ]
    }
   ],
   "source": [
    "# Bird를 상속하고 fly를 오버라이드하자.\n",
    "class Dove(Bird):\n",
    "    def fly(self):\n",
    "        print \"very fast\"\n",
    "        \n",
    "dove = Dove()\n",
    "dove.fly()"
   ]
  },
  {
   "cell_type": "markdown",
   "metadata": {},
   "source": [
    "# 내장함수 (Built-in 함수)\n",
    "- Don't Reinvent The Wheel. 이미 있는 것을 다시 만드느라 쓸데없이 시간을 낭비하지 말라.\n",
    "- 이미 만들어진 프로그램들은 테스트 과정을 수도 없이 거쳤기 때문에 충분히 검증되어 있다.\n",
    "- 새로운 프로그램을 만들기 전에는 이미 만들어진 것들, 특히 파이선 라이브러리들을 살펴보는 것이 중요하다."
   ]
  },
  {
   "cell_type": "markdown",
   "metadata": {},
   "source": [
    "- abs\n",
    " - 어떤 숫자를 입력으로 받았을 때, 그 숫자의 절대값을 돌려주는 함수이다."
   ]
  },
  {
   "cell_type": "code",
   "execution_count": 42,
   "metadata": {
    "collapsed": false
   },
   "outputs": [
    {
     "name": "stdout",
     "output_type": "stream",
     "text": [
      "3\n",
      "3\n",
      "1.2\n"
     ]
    }
   ],
   "source": [
    "print abs(3)\n",
    "print abs(-3)\n",
    "print abs(-1.2)"
   ]
  },
  {
   "cell_type": "markdown",
   "metadata": {},
   "source": [
    "### all\n",
    "- 반복 가능한(iterable) 자료형 x를 입력 인수로 받으며, 이 x가 모두 참이면 True, 거짓이 하나라도 있으면 False를 리턴한다.\n",
    "- 반복 가능한 자료형 : 리스트, 튜플, 문자열, 딕셔너리, 집합 등"
   ]
  },
  {
   "cell_type": "code",
   "execution_count": 43,
   "metadata": {
    "collapsed": false
   },
   "outputs": [
    {
     "name": "stdout",
     "output_type": "stream",
     "text": [
      "True\n",
      "False\n"
     ]
    }
   ],
   "source": [
    "print all([1, 2, 3])\n",
    "print all([1, 2, 3, 0])"
   ]
  },
  {
   "cell_type": "markdown",
   "metadata": {},
   "source": [
    "### any\n",
    "- 반복 가능한 자료형 x를 입력 인수로 받으며, 이 x중 하나라도 참이 있을 경우 True를 리턴하고, x가 모두 거짓일 경우에만 False를 리턴한다."
   ]
  },
  {
   "cell_type": "code",
   "execution_count": 44,
   "metadata": {
    "collapsed": false
   },
   "outputs": [
    {
     "name": "stdout",
     "output_type": "stream",
     "text": [
      "True\n",
      "False\n"
     ]
    }
   ],
   "source": [
    "print any([1, 2, 3, 0])\n",
    "print any([0, \"\"])"
   ]
  },
  {
   "cell_type": "markdown",
   "metadata": {},
   "source": [
    "### chr\n",
    "- chr은 아스키(ASCII) 코드값을 입력으로 받아 그 코드에 해당하는 문자를 출력하는 함수이다.\n",
    "- 아스키(ASCII) 코드 : 0에서 127 사이의 숫자들을 각각 하나의 문자 또는 기호에 대응시켜 놓은 것"
   ]
  },
  {
   "cell_type": "code",
   "execution_count": 45,
   "metadata": {
    "collapsed": false
   },
   "outputs": [
    {
     "name": "stdout",
     "output_type": "stream",
     "text": [
      "a\n",
      "b\n",
      "c\n",
      "0\n",
      "1\n"
     ]
    }
   ],
   "source": [
    "print chr(97) # a의 아스키 코드 : 97 \n",
    "print chr(98) # b의 아스키 코드 : 98\n",
    "print chr(99) # c의 아스키 코드 : 99\n",
    "\n",
    "print chr(48) # 0의 아스키 코드 : 48\n",
    "print chr(49) # 1의 아스키 코드 : 49"
   ]
  },
  {
   "cell_type": "markdown",
   "metadata": {},
   "source": [
    "### dir\n",
    "- 객체가 자체적으로 가지고 있는 변수나 함수를 보여 준다."
   ]
  },
  {
   "cell_type": "code",
   "execution_count": 46,
   "metadata": {
    "collapsed": false
   },
   "outputs": [
    {
     "name": "stdout",
     "output_type": "stream",
     "text": [
      "['__add__', '__class__', '__contains__', '__delattr__', '__delitem__', '__delslice__', '__doc__', '__eq__', '__format__', '__ge__', '__getattribute__', '__getitem__', '__getslice__', '__gt__', '__hash__', '__iadd__', '__imul__', '__init__', '__iter__', '__le__', '__len__', '__lt__', '__mul__', '__ne__', '__new__', '__reduce__', '__reduce_ex__', '__repr__', '__reversed__', '__rmul__', '__setattr__', '__setitem__', '__setslice__', '__sizeof__', '__str__', '__subclasshook__', 'append', 'count', 'extend', 'index', 'insert', 'pop', 'remove', 'reverse', 'sort']\n"
     ]
    }
   ],
   "source": [
    "print dir([1, 2, 3])"
   ]
  },
  {
   "cell_type": "code",
   "execution_count": 47,
   "metadata": {
    "collapsed": false
   },
   "outputs": [
    {
     "name": "stdout",
     "output_type": "stream",
     "text": [
      "['__class__', '__cmp__', '__contains__', '__delattr__', '__delitem__', '__doc__', '__eq__', '__format__', '__ge__', '__getattribute__', '__getitem__', '__gt__', '__hash__', '__init__', '__iter__', '__le__', '__len__', '__lt__', '__ne__', '__new__', '__reduce__', '__reduce_ex__', '__repr__', '__setattr__', '__setitem__', '__sizeof__', '__str__', '__subclasshook__', 'clear', 'copy', 'fromkeys', 'get', 'has_key', 'items', 'iteritems', 'iterkeys', 'itervalues', 'keys', 'pop', 'popitem', 'setdefault', 'update', 'values', 'viewitems', 'viewkeys', 'viewvalues']\n"
     ]
    }
   ],
   "source": [
    "print dir({\"a\" : 1})"
   ]
  },
  {
   "cell_type": "markdown",
   "metadata": {},
   "source": [
    "### divmod\n",
    "- 2개의 숫자를 입력으로 받는다. 그리고 a를 b로 나눈 몫과 나머지를 튜플 형태로 리턴하는 함수이다."
   ]
  },
  {
   "cell_type": "code",
   "execution_count": 48,
   "metadata": {
    "collapsed": false
   },
   "outputs": [
    {
     "name": "stdout",
     "output_type": "stream",
     "text": [
      "(2, 1)\n",
      "(6.0, 0.09999999999999998)\n"
     ]
    }
   ],
   "source": [
    "print divmod(7, 3)\n",
    "print divmod(1.3, 0.2)"
   ]
  },
  {
   "cell_type": "markdown",
   "metadata": {},
   "source": [
    " ### **enumerate**\n",
    " - 순서가 있는 자료형(리스트, 튜플, 문자열)을 입력으로 받아 인덱스 값을 포함하는 enumerate 객체를 리턴한다."
   ]
  },
  {
   "cell_type": "code",
   "execution_count": 49,
   "metadata": {
    "collapsed": false
   },
   "outputs": [
    {
     "name": "stdout",
     "output_type": "stream",
     "text": [
      "0 body\n",
      "1 foo\n",
      "2 bar\n"
     ]
    }
   ],
   "source": [
    "for i, name in enumerate([\"body\", \"foo\", \"bar\"]):\n",
    "    print i, name"
   ]
  },
  {
   "cell_type": "markdown",
   "metadata": {},
   "source": [
    "### eval\n",
    "- 실행 가능한 문자열을 입력으로 받아 문자열을 실행한 결과값을 리턴하는 함수이다."
   ]
  },
  {
   "cell_type": "code",
   "execution_count": 50,
   "metadata": {
    "collapsed": false
   },
   "outputs": [
    {
     "name": "stdout",
     "output_type": "stream",
     "text": [
      "3\n",
      "hia\n",
      "(1, 1)\n"
     ]
    }
   ],
   "source": [
    "print eval(\"1+2\") # \"1+2\"는 1+2의 문자열이다. 따라서 1+2를 실행시키는 것과 동일.\n",
    "print eval(\"'hi'+'a'\")\n",
    "print eval(\"divmod(4, 3)\")"
   ]
  },
  {
   "cell_type": "markdown",
   "metadata": {},
   "source": [
    "### list\n",
    "- 반복 가능한 자료형 s를 입력받아 리스트로 만들어 리턴하는 함수이다."
   ]
  },
  {
   "cell_type": "code",
   "execution_count": 51,
   "metadata": {
    "collapsed": false
   },
   "outputs": [
    {
     "name": "stdout",
     "output_type": "stream",
     "text": [
      "['p', 'y', 't', 'h', 'o', 'n']\n",
      "[1, 2, 3]\n"
     ]
    }
   ],
   "source": [
    "print list(\"python\")\n",
    "print list((1, 2, 3))"
   ]
  },
  {
   "cell_type": "markdown",
   "metadata": {},
   "source": [
    "### **filter**\n",
    "- 첫 번째 인수로 함수 이름을, 두 번째 인수로 그 함수에 차례로 들어갈 반복 가능한 자료형을 받는다.\n",
    "- 두 번째 인수인 반복 가능한 자료형 요소들이 첫 번째 인수인 함수에 입력되었을 때 리턴값이 참인 것만 묶어서(걸러내서) 돌려준다."
   ]
  },
  {
   "cell_type": "code",
   "execution_count": 52,
   "metadata": {
    "collapsed": false
   },
   "outputs": [
    {
     "data": {
      "text/plain": [
       "[1, 2, 6]"
      ]
     },
     "execution_count": 52,
     "metadata": {},
     "output_type": "execute_result"
    }
   ],
   "source": [
    "# 1. Naive하게 filter 기능 구현\n",
    "def positive(numberList):\n",
    "    result = []\n",
    "    for num in numberList:\n",
    "        if num > 0:\n",
    "            result.append(num)\n",
    "    return result\n",
    "\n",
    "positive([1, -3,2, 0, -5, 6])"
   ]
  },
  {
   "cell_type": "code",
   "execution_count": 53,
   "metadata": {
    "collapsed": false
   },
   "outputs": [
    {
     "name": "stdout",
     "output_type": "stream",
     "text": [
      "[1, 2, 6]\n"
     ]
    }
   ],
   "source": [
    "# 2. 함수를 따로 구현\n",
    "def positive(x):\n",
    "    return x > 0\n",
    "\n",
    "print filter(positive, [1, -3, 2, 0, -5, 6])"
   ]
  },
  {
   "cell_type": "code",
   "execution_count": 54,
   "metadata": {
    "collapsed": false
   },
   "outputs": [
    {
     "name": "stdout",
     "output_type": "stream",
     "text": [
      "[1, 2, 6]\n"
     ]
    }
   ],
   "source": [
    "# 3. lambda를 이용하여 간편하게 구현\n",
    "print filter(lambda x : x > 0, [1, -3, 2, 0, -5, 6])"
   ]
  },
  {
   "cell_type": "markdown",
   "metadata": {},
   "source": [
    "### hex\n",
    "- 정수값을 입력받아 16진수(hexadecimal)로 변환하여 리턴하는 함수이다."
   ]
  },
  {
   "cell_type": "code",
   "execution_count": 55,
   "metadata": {
    "collapsed": false
   },
   "outputs": [
    {
     "data": {
      "text/plain": [
       "'0xea'"
      ]
     },
     "execution_count": 55,
     "metadata": {},
     "output_type": "execute_result"
    }
   ],
   "source": [
    "hex(234)"
   ]
  },
  {
   "cell_type": "markdown",
   "metadata": {},
   "source": [
    "### id\n",
    "- 객체를 입력받아 객체의 주소값(레퍼런스)을 리턴하는 함수이다."
   ]
  },
  {
   "cell_type": "code",
   "execution_count": 56,
   "metadata": {
    "collapsed": false
   },
   "outputs": [
    {
     "name": "stdout",
     "output_type": "stream",
     "text": [
      "4298154136\n",
      "4298154136\n",
      "4298154136\n",
      "4298154136\n"
     ]
    }
   ],
   "source": [
    "a = 3\n",
    "print id(3)\n",
    "print id(a)\n",
    "\n",
    "b = 3\n",
    "print id(b)\n",
    "\n",
    "c = b\n",
    "print id(c)"
   ]
  },
  {
   "cell_type": "markdown",
   "metadata": {},
   "source": [
    "### input"
   ]
  },
  {
   "cell_type": "markdown",
   "metadata": {},
   "source": [
    "- 사용자 입력을 받는 함수이다."
   ]
  },
  {
   "cell_type": "code",
   "execution_count": 59,
   "metadata": {
    "collapsed": false
   },
   "outputs": [
    {
     "name": "stdout",
     "output_type": "stream",
     "text": [
      "\"HI\"\n"
     ]
    },
    {
     "data": {
      "text/plain": [
       "'HI'"
      ]
     },
     "execution_count": 59,
     "metadata": {},
     "output_type": "execute_result"
    }
   ],
   "source": [
    "a = input()\n",
    "a"
   ]
  },
  {
   "cell_type": "code",
   "execution_count": 60,
   "metadata": {
    "collapsed": false
   },
   "outputs": [
    {
     "name": "stdout",
     "output_type": "stream",
     "text": [
      "Enter : \"HI\"\n"
     ]
    },
    {
     "data": {
      "text/plain": [
       "'HI'"
      ]
     },
     "execution_count": 60,
     "metadata": {},
     "output_type": "execute_result"
    }
   ],
   "source": [
    "b = input(\"Enter : \")\n",
    "b"
   ]
  },
  {
   "cell_type": "markdown",
   "metadata": {},
   "source": [
    "### int\n",
    "- 문자열 형태의 숫자나 소수점이 있는 숫자 등을 정수 형태로 리턴하는 함수이다."
   ]
  },
  {
   "cell_type": "code",
   "execution_count": 61,
   "metadata": {
    "collapsed": false
   },
   "outputs": [
    {
     "name": "stdout",
     "output_type": "stream",
     "text": [
      "3\n",
      "3\n",
      "3\n"
     ]
    }
   ],
   "source": [
    "print int(\"3\")\n",
    "print int(3.4)\n",
    "print int(3.8)"
   ]
  },
  {
   "cell_type": "code",
   "execution_count": 62,
   "metadata": {
    "collapsed": false
   },
   "outputs": [
    {
     "name": "stdout",
     "output_type": "stream",
     "text": [
      "3\n"
     ]
    }
   ],
   "source": [
    "# 2진수로 표현된 11의 10진수값은 다음과 같이 구한다.\n",
    "print int(\"11\", 2)"
   ]
  },
  {
   "cell_type": "markdown",
   "metadata": {},
   "source": [
    "### isinstance\n",
    "- 첫 번째 인수로 인스턴스, 두 번째 인수로 클래스 이름을 받는다.\n",
    "- 입력으로 받은 인스턴스가 그 클래스의 인스턴스인지를 판단하여 참이면 True, 거짓이면 False를 리턴한다."
   ]
  },
  {
   "cell_type": "code",
   "execution_count": 63,
   "metadata": {
    "collapsed": false
   },
   "outputs": [
    {
     "data": {
      "text/plain": [
       "True"
      ]
     },
     "execution_count": 63,
     "metadata": {},
     "output_type": "execute_result"
    }
   ],
   "source": [
    "# 아무 기능이 없는 Person 클래스 생성\n",
    "class Person: \n",
    "    pass\n",
    "    \n",
    "# Person 클래스의 인스턴스 a를 생성\n",
    "a = Person()\n",
    "\n",
    "isinstance(a, Person)"
   ]
  },
  {
   "cell_type": "code",
   "execution_count": 64,
   "metadata": {
    "collapsed": false
   },
   "outputs": [
    {
     "data": {
      "text/plain": [
       "False"
      ]
     },
     "execution_count": 64,
     "metadata": {},
     "output_type": "execute_result"
    }
   ],
   "source": [
    "b = 3\n",
    "\n",
    "isinstance(b, Person)"
   ]
  },
  {
   "cell_type": "markdown",
   "metadata": {},
   "source": [
    "### lambda\n",
    "- 함수를 생성할 때 사용하는 예약어\n",
    "- 함수를 한 줄로 간결하게 만들 때 사용\n",
    "- `def`를 사용해야 할 정도로 복잡하지 않거나, 사용할 수 없는 곳에 주로 쓰인다.\n",
    "<pre><code> lambda 인수1, 인수2, ... : 인수를 이용한 표현식</code></pre>"
   ]
  },
  {
   "cell_type": "code",
   "execution_count": 65,
   "metadata": {
    "collapsed": false
   },
   "outputs": [
    {
     "data": {
      "text/plain": [
       "7"
      ]
     },
     "execution_count": 65,
     "metadata": {},
     "output_type": "execute_result"
    }
   ],
   "source": [
    "# 예제 1\n",
    "_sum = lambda x, y: x + y\n",
    "\n",
    "_sum(3, 4)"
   ]
  },
  {
   "cell_type": "code",
   "execution_count": 66,
   "metadata": {
    "collapsed": false
   },
   "outputs": [
    {
     "data": {
      "text/plain": [
       "7"
      ]
     },
     "execution_count": 66,
     "metadata": {},
     "output_type": "execute_result"
    }
   ],
   "source": [
    "# 예제 1의 함수는 이 함수와 동일하다.\n",
    "def _sum_1(x, y):\n",
    "    return x + y\n",
    "\n",
    "_sum_1(3, 4)"
   ]
  },
  {
   "cell_type": "markdown",
   "metadata": {},
   "source": [
    "- lambda가 나온 이유는? def보다 간결하게 사용할 수 있고, def를 사용할 수 없는 곳에도 사용할 수 있다."
   ]
  },
  {
   "cell_type": "code",
   "execution_count": 67,
   "metadata": {
    "collapsed": false
   },
   "outputs": [
    {
     "name": "stdout",
     "output_type": "stream",
     "text": [
      "[<function <lambda> at 0x1046829b0>, <function <lambda> at 0x1046821b8>]\n",
      "7\n",
      "12\n"
     ]
    }
   ],
   "source": [
    "# 리스트안에 lambda를 사용해서 간단하게 함수를 작성할 수 있다.\n",
    "myList = [lambda a, b : a + b, lambda a, b : a * b]\n",
    "print myList\n",
    "\n",
    "print myList[0](3, 4)\n",
    "print myList[1](3, 4)"
   ]
  },
  {
   "cell_type": "markdown",
   "metadata": {},
   "source": [
    "### len\n",
    "- 입력값의 길이(요소의 전체 개수)를 리턴하는 함수이다."
   ]
  },
  {
   "cell_type": "code",
   "execution_count": 68,
   "metadata": {
    "collapsed": false
   },
   "outputs": [
    {
     "name": "stdout",
     "output_type": "stream",
     "text": [
      "6\n",
      "5\n",
      "4\n"
     ]
    }
   ],
   "source": [
    "# 1. 문자열의 길이\n",
    "print len(\"Python\")\n",
    "\n",
    "# 2. List의 길이\n",
    "print len([1, 2, 3, 4, 5])\n",
    "\n",
    "# 3. Tuple의 길이\n",
    "print len((\"a\", \"b\", \"c\", \"d\"))"
   ]
  },
  {
   "cell_type": "markdown",
   "metadata": {},
   "source": [
    "### map\n",
    "- 함수 f와 반복 가능한(iterable) 자료형을 입력으로 받는다.\n",
    "- map은 입력 받은 자료형의 각 요소가 함수 f에 의해 수행된 결과를 묶어서 리턴하는 함수이다."
   ]
  },
  {
   "cell_type": "code",
   "execution_count": 69,
   "metadata": {
    "collapsed": false
   },
   "outputs": [
    {
     "data": {
      "text/plain": [
       "[2, 4, 6, 8]"
      ]
     },
     "execution_count": 69,
     "metadata": {},
     "output_type": "execute_result"
    }
   ],
   "source": [
    "# 1. 리스트의 각 원소를 2배씩 늘리는 함수를 작성해보자.\n",
    "def two_times(numberList):\n",
    "    result = []\n",
    "    for number in numberList:\n",
    "        result.append(number * 2)\n",
    "    return result\n",
    "\n",
    "two_times([1, 2, 3, 4])"
   ]
  },
  {
   "cell_type": "code",
   "execution_count": 70,
   "metadata": {
    "collapsed": false
   },
   "outputs": [
    {
     "data": {
      "text/plain": [
       "[2, 4, 6, 8]"
      ]
     },
     "execution_count": 70,
     "metadata": {},
     "output_type": "execute_result"
    }
   ],
   "source": [
    "# 2. map 함수를 사용하자.\n",
    "def two_times(x) : return x * 2\n",
    "a = map(two_times, [1, 2, 3, 4])\n",
    "a"
   ]
  },
  {
   "cell_type": "code",
   "execution_count": 71,
   "metadata": {
    "collapsed": false
   },
   "outputs": [
    {
     "data": {
      "text/plain": [
       "[2, 4, 6, 8]"
      ]
     },
     "execution_count": 71,
     "metadata": {},
     "output_type": "execute_result"
    }
   ],
   "source": [
    "# 3. lambda 함수와 map 함수를 사용하자.\n",
    "b = map(lambda x : x * 2, [1, 2, 3, 4])\n",
    "b"
   ]
  },
  {
   "cell_type": "code",
   "execution_count": 72,
   "metadata": {
    "collapsed": false
   },
   "outputs": [
    {
     "data": {
      "text/plain": [
       "[2, 3, 4, 5]"
      ]
     },
     "execution_count": 72,
     "metadata": {},
     "output_type": "execute_result"
    }
   ],
   "source": [
    "# 4. 리스트의 각 원소를 1씩 증가시키는 함수\n",
    "c = map(lambda x : x + 1, [1, 2, 3, 4])\n",
    "c"
   ]
  },
  {
   "cell_type": "markdown",
   "metadata": {},
   "source": [
    "### max\n",
    "- 인수로 반복 가능한 자료형을 입력받아 그 최대값을 리턴하는 함수이다."
   ]
  },
  {
   "cell_type": "code",
   "execution_count": 73,
   "metadata": {
    "collapsed": false
   },
   "outputs": [
    {
     "name": "stdout",
     "output_type": "stream",
     "text": [
      "5\n",
      "y\n"
     ]
    }
   ],
   "source": [
    "print max([1, 2, 3, 5])\n",
    "print max(\"python\")"
   ]
  },
  {
   "cell_type": "markdown",
   "metadata": {},
   "source": [
    "### min\n",
    "- 인수로 반복 가능한 자료형을 입력받아 그 최소값을 리턴하는 함수이다."
   ]
  },
  {
   "cell_type": "code",
   "execution_count": 74,
   "metadata": {
    "collapsed": false
   },
   "outputs": [
    {
     "name": "stdout",
     "output_type": "stream",
     "text": [
      "1\n",
      "h\n"
     ]
    }
   ],
   "source": [
    "print min([1, 2, 3, 5])\n",
    "print min(\"python\")"
   ]
  },
  {
   "cell_type": "markdown",
   "metadata": {},
   "source": [
    "### pow\n",
    "- `pow(x, y)`는 `x`의 `y`제곱한 결과를 리턴하는 함수이다."
   ]
  },
  {
   "cell_type": "code",
   "execution_count": 75,
   "metadata": {
    "collapsed": false
   },
   "outputs": [
    {
     "data": {
      "text/plain": [
       "16"
      ]
     },
     "execution_count": 75,
     "metadata": {},
     "output_type": "execute_result"
    }
   ],
   "source": [
    "pow(2, 4) # 2^4"
   ]
  },
  {
   "cell_type": "markdown",
   "metadata": {},
   "source": [
    "### range\n",
    "- 입력받은 숫자에 해당하는 범위의 값을 반복 가능한 객체로 만들어 리턴한다."
   ]
  },
  {
   "cell_type": "code",
   "execution_count": 76,
   "metadata": {
    "collapsed": false
   },
   "outputs": [
    {
     "data": {
      "text/plain": [
       "[0, 1, 2, 3, 4]"
      ]
     },
     "execution_count": 76,
     "metadata": {},
     "output_type": "execute_result"
    }
   ],
   "source": [
    "# 1. 인수가 하나인 경우\n",
    "range(5)"
   ]
  },
  {
   "cell_type": "code",
   "execution_count": 77,
   "metadata": {
    "collapsed": false
   },
   "outputs": [
    {
     "data": {
      "text/plain": [
       "[5, 6, 7, 8, 9]"
      ]
     },
     "execution_count": 77,
     "metadata": {},
     "output_type": "execute_result"
    }
   ],
   "source": [
    "# 2. 인수가 두개인 경우 : 시작 인덱스와, 마지막 - 1 인덱스를 출력한다.\n",
    "range(5, 10)"
   ]
  },
  {
   "cell_type": "code",
   "execution_count": 78,
   "metadata": {
    "collapsed": false
   },
   "outputs": [
    {
     "data": {
      "text/plain": [
       "[1, 3, 5, 7, 9]"
      ]
     },
     "execution_count": 78,
     "metadata": {},
     "output_type": "execute_result"
    }
   ],
   "source": [
    "# 3. 인수가 3개인 경우 : 세 번째 인수는 숫자 사이의 거리를 말한다.\n",
    "range(1, 10, 2)"
   ]
  },
  {
   "cell_type": "markdown",
   "metadata": {},
   "source": [
    "### sorted\n",
    "- 입력값을 정렬한 후 그 결과를 리스트로 리턴하는 함수이다."
   ]
  },
  {
   "cell_type": "code",
   "execution_count": 79,
   "metadata": {
    "collapsed": false
   },
   "outputs": [
    {
     "data": {
      "text/plain": [
       "['a', 'c', 'd', 'e']"
      ]
     },
     "execution_count": 79,
     "metadata": {},
     "output_type": "execute_result"
    }
   ],
   "source": [
    "sorted([\"a\", \"c\", \"e\", \"d\"])"
   ]
  },
  {
   "cell_type": "code",
   "execution_count": 80,
   "metadata": {
    "collapsed": false
   },
   "outputs": [
    {
     "data": {
      "text/plain": [
       "['e', 'd', 'c', 'a']"
      ]
     },
     "execution_count": 80,
     "metadata": {},
     "output_type": "execute_result"
    }
   ],
   "source": [
    "# 역순으로 정렬\n",
    "sorted([\"a\", \"c\", \"e\", \"d\"], reverse = True)"
   ]
  },
  {
   "cell_type": "code",
   "execution_count": 81,
   "metadata": {
    "collapsed": false
   },
   "outputs": [
    {
     "data": {
      "text/plain": [
       "[4, 3, 2, 1]"
      ]
     },
     "execution_count": 81,
     "metadata": {},
     "output_type": "execute_result"
    }
   ],
   "source": [
    "a = [1, 2, 3, 4]\n",
    "a.sort(reverse = True)\n",
    "a"
   ]
  },
  {
   "cell_type": "markdown",
   "metadata": {},
   "source": [
    "### str\n",
    "- 문자열 형태로 객체를 변환하여 리턴하는 함수"
   ]
  },
  {
   "cell_type": "code",
   "execution_count": 82,
   "metadata": {
    "collapsed": false
   },
   "outputs": [
    {
     "data": {
      "text/plain": [
       "'3'"
      ]
     },
     "execution_count": 82,
     "metadata": {},
     "output_type": "execute_result"
    }
   ],
   "source": [
    "str(3)"
   ]
  },
  {
   "cell_type": "code",
   "execution_count": 83,
   "metadata": {
    "collapsed": false
   },
   "outputs": [
    {
     "data": {
      "text/plain": [
       "'HI'"
      ]
     },
     "execution_count": 83,
     "metadata": {},
     "output_type": "execute_result"
    }
   ],
   "source": [
    "str('hi'.upper())"
   ]
  },
  {
   "cell_type": "markdown",
   "metadata": {},
   "source": [
    "### tuple\n",
    "- 반복 가능한 자료형을 입력받아 튜플 형태로 바꾸어 리턴하는 함수"
   ]
  },
  {
   "cell_type": "code",
   "execution_count": 84,
   "metadata": {
    "collapsed": false
   },
   "outputs": [
    {
     "data": {
      "text/plain": [
       "('a', 'b', 'c')"
      ]
     },
     "execution_count": 84,
     "metadata": {},
     "output_type": "execute_result"
    }
   ],
   "source": [
    "tuple(\"abc\")"
   ]
  },
  {
   "cell_type": "code",
   "execution_count": 85,
   "metadata": {
    "collapsed": false
   },
   "outputs": [
    {
     "data": {
      "text/plain": [
       "(1, 2, 3)"
      ]
     },
     "execution_count": 85,
     "metadata": {},
     "output_type": "execute_result"
    }
   ],
   "source": [
    "tuple([1, 2, 3])"
   ]
  },
  {
   "cell_type": "markdown",
   "metadata": {},
   "source": [
    "### type\n",
    "- 입력값의 자료형이 무엇인지 알려주는 함수"
   ]
  },
  {
   "cell_type": "code",
   "execution_count": 86,
   "metadata": {
    "collapsed": false
   },
   "outputs": [
    {
     "data": {
      "text/plain": [
       "str"
      ]
     },
     "execution_count": 86,
     "metadata": {},
     "output_type": "execute_result"
    }
   ],
   "source": [
    "type(\"abc\")"
   ]
  },
  {
   "cell_type": "code",
   "execution_count": 87,
   "metadata": {
    "collapsed": false
   },
   "outputs": [
    {
     "data": {
      "text/plain": [
       "list"
      ]
     },
     "execution_count": 87,
     "metadata": {},
     "output_type": "execute_result"
    }
   ],
   "source": [
    "type([1, 2, 3])"
   ]
  },
  {
   "cell_type": "code",
   "execution_count": 88,
   "metadata": {
    "collapsed": false
   },
   "outputs": [
    {
     "data": {
      "text/plain": [
       "dict"
      ]
     },
     "execution_count": 88,
     "metadata": {},
     "output_type": "execute_result"
    }
   ],
   "source": [
    "type({\"a\" : 1})"
   ]
  },
  {
   "cell_type": "markdown",
   "metadata": {},
   "source": [
    "### zip\n",
    "- 동일한 개수로 이루어진 자료형을 묶어 주는 역할을 하는 함수"
   ]
  },
  {
   "cell_type": "code",
   "execution_count": 89,
   "metadata": {
    "collapsed": false
   },
   "outputs": [
    {
     "data": {
      "text/plain": [
       "[(1, 4), (2, 5), (3, 6)]"
      ]
     },
     "execution_count": 89,
     "metadata": {},
     "output_type": "execute_result"
    }
   ],
   "source": [
    "zip([1, 2, 3], [4, 5, 6])"
   ]
  },
  {
   "cell_type": "code",
   "execution_count": 90,
   "metadata": {
    "collapsed": false
   },
   "outputs": [
    {
     "data": {
      "text/plain": [
       "[(1, 'a', (1, 2)), (2, 'b', (2, 3)), (3, 'c', (3, 4)), (4, 'd', (5, 7))]"
      ]
     },
     "execution_count": 90,
     "metadata": {},
     "output_type": "execute_result"
    }
   ],
   "source": [
    "zip([1, 2, 3, 4], [\"a\", \"b\", \"c\", \"d\"], [(1, 2), (2, 3), (3, 4), (5, 7)])"
   ]
  }
 ],
 "metadata": {
  "anaconda-cloud": {},
  "kernelspec": {
   "display_name": "Python [conda root]",
   "language": "python",
   "name": "conda-root-py"
  },
  "language_info": {
   "codemirror_mode": {
    "name": "ipython",
    "version": 2
   },
   "file_extension": ".py",
   "mimetype": "text/x-python",
   "name": "python",
   "nbconvert_exporter": "python",
   "pygments_lexer": "ipython2",
   "version": "2.7.12"
  }
 },
 "nbformat": 4,
 "nbformat_minor": 1
}
