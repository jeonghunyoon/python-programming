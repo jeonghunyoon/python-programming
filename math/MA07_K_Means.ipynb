{
 "cells": [
  {
   "cell_type": "markdown",
   "metadata": {},
   "source": [
    "# KMeans 알고리즘\n",
    "이론적 배경은 아래 페이지를 참고하여라.\n",
    " - https://www.slideshare.net/JeonghunYoon/05-k-means-clustering-kmeans"
   ]
  },
  {
   "cell_type": "code",
   "execution_count": 38,
   "metadata": {
    "collapsed": true
   },
   "outputs": [],
   "source": [
    "import numpy as np\n",
    "import pandas as pd\n",
    "import matplotlib.pyplot as plt\n",
    "from sklearn.cluster import KMeans\n",
    "import matplotlib as mpl\n",
    "\n",
    "# plot 사이즈 조절\n",
    "mpl.rcParams['figure.figsize'] = (13,8)"
   ]
  },
  {
   "cell_type": "code",
   "execution_count": 39,
   "metadata": {
    "collapsed": false
   },
   "outputs": [
    {
     "data": {
      "image/png": "[encoded data removed]",
      "text/plain": [
       "<matplotlib.figure.Figure at 0x1a12c09ad0>"
      ]
     },
     "metadata": {},
     "output_type": "display_data"
    }
   ],
   "source": [
    "x = np.array([[7, 5],\n",
    "              [5, 7],\n",
    "              [7, 7],\n",
    "              [4, 4],\n",
    "              [4, 6],\n",
    "              [1, 4],\n",
    "              [0, 0],\n",
    "              [2, 2],\n",
    "              [8, 7],\n",
    "              [6, 8],\n",
    "              [5, 5],\n",
    "              [3, 7]])\n",
    "\n",
    "plt.scatter(x[:,0], x[:,1], s=100)\n",
    "plt.show()"
   ]
  },
  {
   "cell_type": "markdown",
   "metadata": {},
   "source": [
    "### 첫 번째 반복"
   ]
  },
  {
   "cell_type": "code",
   "execution_count": 40,
   "metadata": {
    "collapsed": true
   },
   "outputs": [],
   "source": [
    "# centroid는 random하게 선택\n",
    "# kmeans 알고리즘 반복을 1번 (seed는 1번만 선택)\n",
    "# centroid 구하는 알고리즘 반복 : 1번\n",
    "model_1 = KMeans(n_clusters=2, init=\"random\", n_init=1, max_iter=1, random_state=1).fit(x)"
   ]
  },
  {
   "cell_type": "code",
   "execution_count": 41,
   "metadata": {
    "collapsed": false
   },
   "outputs": [
    {
     "name": "stdout",
     "output_type": "stream",
     "text": [
      "[ 6.6  6.8] [ 2.71428571  4.        ]\n"
     ]
    },
    {
     "data": {
      "image/png": "[encoded data removed]",
      "text/plain": [
       "<matplotlib.figure.Figure at 0x1a14211ad0>"
      ]
     },
     "metadata": {},
     "output_type": "display_data"
    }
   ],
   "source": [
    "# cluster의 첫 번째 centroid를 출력\n",
    "m1_c0, m1_c1 = model_1.cluster_centers_\n",
    "print m1_c0, m1_c1\n",
    "\n",
    "# masking indexing를 이용한다.\n",
    "plt.scatter(x[model_1.labels_==0,0], x[model_1.labels_==0,1], s=100, marker='v', c='r')\n",
    "plt.scatter(x[model_1.labels_==1,0], x[model_1.labels_==1,1], s=100, marker='^', c='b')\n",
    "plt.scatter(m1_c0[0], m1_c0[1], s=100, c=\"r\")\n",
    "plt.scatter(m1_c1[0], m1_c1[1], s=100, c=\"b\")\n",
    "\n",
    "plt.show()"
   ]
  },
  {
   "cell_type": "code",
   "execution_count": 55,
   "metadata": {
    "collapsed": false
   },
   "outputs": [],
   "source": [
    "# 각 centroid와의 거리를 재보자.\n",
    "def kmeans_df(c0, c1):\n",
    "    df = pd.DataFrame(np.hstack([x, \n",
    "                                 np.linalg.norm(x - c0, axis=1)[:, np.newaxis], \n",
    "                                 np.linalg.norm(x - c1, axis=1)[:, np.newaxis], \n",
    "                                 model.labels_[:, np.newaxis]]),\n",
    "                      columns=[\"x\", \"y\", \"distance_c0\", \"distance_c1\", \"cluster\"])\n",
    "    return df"
   ]
  },
  {
   "cell_type": "code",
   "execution_count": 56,
   "metadata": {
    "collapsed": false
   },
   "outputs": [
    {
     "data": {
      "text/html": [
       "<div>\n",
       "<style scoped>\n",
       "    .dataframe tbody tr th:only-of-type {\n",
       "        vertical-align: middle;\n",
       "    }\n",
       "\n",
       "    .dataframe tbody tr th {\n",
       "        vertical-align: top;\n",
       "    }\n",
       "\n",
       "    .dataframe thead th {\n",
       "        text-align: right;\n",
       "    }\n",
       "</style>\n",
       "<table border=\"1\" class=\"dataframe\">\n",
       "  <thead>\n",
       "    <tr style=\"text-align: right;\">\n",
       "      <th></th>\n",
       "      <th>x</th>\n",
       "      <th>y</th>\n",
       "      <th>distance_c0</th>\n",
       "      <th>distance_c1</th>\n",
       "      <th>cluster</th>\n",
       "    </tr>\n",
       "  </thead>\n",
       "  <tbody>\n",
       "    <tr>\n",
       "      <th>0</th>\n",
       "      <td>7.0</td>\n",
       "      <td>5.0</td>\n",
       "      <td>1.843909</td>\n",
       "      <td>4.400835</td>\n",
       "      <td>1.0</td>\n",
       "    </tr>\n",
       "    <tr>\n",
       "      <th>1</th>\n",
       "      <td>5.0</td>\n",
       "      <td>7.0</td>\n",
       "      <td>1.612452</td>\n",
       "      <td>3.771537</td>\n",
       "      <td>1.0</td>\n",
       "    </tr>\n",
       "    <tr>\n",
       "      <th>2</th>\n",
       "      <td>7.0</td>\n",
       "      <td>7.0</td>\n",
       "      <td>0.447214</td>\n",
       "      <td>5.231381</td>\n",
       "      <td>1.0</td>\n",
       "    </tr>\n",
       "    <tr>\n",
       "      <th>3</th>\n",
       "      <td>4.0</td>\n",
       "      <td>4.0</td>\n",
       "      <td>3.820995</td>\n",
       "      <td>1.285714</td>\n",
       "      <td>1.0</td>\n",
       "    </tr>\n",
       "    <tr>\n",
       "      <th>4</th>\n",
       "      <td>4.0</td>\n",
       "      <td>6.0</td>\n",
       "      <td>2.720294</td>\n",
       "      <td>2.377617</td>\n",
       "      <td>1.0</td>\n",
       "    </tr>\n",
       "    <tr>\n",
       "      <th>5</th>\n",
       "      <td>1.0</td>\n",
       "      <td>4.0</td>\n",
       "      <td>6.260990</td>\n",
       "      <td>1.714286</td>\n",
       "      <td>0.0</td>\n",
       "    </tr>\n",
       "    <tr>\n",
       "      <th>6</th>\n",
       "      <td>0.0</td>\n",
       "      <td>0.0</td>\n",
       "      <td>9.476286</td>\n",
       "      <td>4.833978</td>\n",
       "      <td>0.0</td>\n",
       "    </tr>\n",
       "    <tr>\n",
       "      <th>7</th>\n",
       "      <td>2.0</td>\n",
       "      <td>2.0</td>\n",
       "      <td>6.648308</td>\n",
       "      <td>2.123724</td>\n",
       "      <td>0.0</td>\n",
       "    </tr>\n",
       "    <tr>\n",
       "      <th>8</th>\n",
       "      <td>8.0</td>\n",
       "      <td>7.0</td>\n",
       "      <td>1.414214</td>\n",
       "      <td>6.077728</td>\n",
       "      <td>1.0</td>\n",
       "    </tr>\n",
       "    <tr>\n",
       "      <th>9</th>\n",
       "      <td>6.0</td>\n",
       "      <td>8.0</td>\n",
       "      <td>1.341641</td>\n",
       "      <td>5.176477</td>\n",
       "      <td>1.0</td>\n",
       "    </tr>\n",
       "    <tr>\n",
       "      <th>10</th>\n",
       "      <td>5.0</td>\n",
       "      <td>5.0</td>\n",
       "      <td>2.408319</td>\n",
       "      <td>2.494893</td>\n",
       "      <td>1.0</td>\n",
       "    </tr>\n",
       "    <tr>\n",
       "      <th>11</th>\n",
       "      <td>3.0</td>\n",
       "      <td>7.0</td>\n",
       "      <td>3.605551</td>\n",
       "      <td>3.013575</td>\n",
       "      <td>1.0</td>\n",
       "    </tr>\n",
       "  </tbody>\n",
       "</table>\n",
       "</div>"
      ],
      "text/plain": [
       "      x    y  distance_c0  distance_c1  cluster\n",
       "0   7.0  5.0     1.843909     4.400835      1.0\n",
       "1   5.0  7.0     1.612452     3.771537      1.0\n",
       "2   7.0  7.0     0.447214     5.231381      1.0\n",
       "3   4.0  4.0     3.820995     1.285714      1.0\n",
       "4   4.0  6.0     2.720294     2.377617      1.0\n",
       "5   1.0  4.0     6.260990     1.714286      0.0\n",
       "6   0.0  0.0     9.476286     4.833978      0.0\n",
       "7   2.0  2.0     6.648308     2.123724      0.0\n",
       "8   8.0  7.0     1.414214     6.077728      1.0\n",
       "9   6.0  8.0     1.341641     5.176477      1.0\n",
       "10  5.0  5.0     2.408319     2.494893      1.0\n",
       "11  3.0  7.0     3.605551     3.013575      1.0"
      ]
     },
     "execution_count": 56,
     "metadata": {},
     "output_type": "execute_result"
    }
   ],
   "source": [
    "# 첫번째 반복결과\n",
    "kmeans_df(m1_c0, m1_c1)"
   ]
  },
  {
   "cell_type": "code",
   "execution_count": null,
   "metadata": {
    "collapsed": true
   },
   "outputs": [],
   "source": [
    "# 첫번째 반복 후, centroid와 각 점과의 거리를 합하여 점수화\n",
    "model_1.score(x)"
   ]
  },
  {
   "cell_type": "markdown",
   "metadata": {},
   "source": [
    "### 두 번째 반복"
   ]
  },
  {
   "cell_type": "code",
   "execution_count": 58,
   "metadata": {
    "collapsed": false
   },
   "outputs": [],
   "source": [
    "# centroid 구하는 알고리즘 반복 : 2번\n",
    "model_2 = KMeans(n_clusters=2, init=\"random\", n_init=1, max_iter=2, random_state=0).fit(x)"
   ]
  },
  {
   "cell_type": "code",
   "execution_count": 59,
   "metadata": {
    "collapsed": false
   },
   "outputs": [
    {
     "name": "stdout",
     "output_type": "stream",
     "text": [
      "[ 1.  2.] [ 5.44444444  6.22222222]\n"
     ]
    },
    {
     "data": {
      "image/png": "[encoded data removed]",
      "text/plain": [
       "<matplotlib.figure.Figure at 0x1a142bafd0>"
      ]
     },
     "metadata": {},
     "output_type": "display_data"
    }
   ],
   "source": [
    "m2_c0, m2_c1 = model.cluster_centers_\n",
    "print m2_c0, m2_c1\n",
    "\n",
    "plt.scatter(x[model_2.labels_==0,0], x[model_2.labels_==0,1], s=100, marker='v', c='r')\n",
    "plt.scatter(x[model_2.labels_==1,0], x[model_2.labels_==1,1], s=100, marker='^', c='b')\n",
    "plt.scatter(m2_c0[0], m2_c0[1], s=100, c=\"r\")\n",
    "plt.scatter(m2_c1[0], m2_c1[1], s=100, c=\"b\")\n",
    "\n",
    "plt.show()"
   ]
  },
  {
   "cell_type": "code",
   "execution_count": 60,
   "metadata": {
    "collapsed": false
   },
   "outputs": [
    {
     "data": {
      "text/html": [
       "<div>\n",
       "<style scoped>\n",
       "    .dataframe tbody tr th:only-of-type {\n",
       "        vertical-align: middle;\n",
       "    }\n",
       "\n",
       "    .dataframe tbody tr th {\n",
       "        vertical-align: top;\n",
       "    }\n",
       "\n",
       "    .dataframe thead th {\n",
       "        text-align: right;\n",
       "    }\n",
       "</style>\n",
       "<table border=\"1\" class=\"dataframe\">\n",
       "  <thead>\n",
       "    <tr style=\"text-align: right;\">\n",
       "      <th></th>\n",
       "      <th>x</th>\n",
       "      <th>y</th>\n",
       "      <th>distance_c0</th>\n",
       "      <th>distance_c1</th>\n",
       "      <th>cluster</th>\n",
       "    </tr>\n",
       "  </thead>\n",
       "  <tbody>\n",
       "    <tr>\n",
       "      <th>0</th>\n",
       "      <td>7.0</td>\n",
       "      <td>5.0</td>\n",
       "      <td>6.708204</td>\n",
       "      <td>1.978277</td>\n",
       "      <td>1.0</td>\n",
       "    </tr>\n",
       "    <tr>\n",
       "      <th>1</th>\n",
       "      <td>5.0</td>\n",
       "      <td>7.0</td>\n",
       "      <td>6.403124</td>\n",
       "      <td>0.895806</td>\n",
       "      <td>1.0</td>\n",
       "    </tr>\n",
       "    <tr>\n",
       "      <th>2</th>\n",
       "      <td>7.0</td>\n",
       "      <td>7.0</td>\n",
       "      <td>7.810250</td>\n",
       "      <td>1.739164</td>\n",
       "      <td>1.0</td>\n",
       "    </tr>\n",
       "    <tr>\n",
       "      <th>3</th>\n",
       "      <td>4.0</td>\n",
       "      <td>4.0</td>\n",
       "      <td>3.605551</td>\n",
       "      <td>2.650413</td>\n",
       "      <td>1.0</td>\n",
       "    </tr>\n",
       "    <tr>\n",
       "      <th>4</th>\n",
       "      <td>4.0</td>\n",
       "      <td>6.0</td>\n",
       "      <td>5.000000</td>\n",
       "      <td>1.461438</td>\n",
       "      <td>1.0</td>\n",
       "    </tr>\n",
       "    <tr>\n",
       "      <th>5</th>\n",
       "      <td>1.0</td>\n",
       "      <td>4.0</td>\n",
       "      <td>2.000000</td>\n",
       "      <td>4.969040</td>\n",
       "      <td>0.0</td>\n",
       "    </tr>\n",
       "    <tr>\n",
       "      <th>6</th>\n",
       "      <td>0.0</td>\n",
       "      <td>0.0</td>\n",
       "      <td>2.236068</td>\n",
       "      <td>8.267891</td>\n",
       "      <td>0.0</td>\n",
       "    </tr>\n",
       "    <tr>\n",
       "      <th>7</th>\n",
       "      <td>2.0</td>\n",
       "      <td>2.0</td>\n",
       "      <td>1.000000</td>\n",
       "      <td>5.448978</td>\n",
       "      <td>0.0</td>\n",
       "    </tr>\n",
       "    <tr>\n",
       "      <th>8</th>\n",
       "      <td>8.0</td>\n",
       "      <td>7.0</td>\n",
       "      <td>8.602325</td>\n",
       "      <td>2.671292</td>\n",
       "      <td>1.0</td>\n",
       "    </tr>\n",
       "    <tr>\n",
       "      <th>9</th>\n",
       "      <td>6.0</td>\n",
       "      <td>8.0</td>\n",
       "      <td>7.810250</td>\n",
       "      <td>1.862562</td>\n",
       "      <td>1.0</td>\n",
       "    </tr>\n",
       "    <tr>\n",
       "      <th>10</th>\n",
       "      <td>5.0</td>\n",
       "      <td>5.0</td>\n",
       "      <td>5.000000</td>\n",
       "      <td>1.300522</td>\n",
       "      <td>1.0</td>\n",
       "    </tr>\n",
       "    <tr>\n",
       "      <th>11</th>\n",
       "      <td>3.0</td>\n",
       "      <td>7.0</td>\n",
       "      <td>5.385165</td>\n",
       "      <td>2.565199</td>\n",
       "      <td>1.0</td>\n",
       "    </tr>\n",
       "  </tbody>\n",
       "</table>\n",
       "</div>"
      ],
      "text/plain": [
       "      x    y  distance_c0  distance_c1  cluster\n",
       "0   7.0  5.0     6.708204     1.978277      1.0\n",
       "1   5.0  7.0     6.403124     0.895806      1.0\n",
       "2   7.0  7.0     7.810250     1.739164      1.0\n",
       "3   4.0  4.0     3.605551     2.650413      1.0\n",
       "4   4.0  6.0     5.000000     1.461438      1.0\n",
       "5   1.0  4.0     2.000000     4.969040      0.0\n",
       "6   0.0  0.0     2.236068     8.267891      0.0\n",
       "7   2.0  2.0     1.000000     5.448978      0.0\n",
       "8   8.0  7.0     8.602325     2.671292      1.0\n",
       "9   6.0  8.0     7.810250     1.862562      1.0\n",
       "10  5.0  5.0     5.000000     1.300522      1.0\n",
       "11  3.0  7.0     5.385165     2.565199      1.0"
      ]
     },
     "execution_count": 60,
     "metadata": {},
     "output_type": "execute_result"
    }
   ],
   "source": [
    "kmeans_df(m2_c0, m2_c1)"
   ]
  },
  {
   "cell_type": "code",
   "execution_count": 61,
   "metadata": {
    "collapsed": false
   },
   "outputs": [
    {
     "data": {
      "text/plain": [
       "-45.777777777777729"
      ]
     },
     "execution_count": 61,
     "metadata": {},
     "output_type": "execute_result"
    }
   ],
   "source": [
    "# 두 번째 구한 centroid와 각 점과의 거리를 합하여 점수화\n",
    "model_2.score(x)"
   ]
  },
  {
   "cell_type": "markdown",
   "metadata": {},
   "source": [
    "### 100번 반복"
   ]
  },
  {
   "cell_type": "code",
   "execution_count": 62,
   "metadata": {
    "collapsed": true
   },
   "outputs": [],
   "source": [
    "# centroid 구하는 알고리즘 반복 : 100번\n",
    "model_3 = KMeans(n_clusters=2, init=\"random\", n_init=1, max_iter=100, random_state=0).fit(x)"
   ]
  },
  {
   "cell_type": "code",
   "execution_count": 63,
   "metadata": {
    "collapsed": false
   },
   "outputs": [
    {
     "name": "stdout",
     "output_type": "stream",
     "text": [
      "[ 1.  2.] [ 5.44444444  6.22222222]\n"
     ]
    },
    {
     "data": {
      "image/png": "[encoded data removed]",
      "text/plain": [
       "<matplotlib.figure.Figure at 0x1a142c9e50>"
      ]
     },
     "metadata": {},
     "output_type": "display_data"
    }
   ],
   "source": [
    "m3_c0, m3_c1 = model.cluster_centers_\n",
    "print m3_c0, m3_c1\n",
    "\n",
    "plt.scatter(x[model_3.labels_==0,0], x[model_3.labels_==0,1], s=100, marker='v', c='r')\n",
    "plt.scatter(x[model_3.labels_==1,0], x[model_3.labels_==1,1], s=100, marker='^', c='b')\n",
    "plt.scatter(m3_c0[0], m3_c0[1], s=100, c=\"r\")\n",
    "plt.scatter(m3_c1[0], m3_c1[1], s=100, c=\"b\")\n",
    "\n",
    "plt.show()"
   ]
  },
  {
   "cell_type": "code",
   "execution_count": 64,
   "metadata": {
    "collapsed": false
   },
   "outputs": [
    {
     "data": {
      "text/plain": [
       "-45.777777777777729"
      ]
     },
     "execution_count": 64,
     "metadata": {},
     "output_type": "execute_result"
    }
   ],
   "source": [
    "# 100번째 centroid와 각 점과의 거리를 합하여 점수화한다. 2번째와 점수차이가 없으므로, 100번 반복할 필요가 없다.\n",
    "model_3.score(x)"
   ]
  }
 ],
 "metadata": {
  "anaconda-cloud": {},
  "kernelspec": {
   "display_name": "Python [conda root]",
   "language": "python",
   "name": "conda-root-py"
  },
  "language_info": {
   "codemirror_mode": {
    "name": "ipython",
    "version": 2
   },
   "file_extension": ".py",
   "mimetype": "text/x-python",
   "name": "python",
   "nbconvert_exporter": "python",
   "pygments_lexer": "ipython2",
   "version": "2.7.12"
  }
 },
 "nbformat": 4,
 "nbformat_minor": 1
}
