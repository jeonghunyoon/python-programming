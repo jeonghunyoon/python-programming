{
 "cells": [
  {
   "cell_type": "markdown",
   "metadata": {},
   "source": [
    "### Python\n",
    "- Interpreted langugae : 프로그래밍 언어를 byte code로 변환하는 컴파일링 과정을 거치지 않고, 바로 실행할 수 있는 언어이다.\n",
    "- Dynamically typed : 변수들의 type을 미리 선언하지 않는다.\n",
    "- 기능이 풍부한 built-in 콜렉션 type들이 있다.\n",
    " 1. Lists\n",
    " 2. Tuples\n",
    " 3. Dictionaries (maps)\n",
    " 4. Sets\n",
    "- 간결하고 축약된 언어이다.\n",
    "\n",
    "### Language features\n",
    "- 괄호 대신에 indentation 으로 코드 블록을 구분\n",
    "- Sequence types\n",
    " 1. Strings '…' : characters로 이루어져 있고, immutable 하다.\n",
    " 2. Lists […] : 같은 type이 아닌, 서로 다른 type으로도 List를 생성할 수 있고, mutable 하다.\n",
    " 3. Tuples (…) : 같은 type이 아닌, 서로 다른 type으로도 List를 생성할 수 있고, immutable 하다.\n",
    "- subscripting에 강하다. (list를 slicing 하는 기능이 강하다.)\n",
    "- Exception 기능\n",
    "- Iterators와 generators\n",
    "\n",
    "### Why Python?\n",
    "- scripting 언어의 좋은 예이다.\n",
    "- 매우 간결하고 축약된 언어이다.\n",
    "- 강력하지만 지나치지 않은 객체 시스템이다.\n",
    " - 모든 value가 object 이다.\n",
    "- 강력한 collection과 iteration abstractions!\n",
    " - dynamic하게 type이 결정되는 것이, type의 generics을 쉽게 한다.\n",
    " \n",
    "### Dynamic typing (동적인 형정의)\n",
    "- Java\n",
    " - 변수를 선언할 때, type을 미리 선언 한다. (statically type)\n",
    "- Python\n",
    " 1. 변수는 처음에 값이 할당되면 생성된다.\n",
    " 2. 하나의 변수는 모든 type의 object를 reference 할 수 있다.\n",
    " 3. 대부분의 type을 거의 같은 방법으로 다룰 수 있다.\n",
    " 4. type error는 runtime 시에만 잡히는 단점이 있다."
   ]
  },
  {
   "cell_type": "markdown",
   "metadata": {},
   "source": [
    "### Python 둘러보기\n",
    "- 사칙연산"
   ]
  },
  {
   "cell_type": "code",
   "execution_count": 1,
   "metadata": {
    "collapsed": false
   },
   "outputs": [
    {
     "data": {
      "text/plain": [
       "3"
      ]
     },
     "execution_count": 1,
     "metadata": {},
     "output_type": "execute_result"
    }
   ],
   "source": [
    "# 덧셈\n",
    "1 + 2"
   ]
  },
  {
   "cell_type": "code",
   "execution_count": 2,
   "metadata": {
    "collapsed": false
   },
   "outputs": [
    {
     "data": {
      "text/plain": [
       "6"
      ]
     },
     "execution_count": 2,
     "metadata": {},
     "output_type": "execute_result"
    }
   ],
   "source": [
    "# 곱셈\n",
    "3 * 2"
   ]
  },
  {
   "cell_type": "code",
   "execution_count": 3,
   "metadata": {
    "collapsed": false
   },
   "outputs": [
    {
     "data": {
      "text/plain": [
       "1.25"
      ]
     },
     "execution_count": 3,
     "metadata": {},
     "output_type": "execute_result"
    }
   ],
   "source": [
    "# 나눗셈\n",
    "3 / 2.4"
   ]
  },
  {
   "cell_type": "markdown",
   "metadata": {},
   "source": [
    "- 변수에 숫자 대입하고 계산하기"
   ]
  },
  {
   "cell_type": "code",
   "execution_count": 4,
   "metadata": {
    "collapsed": false
   },
   "outputs": [
    {
     "data": {
      "text/plain": [
       "3"
      ]
     },
     "execution_count": 4,
     "metadata": {},
     "output_type": "execute_result"
    }
   ],
   "source": [
    "a = 1\n",
    "b = 2\n",
    "a + b"
   ]
  },
  {
   "cell_type": "markdown",
   "metadata": {},
   "source": [
    "- 변수에 문자 대입하고 출력하기"
   ]
  },
  {
   "cell_type": "code",
   "execution_count": 5,
   "metadata": {
    "collapsed": false
   },
   "outputs": [
    {
     "name": "stdout",
     "output_type": "stream",
     "text": [
      "Python\n"
     ]
    }
   ],
   "source": [
    "a = \"Python\"\n",
    "print a"
   ]
  },
  {
   "cell_type": "code",
   "execution_count": 6,
   "metadata": {
    "collapsed": false
   },
   "outputs": [
    {
     "name": "stdout",
     "output_type": "stream",
     "text": [
      "출력하려는 숫자는 10입니다.\n"
     ]
    }
   ],
   "source": [
    "b = 10\n",
    "print \"출력하려는 숫자는 %d입니다.\" %b "
   ]
  },
  {
   "cell_type": "markdown",
   "metadata": {},
   "source": [
    "- 복소수 사용"
   ]
  },
  {
   "cell_type": "code",
   "execution_count": 7,
   "metadata": {
    "collapsed": false
   },
   "outputs": [
    {
     "data": {
      "text/plain": [
       "(6+9j)"
      ]
     },
     "execution_count": 7,
     "metadata": {},
     "output_type": "execute_result"
    }
   ],
   "source": [
    "a = 2 + 3j\n",
    "b = 3\n",
    "a * b"
   ]
  },
  {
   "cell_type": "markdown",
   "metadata": {},
   "source": [
    "- 조건문 if"
   ]
  },
  {
   "cell_type": "code",
   "execution_count": 8,
   "metadata": {
    "collapsed": false
   },
   "outputs": [
    {
     "name": "stdout",
     "output_type": "stream",
     "text": [
      "a is greater than 1\n"
     ]
    }
   ],
   "source": [
    "a = 3\n",
    "if a > 1:\n",
    "    print(\"a is greater than 1\")"
   ]
  },
  {
   "cell_type": "markdown",
   "metadata": {},
   "source": [
    "- 반복문 for"
   ]
  },
  {
   "cell_type": "code",
   "execution_count": 9,
   "metadata": {
    "collapsed": false
   },
   "outputs": [
    {
     "name": "stdout",
     "output_type": "stream",
     "text": [
      "1\n",
      "2\n",
      "3\n"
     ]
    }
   ],
   "source": [
    "for a in [1, 2, 3]:\n",
    "    print a"
   ]
  },
  {
   "cell_type": "markdown",
   "metadata": {},
   "source": [
    "- 반복문 while"
   ]
  },
  {
   "cell_type": "code",
   "execution_count": 10,
   "metadata": {
    "collapsed": false
   },
   "outputs": [
    {
     "name": "stdout",
     "output_type": "stream",
     "text": [
      "1\n",
      "2\n",
      "3\n"
     ]
    }
   ],
   "source": [
    "i = 0\n",
    "while i < 3:\n",
    "    i = i + 1\n",
    "    print i"
   ]
  },
  {
   "cell_type": "markdown",
   "metadata": {},
   "source": [
    "- 함수"
   ]
  },
  {
   "cell_type": "code",
   "execution_count": 11,
   "metadata": {
    "collapsed": false
   },
   "outputs": [
    {
     "data": {
      "text/plain": [
       "7"
      ]
     },
     "execution_count": 11,
     "metadata": {},
     "output_type": "execute_result"
    }
   ],
   "source": [
    "def sum(a,b):\n",
    "    return a + b\n",
    "\n",
    "sum(3,4)"
   ]
  },
  {
   "cell_type": "markdown",
   "metadata": {},
   "source": [
    "### Basic Code Sample"
   ]
  },
  {
   "cell_type": "code",
   "execution_count": 12,
   "metadata": {
    "collapsed": false
   },
   "outputs": [
    {
     "name": "stdout",
     "output_type": "stream",
     "text": [
      "12\n",
      "HelloWorld\n"
     ]
    }
   ],
   "source": [
    "# This is a code sample. (commnet)\n",
    "x = 34 - 23\n",
    "y = \"Hello\"\n",
    "z = 3.45\n",
    "if z == 3.45 or y == \"Hello\":\n",
    "    x = x + 1\n",
    "    y = y + \"World\"\n",
    "print x\n",
    "print y"
   ]
  },
  {
   "cell_type": "markdown",
   "metadata": {},
   "source": [
    "### 이해하기 쉬운 코드\n",
    "- code block이 indentation으로 구분된다.\n",
    "- 변수에 값을 처음으로 할당할 때(assignment) 변수가 생성된다.\n",
    " - 형(type)을 선언할 필요가 없다.\n",
    "- 값을 할당할 때는 __=__ 을 사용하고, 비교할 때는 __==__ 을 사용한다.\n",
    "- 숫자에 대한 사친연산은 그대로 적용된다.\n",
    " - __+__ 의 경우 string에 대해서는 concatenation을 의미한다.\n",
    " - __%__ 의 경우 string formatting을 의미한다.\n",
    "- 논리연산자는 __and or not__ 이고 기호가 아니다.\n",
    "- sysout은 __print__ 명령어를 사용한다."
   ]
  },
  {
   "cell_type": "markdown",
   "metadata": {},
   "source": [
    "### 기본 데이터형\n",
    "- 정수형(Integer - default for numbers)\n",
    "- 실수형(Floats)\n",
    "- 문자열(String)"
   ]
  },
  {
   "cell_type": "code",
   "execution_count": 13,
   "metadata": {
    "collapsed": false
   },
   "outputs": [
    {
     "name": "stdout",
     "output_type": "stream",
     "text": [
      "2\n"
     ]
    }
   ],
   "source": [
    "# 정수형 예제 1 : Answer is 2, integer division\n",
    "z = 5/2\n",
    "print z"
   ]
  },
  {
   "cell_type": "code",
   "execution_count": 14,
   "metadata": {
    "collapsed": false
   },
   "outputs": [
    {
     "data": {
      "text/plain": [
       "81"
      ]
     },
     "execution_count": 14,
     "metadata": {},
     "output_type": "execute_result"
    }
   ],
   "source": [
    "# 정수형 예제 2 : 거듭제곱\n",
    "a = 3\n",
    "b = 4\n",
    "a**b"
   ]
  },
  {
   "cell_type": "code",
   "execution_count": 15,
   "metadata": {
    "collapsed": false
   },
   "outputs": [
    {
     "name": "stdout",
     "output_type": "stream",
     "text": [
      "1.728\n"
     ]
    }
   ],
   "source": [
    "# 실수형 예제 1\n",
    "x = 3.456\n",
    "z = x / 2\n",
    "print z"
   ]
  },
  {
   "cell_type": "code",
   "execution_count": 16,
   "metadata": {
    "collapsed": false
   },
   "outputs": [
    {
     "name": "stdout",
     "output_type": "stream",
     "text": [
      "42400000000.0\n",
      "4.24e-10\n"
     ]
    }
   ],
   "source": [
    "# 실수형 예제 2 : 컴퓨터식 지수 표현 방식\n",
    "a = 4.24E10   # 4.24*10^10\n",
    "b = 4.24e-10  # 4.24*10^-10\n",
    "print a\n",
    "print b"
   ]
  },
  {
   "cell_type": "code",
   "execution_count": 17,
   "metadata": {
    "collapsed": false
   },
   "outputs": [
    {
     "data": {
      "text/plain": [
       "1"
      ]
     },
     "execution_count": 17,
     "metadata": {},
     "output_type": "execute_result"
    }
   ],
   "source": [
    "# 실수형 예제 3 : 나눗셈 후 나머지를 반환하는 연산자\n",
    "7 % 3"
   ]
  },
  {
   "cell_type": "code",
   "execution_count": 18,
   "metadata": {
    "collapsed": false
   },
   "outputs": [
    {
     "name": "stdout",
     "output_type": "stream",
     "text": [
      "1.75\n",
      "1.0\n"
     ]
    }
   ],
   "source": [
    "# 실수형 예제 4 : 나눗셈 후 소수점 아랫자리를 버리는 연산자\n",
    "print 7.0 / 4\n",
    "print 7.0 // 4"
   ]
  },
  {
   "cell_type": "markdown",
   "metadata": {},
   "source": [
    " - 문자열을 나타내기 위하여 \" \",' '를 모두 사용할 수 있다."
   ]
  },
  {
   "cell_type": "code",
   "execution_count": 19,
   "metadata": {
    "collapsed": false
   },
   "outputs": [
    {
     "name": "stdout",
     "output_type": "stream",
     "text": [
      "abc\n",
      "abc\n"
     ]
    }
   ],
   "source": [
    "# 문자열 예제\n",
    "str1 = \"abc\"\n",
    "str2 = 'abc'\n",
    "\n",
    "print str1\n",
    "print str2"
   ]
  },
  {
   "cell_type": "markdown",
   "metadata": {},
   "source": [
    "  - multi line string을 표현하거나 문자열안에 ',\"를 표현하기 위하여 \"\"\" \"\"\"를 사용한다."
   ]
  },
  {
   "cell_type": "code",
   "execution_count": 20,
   "metadata": {
    "collapsed": false,
    "scrolled": true
   },
   "outputs": [
    {
     "name": "stdout",
     "output_type": "stream",
     "text": [
      "a'b\"c\n",
      "a\n",
      "b\n",
      "c\n"
     ]
    }
   ],
   "source": [
    "# multi line 문자열 예제\n",
    "str3 = \"\"\"a'b\"c\"\"\"\n",
    "str4 =\"\"\"a\n",
    "b\n",
    "c\"\"\"\n",
    "print str3\n",
    "print str4"
   ]
  },
  {
   "cell_type": "markdown",
   "metadata": {},
   "source": [
    "### 주석\n",
    "- 주석은 #로 시작을 한다.\n",
    "- documentation string은 새롭게 정의되는 함수나 객체의 첫번째 line에 쓸 수 있다.\n",
    " - documentation string은 주로 개발환경, 디버거 및 다른 유용한 정보를 포함하고 있다."
   ]
  },
  {
   "cell_type": "code",
   "execution_count": 21,
   "metadata": {
    "collapsed": true
   },
   "outputs": [],
   "source": [
    "def my_function(x, y):\n",
    "    \"\"\"This is the documentation string. This\n",
    "    function contains development env info.\"\"\"\n",
    "    # The code would go here.\n",
    "    return x + y"
   ]
  },
  {
   "cell_type": "markdown",
   "metadata": {},
   "source": [
    "### 변수(variable)\n",
    "- 변수는 객체를 가리키는 것이다.\n",
    " - 파이썬에서 객체는 자료형을 포함한\"파이썬에서 사용되는 모든 것\"을 뜻한다.\n",
    "- `a=3`\n",
    " 1. 3이라는 값을 가지는 정수 자료형(객체)이 자동으로 메모리에 생성\n",
    " 2. `a`는 변수의 이름이며, `3`이라는 정수형 객체가 저장된 메모리 위치를 가리키게 된다.\n",
    "     - 변수 `a`는 <U>객체가 저장된 메모리의 위치를 가리키는 reference(레퍼런스)</U>라고도 한다."
   ]
  },
  {
   "cell_type": "markdown",
   "metadata": {},
   "source": [
    "### 변수를 만드는 여러 가지 방법"
   ]
  },
  {
   "cell_type": "code",
   "execution_count": 22,
   "metadata": {
    "collapsed": false
   },
   "outputs": [
    {
     "name": "stdout",
     "output_type": "stream",
     "text": [
      "python life\n"
     ]
    }
   ],
   "source": [
    "a, b = ('python', 'life')\n",
    "print a, b"
   ]
  },
  {
   "cell_type": "code",
   "execution_count": 23,
   "metadata": {
    "collapsed": false
   },
   "outputs": [
    {
     "name": "stdout",
     "output_type": "stream",
     "text": [
      "python life\n"
     ]
    }
   ],
   "source": [
    "(a, b) = 'python', 'life'\n",
    "print a, b"
   ]
  },
  {
   "cell_type": "code",
   "execution_count": 24,
   "metadata": {
    "collapsed": false
   },
   "outputs": [
    {
     "name": "stdout",
     "output_type": "stream",
     "text": [
      "python life\n"
     ]
    }
   ],
   "source": [
    "[a, b] = ['python', 'life']\n",
    "print a, b"
   ]
  },
  {
   "cell_type": "code",
   "execution_count": 25,
   "metadata": {
    "collapsed": false
   },
   "outputs": [
    {
     "name": "stdout",
     "output_type": "stream",
     "text": [
      "python python\n"
     ]
    }
   ],
   "source": [
    "a = b = \"python\"\n",
    "print a, b"
   ]
  },
  {
   "cell_type": "markdown",
   "metadata": {},
   "source": [
    "### 메모리에 생성된 객체 없애기\n",
    "- 가비지 콜렉션 : 객체를 가리키고 있는 레퍼런스가 하나도 없을 때, 객체가 메모리에서 삭제된다."
   ]
  },
  {
   "cell_type": "code",
   "execution_count": 26,
   "metadata": {
    "collapsed": true
   },
   "outputs": [],
   "source": [
    "a = 3\n",
    "b = 3\n",
    "del(a)\n",
    "del(b)"
   ]
  },
  {
   "cell_type": "markdown",
   "metadata": {},
   "source": [
    "### Assignment\n",
    "- \"Binding a variable\" in Python : variable name이 객체에 대한 reference를 가지도록(holding) setting하는 것이다.\n",
    " - Assignment는 reference를 생성한다. copy하는 것이 아니다.\n",
    "- 변수의 생성시점 : 변수는 assignment expression(ex, x=3)의 왼쪽에 처음으로 나타나는 시점에 생성된다.\n",
    "- 객체의 삭제시점 : 객체는 그 객체가 더이상 reachable하지 않을 때, garbage collector에 의해서 삭제된다.\n",
    "- Python에서 name은 type을 가지지 않고, 객체(object)가 type을 가진다."
   ]
  },
  {
   "cell_type": "code",
   "execution_count": 27,
   "metadata": {
    "collapsed": false
   },
   "outputs": [
    {
     "name": "stdout",
     "output_type": "stream",
     "text": [
      "4\n",
      "2\n",
      "3\n"
     ]
    }
   ],
   "source": [
    "# 변수x는 첫번째 라인에서 생성되고, 두번째 라인에서는 생성되었던 변수 x에 새로운 reference가 할당되는 것이다.\n",
    "x = 3\n",
    "x = 4\n",
    "print x\n",
    "\n",
    "# multiple assignment\n",
    "x, y = 2, 3\n",
    "print x\n",
    "print y"
   ]
  },
  {
   "cell_type": "markdown",
   "metadata": {},
   "source": [
    "### Naming rule\n",
    "- Python에서의 이름은 대소문자를 구분한다.\n",
    "- 이름은 숫자로 시작할 수 없다.\n",
    "- 이름은 문자, 숫자, underscore를 모두 포함할 수 있다.\n",
    " - bob,  Bob,  _bob,  _2_bob,  bob_2,  BoB\n",
    "- 다음은 예약어(reserved words이다)\n",
    " - and, assert, break, class, continue, def, del, elif, else, except, exec, finally, for, from, global, if, import, in, is, lambda, not, or, pass, print, raise, return, try, while\n",
    " "
   ]
  },
  {
   "cell_type": "markdown",
   "metadata": {},
   "source": [
    "### Sequence types\n",
    "indexing은 0 base\n",
    "- **Tuples**\n",
    " - A simple __immutable__ ordered sequence of items\n",
    "  - __Immutable__ : a tuple cannot be modified once created\n",
    " - collection type을 포함하여, 여러 type들을 item으로 하여 하나의 Tuple을 구성할 수 있다."
   ]
  },
  {
   "cell_type": "code",
   "execution_count": 28,
   "metadata": {
    "collapsed": false
   },
   "outputs": [
    {
     "name": "stdout",
     "output_type": "stream",
     "text": [
      "abc\n"
     ]
    }
   ],
   "source": [
    "tu = (23, 'abc', 4.56, (2,3), 'def')\n",
    "# tuple의 두번째 item을 출력하라.\n",
    "print tu[1]"
   ]
  },
  {
   "cell_type": "markdown",
   "metadata": {},
   "source": [
    "- **Lists**\n",
    " - Mutable\n",
    " - Tuple과 마찬가지로 여러 type을 item으로 하여 하나의 List를 구성할 수 있다."
   ]
  },
  {
   "cell_type": "code",
   "execution_count": 29,
   "metadata": {
    "collapsed": false
   },
   "outputs": [
    {
     "name": "stdout",
     "output_type": "stream",
     "text": [
      "(2, 3)\n"
     ]
    }
   ],
   "source": [
    "li = [\"abc\", 34, 4.34, (2,3), 23]\n",
    "# list의 네번째 item을 출력하라.\n",
    "print li[3]"
   ]
  },
  {
   "cell_type": "markdown",
   "metadata": {},
   "source": [
    "- **Strings**\n",
    " - Immutable\n",
    " - Conceptually very much like a tuple\n",
    " - Regular strings use 8-bit characters. Unicode strings use 2-byte characters."
   ]
  },
  {
   "cell_type": "code",
   "execution_count": 30,
   "metadata": {
    "collapsed": false
   },
   "outputs": [
    {
     "name": "stdout",
     "output_type": "stream",
     "text": [
      "l\n",
      "This is a multi-line \n",
      "string that uses triple quotes\n"
     ]
    }
   ],
   "source": [
    "str1 = \"Hello World\"\n",
    "str2 = \"\"\"This is a multi-line \n",
    "string that uses triple quotes\"\"\"\n",
    "# string의 세번째 item을 출력하라.\n",
    "print str1[2]\n",
    "print str2"
   ]
  },
  {
   "cell_type": "markdown",
   "metadata": {},
   "source": [
    "### Negative indices\n",
    "- positive index : count from the left, starting with 0\n",
    "- negative index : count from the right, starting with -1"
   ]
  },
  {
   "cell_type": "code",
   "execution_count": 31,
   "metadata": {
    "collapsed": false
   },
   "outputs": [
    {
     "name": "stdout",
     "output_type": "stream",
     "text": [
      "abc\n",
      "4.56\n"
     ]
    }
   ],
   "source": [
    "tu = (23, 'abc', 4.56, (2,3), 'def')\n",
    "\n",
    "# positive index\n",
    "print tu[1]\n",
    "\n",
    "# negetive index\n",
    "print tu[-3]"
   ]
  },
  {
   "cell_type": "markdown",
   "metadata": {},
   "source": [
    "### Return Copy of a subset\n",
    "- Return a copy of the container with a subset of the original members\n",
    "- Start copying at the first index and stop copying __before__ the second index"
   ]
  },
  {
   "cell_type": "code",
   "execution_count": 32,
   "metadata": {
    "collapsed": false
   },
   "outputs": [
    {
     "name": "stdout",
     "output_type": "stream",
     "text": [
      "('abc', 4.56, (2, 3))\n",
      "('abc', 4.56, (2, 3))\n",
      "('abc', (2, 3))\n",
      "('abc', 'def')\n"
     ]
    }
   ],
   "source": [
    "tu = (23, 'abc', 4.56, (2,3), 'def')\n",
    "\n",
    "# 2번째 index에서 4번째 index까지만 복사한다.\n",
    "print tu[1:4]\n",
    "\n",
    "# 2번째 index에서 마지막 index의 바로 전 index까지만 복사한다.\n",
    "print tu[1:-1]\n",
    "\n",
    "# 2번째 ~ 4번째 index의 원소중에서 짝수번(매 2번)에 해당하는 index만 노출\n",
    "print tu[1:-1:2]\n",
    "\n",
    "# 2번째 ~ 5번째 index의 원소중에서 매 3번에 해당하는 index만 노출\n",
    "print tu[1:5:3]"
   ]
  },
  {
   "cell_type": "markdown",
   "metadata": {},
   "source": [
    "- Omit the first index to make a copy starting from the beginning of the container.\n",
    "- Omit the second index to make a copy starting at the first index and going to the end of the container."
   ]
  },
  {
   "cell_type": "code",
   "execution_count": 33,
   "metadata": {
    "collapsed": false
   },
   "outputs": [
    {
     "name": "stdout",
     "output_type": "stream",
     "text": [
      "(23, 'abc')\n",
      "(4.56, (2, 3), 'def')\n"
     ]
    }
   ],
   "source": [
    "tu = (23, 'abc', 4.56, (2,3), 'def')\n",
    "\n",
    "# 첫번째, 두번째 index만 복사한다.\n",
    "print tu[:2]\n",
    "\n",
    "# 세번째 index에서 마지막 인덱스까지 복사한다.\n",
    "print tu[2:]"
   ]
  },
  {
   "cell_type": "markdown",
   "metadata": {},
   "source": [
    "- 전체 sequence를 복사하기 위해서는 [:] 를 사용한다."
   ]
  },
  {
   "cell_type": "code",
   "execution_count": 34,
   "metadata": {
    "collapsed": false
   },
   "outputs": [
    {
     "name": "stdout",
     "output_type": "stream",
     "text": [
      "(23, 'abc', 4.56, (2, 3), 'def')\n"
     ]
    }
   ],
   "source": [
    "tu = (23, 'abc', 4.56, (2,3), 'def')\n",
    "print tu[:]"
   ]
  },
  {
   "cell_type": "markdown",
   "metadata": {},
   "source": [
    "- 같은 객체를 refer하는 경우"
   ]
  },
  {
   "cell_type": "code",
   "execution_count": 35,
   "metadata": {
    "collapsed": false
   },
   "outputs": [
    {
     "name": "stdout",
     "output_type": "stream",
     "text": [
      "['abc', 34, 4.34, (2, 3), 23]\n",
      "['abc', 34, 4.34, (2, 3), 23]\n",
      "['abc', 34, 'change', (2, 3), 23]\n",
      "['abc', 34, 'change', (2, 3), 23]\n"
     ]
    }
   ],
   "source": [
    "li1 = [\"abc\", 34, 4.34, (2,3), 23]\n",
    "\n",
    "# li1와 li2는 같은 객체를 refer한다.\n",
    "li2 = li1\n",
    "print li1\n",
    "print li2\n",
    "\n",
    "# 따라서 다음은 영향을 미친다.\n",
    "li1[2] = 'change'\n",
    "print li1\n",
    "print li2"
   ]
  },
  {
   "cell_type": "markdown",
   "metadata": {},
   "source": [
    "- independent copy"
   ]
  },
  {
   "cell_type": "code",
   "execution_count": 36,
   "metadata": {
    "collapsed": false
   },
   "outputs": [
    {
     "name": "stdout",
     "output_type": "stream",
     "text": [
      "['abc', 34, 4.34, (2, 3), 23]\n",
      "['abc', 34, 4.34, (2, 3), 23]\n",
      "['abc', 34, 'change', (2, 3), 23]\n",
      "['abc', 34, 4.34, (2, 3), 23]\n"
     ]
    }
   ],
   "source": [
    "li1 = [\"abc\", 34, 4.34, (2,3), 23]\n",
    "\n",
    "# li1와 li2는 같은 다른 객체를 refer한다.\n",
    "li2 = li1[:]\n",
    "print li1\n",
    "print li2\n",
    "\n",
    "# 따라서 다음은 영향을 미친다.\n",
    "li1[2] = 'change'\n",
    "print li1\n",
    "print li2"
   ]
  },
  {
   "cell_type": "markdown",
   "metadata": {
    "collapsed": true
   },
   "source": [
    "### The 'in' Operator\n",
    "- 특정 value가 collection(Python에서는 보통 container라고 한다)에 있는지 없는지를 check하는 boolean test에 사용"
   ]
  },
  {
   "cell_type": "code",
   "execution_count": 37,
   "metadata": {
    "collapsed": false
   },
   "outputs": [
    {
     "name": "stdout",
     "output_type": "stream",
     "text": [
      "True\n",
      "True\n",
      "False\n"
     ]
    }
   ],
   "source": [
    "t = [1,2,3,4]\n",
    "print 3 in t\n",
    "print 4 in t\n",
    "print 4 not in t"
   ]
  },
  {
   "cell_type": "markdown",
   "metadata": {},
   "source": [
    "- 특정 substring이 string안에 포함되는지 안되는지를 check하는 boolean test에 사용\n",
    "- \"in\" keyword는 반복문, list comprehensions에도 사용된다."
   ]
  },
  {
   "cell_type": "code",
   "execution_count": 38,
   "metadata": {
    "collapsed": false
   },
   "outputs": [
    {
     "name": "stdout",
     "output_type": "stream",
     "text": [
      "True\n",
      "True\n",
      "False\n"
     ]
    }
   ],
   "source": [
    "a = 'abcde'\n",
    "print 'c' in a\n",
    "print 'cd' in a\n",
    "print 'ac' in a"
   ]
  },
  {
   "cell_type": "markdown",
   "metadata": {},
   "source": [
    "### The \"+\" Operator\n",
    "- The + operator produces a __new__ tuple, list, or string whose value is the concatenation of its arguments.\n",
    "- Extends concatenation from strings to other types"
   ]
  },
  {
   "cell_type": "code",
   "execution_count": 39,
   "metadata": {
    "collapsed": false
   },
   "outputs": [
    {
     "name": "stdout",
     "output_type": "stream",
     "text": [
      "(1, 2, 3, 4, 5, 6)\n",
      "[1, 2, 3, 4, 5, 6]\n",
      "Hello World\n"
     ]
    }
   ],
   "source": [
    "a = (1,2,3)+(4,5,6)\n",
    "print a \n",
    "b = [1,2,3]+[4,5,6]\n",
    "print b\n",
    "c = \"Hello\" + \" \" + \"World\"\n",
    "print c"
   ]
  },
  {
   "cell_type": "markdown",
   "metadata": {},
   "source": [
    "### Mutability - List : Mutable\n",
    "- We can change lists in place.\n",
    "- Name \"li\" still points to the reference when we're done."
   ]
  },
  {
   "cell_type": "code",
   "execution_count": 40,
   "metadata": {
    "collapsed": false
   },
   "outputs": [
    {
     "name": "stdout",
     "output_type": "stream",
     "text": [
      "['abc', 23, 4.34, 23]\n",
      "['abc', 45, 4.34, 23]\n"
     ]
    }
   ],
   "source": [
    "li = ['abc', 23, 4.34, 23]\n",
    "print li\n",
    "li[1] = 45\n",
    "print li"
   ]
  },
  {
   "cell_type": "markdown",
   "metadata": {},
   "source": [
    "### Mutability - Tuple : Immutable\n",
    "- We cannot change a tuple.\n",
    "- We can make a fresh tuple and assign its reference to a previously used name.\n",
    "- ___The immutability of tuples means they're faster than lists.___"
   ]
  },
  {
   "cell_type": "code",
   "execution_count": 41,
   "metadata": {
    "collapsed": false
   },
   "outputs": [
    {
     "ename": "TypeError",
     "evalue": "'tuple' object does not support item assignment",
     "output_type": "error",
     "traceback": [
      "\u001b[0;31m---------------------------------------------------------------------------\u001b[0m",
      "\u001b[0;31mTypeError\u001b[0m                                 Traceback (most recent call last)",
      "\u001b[0;32m<ipython-input-41-2ca5dd1187bf>\u001b[0m in \u001b[0;36m<module>\u001b[0;34m()\u001b[0m\n\u001b[1;32m      1\u001b[0m \u001b[0mt\u001b[0m \u001b[0;34m=\u001b[0m \u001b[0;34m(\u001b[0m\u001b[0;36m23\u001b[0m\u001b[0;34m,\u001b[0m \u001b[0;34m'abc'\u001b[0m\u001b[0;34m,\u001b[0m \u001b[0;36m4.56\u001b[0m\u001b[0;34m,\u001b[0m \u001b[0;34m(\u001b[0m\u001b[0;36m2\u001b[0m\u001b[0;34m,\u001b[0m\u001b[0;36m3\u001b[0m\u001b[0;34m)\u001b[0m\u001b[0;34m,\u001b[0m \u001b[0;34m'def'\u001b[0m\u001b[0;34m)\u001b[0m\u001b[0;34m\u001b[0m\u001b[0m\n\u001b[0;32m----> 2\u001b[0;31m \u001b[0mt\u001b[0m\u001b[0;34m[\u001b[0m\u001b[0;36m2\u001b[0m\u001b[0;34m]\u001b[0m \u001b[0;34m=\u001b[0m \u001b[0;36m3.14\u001b[0m\u001b[0;34m\u001b[0m\u001b[0m\n\u001b[0m",
      "\u001b[0;31mTypeError\u001b[0m: 'tuple' object does not support item assignment"
     ]
    }
   ],
   "source": [
    "t = (23, 'abc', 4.56, (2,3), 'def')\n",
    "t[2] = 3.14"
   ]
  },
  {
   "cell_type": "code",
   "execution_count": 42,
   "metadata": {
    "collapsed": false
   },
   "outputs": [
    {
     "name": "stdout",
     "output_type": "stream",
     "text": [
      "(23, 'abc', 4.56, (2, 3), 'def')\n",
      "(23, 'abc', 3.14, (2, 3), 'def')\n"
     ]
    }
   ],
   "source": [
    "print t\n",
    "t= ((23, 'abc', 3.14, (2,3), 'def'))\n",
    "print t"
   ]
  },
  {
   "cell_type": "markdown",
   "metadata": {},
   "source": [
    "### Operations on Lists Only"
   ]
  },
  {
   "cell_type": "code",
   "execution_count": 43,
   "metadata": {
    "collapsed": false
   },
   "outputs": [
    {
     "data": {
      "text/plain": [
       "[1, 11, 3, 4, 5, 'a']"
      ]
     },
     "execution_count": 43,
     "metadata": {},
     "output_type": "execute_result"
    }
   ],
   "source": [
    "li = [1, 11, 3, 4, 5]\n",
    "\n",
    "# 1. append\n",
    "li.append('a')\n",
    "li"
   ]
  },
  {
   "cell_type": "code",
   "execution_count": 44,
   "metadata": {
    "collapsed": false
   },
   "outputs": [
    {
     "data": {
      "text/plain": [
       "[1, 11, 'a', 3, 4, 5, 'a']"
      ]
     },
     "execution_count": 44,
     "metadata": {},
     "output_type": "execute_result"
    }
   ],
   "source": [
    "# 2. insert\n",
    "li.insert(2, 'a')\n",
    "li"
   ]
  },
  {
   "cell_type": "markdown",
   "metadata": {},
   "source": [
    "- ***+*** creates a fresh list(with a new memory reference)\n",
    "- ***extend*** is just add the elements; it operates on list in place; it takes a list as an argument.\n",
    " - ***append*** takes a singleton as an argument."
   ]
  },
  {
   "cell_type": "code",
   "execution_count": 45,
   "metadata": {
    "collapsed": false
   },
   "outputs": [
    {
     "data": {
      "text/plain": [
       "[1, 11, 'a', 3, 4, 5, 'a', 9, 8, 7]"
      ]
     },
     "execution_count": 45,
     "metadata": {},
     "output_type": "execute_result"
    }
   ],
   "source": [
    "# 3. extend\n",
    "li.extend([9,8,7])\n",
    "li"
   ]
  },
  {
   "cell_type": "code",
   "execution_count": 46,
   "metadata": {
    "collapsed": false
   },
   "outputs": [
    {
     "data": {
      "text/plain": [
       "[1, 11, 'a', 3, 4, 5, 'a', 9, 8, 7, [9, 8, 7]]"
      ]
     },
     "execution_count": 46,
     "metadata": {},
     "output_type": "execute_result"
    }
   ],
   "source": [
    "# extend vs append\n",
    "li.append([9,8,7])\n",
    "li"
   ]
  },
  {
   "cell_type": "code",
   "execution_count": 47,
   "metadata": {
    "collapsed": false
   },
   "outputs": [
    {
     "data": {
      "text/plain": [
       "2"
      ]
     },
     "execution_count": 47,
     "metadata": {},
     "output_type": "execute_result"
    }
   ],
   "source": [
    "# 4. index : return index of first occurrence.\n",
    "li.index('a')"
   ]
  },
  {
   "cell_type": "code",
   "execution_count": 48,
   "metadata": {
    "collapsed": false
   },
   "outputs": [
    {
     "data": {
      "text/plain": [
       "2"
      ]
     },
     "execution_count": 48,
     "metadata": {},
     "output_type": "execute_result"
    }
   ],
   "source": [
    "# 5. count : return number of occurrences.\n",
    "li.count('a')"
   ]
  },
  {
   "cell_type": "code",
   "execution_count": 49,
   "metadata": {
    "collapsed": false
   },
   "outputs": [
    {
     "name": "stdout",
     "output_type": "stream",
     "text": [
      "[1, 11, 3, 4, 5, 'a', 9, 8, 7, [9, 8, 7]]\n",
      "[1, 11, 3, 4, 5, 9, 8, 7, [9, 8, 7]]\n"
     ]
    }
   ],
   "source": [
    "# 6. remove : remove first accurence\n",
    "li.remove('a')\n",
    "print li\n",
    "li.remove('a')\n",
    "print li"
   ]
  },
  {
   "cell_type": "code",
   "execution_count": 50,
   "metadata": {
    "collapsed": false
   },
   "outputs": [
    {
     "data": {
      "text/plain": [
       "[[9, 8, 7], 7, 8, 9, 5, 4, 3, 11, 1]"
      ]
     },
     "execution_count": 50,
     "metadata": {},
     "output_type": "execute_result"
    }
   ],
   "source": [
    "# 7. reverse : reverse the list in place (it means not copy)\n",
    "li.reverse()\n",
    "li"
   ]
  },
  {
   "cell_type": "code",
   "execution_count": 51,
   "metadata": {
    "collapsed": false
   },
   "outputs": [
    {
     "data": {
      "text/plain": [
       "[1, 3, 4, 5, 7, 8, 9, 11, [9, 8, 7]]"
      ]
     },
     "execution_count": 51,
     "metadata": {},
     "output_type": "execute_result"
    }
   ],
   "source": [
    "# 8. sort : sort the list in place\n",
    "li.sort()\n",
    "li"
   ]
  },
  {
   "cell_type": "markdown",
   "metadata": {},
   "source": [
    "### Tuples vs. Lists\n",
    "- Lists slower but more powerful than tuples.\n",
    " - List can be modified, and they have lots of handy operations we can perform on them.\n",
    " - Tuples are immutable and have fewer features.\n",
    "- Tuples과 lists를 서로 전환시키기 위해서는 list(), tuple() 함수를 사용한다.\n",
    " - list = list(tuple)\n",
    " - tuple = tuple(list)"
   ]
  },
  {
   "cell_type": "markdown",
   "metadata": {},
   "source": [
    "### Dictionaries : a mapping collection type\n",
    "- Dictionaries는 key집합과 value집합 사이의 mapping 관계를 저장한 자료구조이다.\n",
    " - Keys는 immutable인 모든 type이 가능하다.\n",
    " - Values는 모든 type이 가능하다.\n",
    " - Values와 keys의 type은 하나의 dictionaries에서 다를 수 있다.\n",
    " "
   ]
  },
  {
   "cell_type": "code",
   "execution_count": 52,
   "metadata": {
    "collapsed": false
   },
   "outputs": [
    {
     "data": {
      "text/plain": [
       "'bozo'"
      ]
     },
     "execution_count": 52,
     "metadata": {},
     "output_type": "execute_result"
    }
   ],
   "source": [
    "# 1. Dictionaries의 생성과 접근 (Python스럽게 생성하는 법)\n",
    "d = {'user':'bozo', 'pswd':1234}\n",
    "d['user']"
   ]
  },
  {
   "cell_type": "code",
   "execution_count": 53,
   "metadata": {
    "collapsed": false
   },
   "outputs": [
    {
     "data": {
      "text/plain": [
       "1234"
      ]
     },
     "execution_count": 53,
     "metadata": {},
     "output_type": "execute_result"
    }
   ],
   "source": [
    "# 덜 Python스럽게 생성하는 법\n",
    "d_1 = dict({'user':'bozo', 'pswd':1234})\n",
    "d_1['pswd']"
   ]
  },
  {
   "cell_type": "code",
   "execution_count": 54,
   "metadata": {
    "collapsed": false
   },
   "outputs": [
    {
     "ename": "KeyError",
     "evalue": "'bozo'",
     "output_type": "error",
     "traceback": [
      "\u001b[0;31m---------------------------------------------------------------------------\u001b[0m",
      "\u001b[0;31mKeyError\u001b[0m                                  Traceback (most recent call last)",
      "\u001b[0;32m<ipython-input-54-daa452719961>\u001b[0m in \u001b[0;36m<module>\u001b[0;34m()\u001b[0m\n\u001b[1;32m      1\u001b[0m \u001b[0;31m# Key로 접근할 수 있다. Value로는 접근할 수 없다.\u001b[0m\u001b[0;34m\u001b[0m\u001b[0;34m\u001b[0m\u001b[0m\n\u001b[0;32m----> 2\u001b[0;31m \u001b[0md\u001b[0m\u001b[0;34m[\u001b[0m\u001b[0;34m'bozo'\u001b[0m\u001b[0;34m]\u001b[0m\u001b[0;34m\u001b[0m\u001b[0m\n\u001b[0m",
      "\u001b[0;31mKeyError\u001b[0m: 'bozo'"
     ]
    }
   ],
   "source": [
    "# Key로 접근할 수 있다. Value로는 접근할 수 없다.\n",
    "d['bozo']"
   ]
  },
  {
   "cell_type": "code",
   "execution_count": 55,
   "metadata": {
    "collapsed": false
   },
   "outputs": [
    {
     "ename": "KeyError",
     "evalue": "'u'",
     "output_type": "error",
     "traceback": [
      "\u001b[0;31m---------------------------------------------------------------------------\u001b[0m",
      "\u001b[0;31mKeyError\u001b[0m                                  Traceback (most recent call last)",
      "\u001b[0;32m<ipython-input-55-bec6808fa89c>\u001b[0m in \u001b[0;36m<module>\u001b[0;34m()\u001b[0m\n\u001b[1;32m      1\u001b[0m \u001b[0;31m# 존재하지 않는 Key로 접근하려고 하면 Exception이 발생한다. 이걸 방지할 수 있는 자료구조가 있다.\u001b[0m\u001b[0;34m\u001b[0m\u001b[0;34m\u001b[0m\u001b[0m\n\u001b[0;32m----> 2\u001b[0;31m \u001b[0md\u001b[0m\u001b[0;34m[\u001b[0m\u001b[0;34m\"u\"\u001b[0m\u001b[0;34m]\u001b[0m\u001b[0;34m\u001b[0m\u001b[0m\n\u001b[0m",
      "\u001b[0;31mKeyError\u001b[0m: 'u'"
     ]
    }
   ],
   "source": [
    "# 존재하지 않는 Key로 접근하려고 하면 Exception이 발생한다. 이걸 방지할 수 있는 자료구조가 있다.\n",
    "d[\"u\"]"
   ]
  },
  {
   "cell_type": "markdown",
   "metadata": {},
   "source": [
    "- dictionaries를 update 할 때,\n",
    " - key는 unique해야 한다.\n",
    " - 기존에 존재하던 key에 새로운 value를 할당하면, key에 대응하던 value가 새롭게 대체된다."
   ]
  },
  {
   "cell_type": "code",
   "execution_count": 56,
   "metadata": {
    "collapsed": false
   },
   "outputs": [
    {
     "name": "stdout",
     "output_type": "stream",
     "text": [
      "{'pswd': 1234, 'user': 'bozo'}\n",
      "{'pswd': 1234, 'user': 'clown'}\n"
     ]
    }
   ],
   "source": [
    "# 2. Updating dictionaries\n",
    "d = {'user':'bozo', 'pswd':1234}\n",
    "print d\n",
    "d['user'] = 'clown'\n",
    "print d"
   ]
  },
  {
   "cell_type": "markdown",
   "metadata": {},
   "source": [
    "- Dictionaries는 순서가 보장되지 않는다. 따라서 새로운 key-value pair가 들어오면 dictionaries의 어느 위치에서 나타날지는 모른다.\n",
    "- Dictionaires는 ***hasing***으로 동작한다."
   ]
  },
  {
   "cell_type": "code",
   "execution_count": 57,
   "metadata": {
    "collapsed": false
   },
   "outputs": [
    {
     "data": {
      "text/plain": [
       "{'id': 45, 'pswd': 1234, 'user': 'clown'}"
      ]
     },
     "execution_count": 57,
     "metadata": {},
     "output_type": "execute_result"
    }
   ],
   "source": [
    "# 3. Adding new key\n",
    "d['id'] = 45\n",
    "d"
   ]
  },
  {
   "cell_type": "code",
   "execution_count": 58,
   "metadata": {
    "collapsed": false
   },
   "outputs": [
    {
     "data": {
      "text/plain": [
       "{'id': 34, 'pswd': 1234}"
      ]
     },
     "execution_count": 58,
     "metadata": {},
     "output_type": "execute_result"
    }
   ],
   "source": [
    "# 4. Removing an existing key\n",
    "d = {'user':'bozo', 'pswd':1234, 'id':34}\n",
    "del d['user']\n",
    "d"
   ]
  },
  {
   "cell_type": "code",
   "execution_count": 59,
   "metadata": {
    "collapsed": false
   },
   "outputs": [
    {
     "data": {
      "text/plain": [
       "{}"
      ]
     },
     "execution_count": 59,
     "metadata": {},
     "output_type": "execute_result"
    }
   ],
   "source": [
    "d.clear()\n",
    "d"
   ]
  },
  {
   "cell_type": "code",
   "execution_count": 60,
   "metadata": {
    "collapsed": false
   },
   "outputs": [
    {
     "data": {
      "text/plain": [
       "[1]"
      ]
     },
     "execution_count": 60,
     "metadata": {},
     "output_type": "execute_result"
    }
   ],
   "source": [
    "# List에서도 del 함수를 사용할 수 있다.\n",
    "a = [1, 2]\n",
    "del a[1]\n",
    "a"
   ]
  },
  {
   "cell_type": "code",
   "execution_count": 61,
   "metadata": {
    "collapsed": false
   },
   "outputs": [
    {
     "data": {
      "text/plain": [
       "['pswd', 'user', 'id']"
      ]
     },
     "execution_count": 61,
     "metadata": {},
     "output_type": "execute_result"
    }
   ],
   "source": [
    "# 5. Dictionaries의 key set과 value set에 효율적으로 접근하기.\n",
    "d = {'user':'bozo', 'pswd':1234, 'id':34}\n",
    "d.keys() # List of current keys"
   ]
  },
  {
   "cell_type": "code",
   "execution_count": 62,
   "metadata": {
    "collapsed": false
   },
   "outputs": [
    {
     "data": {
      "text/plain": [
       "[1234, 'bozo', 34]"
      ]
     },
     "execution_count": 62,
     "metadata": {},
     "output_type": "execute_result"
    }
   ],
   "source": [
    "d.values() # List of current values"
   ]
  },
  {
   "cell_type": "code",
   "execution_count": 63,
   "metadata": {
    "collapsed": false
   },
   "outputs": [
    {
     "data": {
      "text/plain": [
       "[('pswd', 1234), ('user', 'bozo'), ('id', 34)]"
      ]
     },
     "execution_count": 63,
     "metadata": {},
     "output_type": "execute_result"
    }
   ],
   "source": [
    "d.items() # List of item tuples"
   ]
  },
  {
   "cell_type": "markdown",
   "metadata": {},
   "source": [
    "### Default Dictionaries\n",
    "- Dictionaries와 기능은 비슷하다.\n",
    "- 존재하지 않는 key가 주어진다면 default dictionaries는 Exception을 던지지 않는다.\n",
    " - 코드를 짜기가 더 쉬워진다."
   ]
  },
  {
   "cell_type": "code",
   "execution_count": 64,
   "metadata": {
    "collapsed": false
   },
   "outputs": [
    {
     "data": {
      "text/plain": [
       "0"
      ]
     },
     "execution_count": 64,
     "metadata": {},
     "output_type": "execute_result"
    }
   ],
   "source": [
    "# 모듈관련 부분은 나중에 다시 한 번 보자.\n",
    "from collections import defaultdict\n",
    "\n",
    "# value가 int로 초기화된다.\n",
    "default_dict = defaultdict(int)\n",
    "\n",
    "# 존재하지 않는 Key \"Korea\"를 호출\n",
    "default_dict[\"a\"]"
   ]
  },
  {
   "cell_type": "code",
   "execution_count": 65,
   "metadata": {
    "collapsed": false
   },
   "outputs": [
    {
     "data": {
      "text/plain": [
       "1"
      ]
     },
     "execution_count": 65,
     "metadata": {},
     "output_type": "execute_result"
    }
   ],
   "source": [
    "default_dict[\"a\"] += 1\n",
    "default_dict[\"a\"]"
   ]
  },
  {
   "cell_type": "markdown",
   "metadata": {},
   "source": [
    "### Set\n",
    "- Python에서 유일한 항목의 집합을 나타내는 자료구조이다.\n",
    "- Set에서 **`in`** operation이 굉장히 빠르게 작동한다.\n",
    " - 특정 항목의 존재 여부를 확인하기 위해서는 list 보다는 set을 사용하는것이 훨씬 효율적이다."
   ]
  },
  {
   "cell_type": "code",
   "execution_count": 66,
   "metadata": {
    "collapsed": false
   },
   "outputs": [
    {
     "data": {
      "text/plain": [
       "{1, 2, 3}"
      ]
     },
     "execution_count": 66,
     "metadata": {},
     "output_type": "execute_result"
    }
   ],
   "source": [
    "# 1. Set을 초기화한다. Python 스러운 코드이다.\n",
    "set_1 = {1, 2, 2, 2, 3}\n",
    "set_1"
   ]
  },
  {
   "cell_type": "code",
   "execution_count": 67,
   "metadata": {
    "collapsed": false
   },
   "outputs": [
    {
     "data": {
      "text/plain": [
       "{1, 2, 3, 4, 5}"
      ]
     },
     "execution_count": 67,
     "metadata": {},
     "output_type": "execute_result"
    }
   ],
   "source": [
    "# 2. 항목을 추가한다.\n",
    "set_1.add(4)\n",
    "set_1.add(4)\n",
    "set_1.add(5)\n",
    "set_1.add(2)\n",
    "set_1"
   ]
  },
  {
   "cell_type": "code",
   "execution_count": 68,
   "metadata": {
    "collapsed": false
   },
   "outputs": [
    {
     "data": {
      "text/plain": [
       "True"
      ]
     },
     "execution_count": 68,
     "metadata": {},
     "output_type": "execute_result"
    }
   ],
   "source": [
    "# 3. 항목의 존재 유무를 체크한다.\n",
    "5 in set_1"
   ]
  },
  {
   "cell_type": "code",
   "execution_count": 69,
   "metadata": {
    "collapsed": false
   },
   "outputs": [
    {
     "name": "stdout",
     "output_type": "stream",
     "text": [
      "6\n",
      "True\n",
      "3\n",
      "True\n"
     ]
    }
   ],
   "source": [
    "# List\n",
    "items = [1,2,3,1,2,3]\n",
    "print len(items)\n",
    "print 2 in items\n",
    "\n",
    "# Set\n",
    "items_set = set(items)\n",
    "print len(items_set)\n",
    "print 2 in items_set"
   ]
  },
  {
   "cell_type": "markdown",
   "metadata": {},
   "source": [
    "### Boolean Expression : True and False"
   ]
  },
  {
   "cell_type": "markdown",
   "metadata": {},
   "source": [
    "- **True** and **False**는 상수(constants)이다.\n",
    "- Other values are treated as equivalent to either **True** or **False** when used in conditionals:\n",
    " - **False** : zero, **None**, empty containers\n",
    " - **True** : non-zero numbers, non-empty objects\n",
    "- 비교 연산자(Comparison operators) : ==, !=, <, <=, etc.\n",
    " - x **==** y :\n",
    "     - x and y have same value.\n",
    " - x **is** y :\n",
    "     - x and y refer to the exact same object."
   ]
  },
  {
   "cell_type": "code",
   "execution_count": 70,
   "metadata": {
    "collapsed": false
   },
   "outputs": [
    {
     "name": "stdout",
     "output_type": "stream",
     "text": [
      "True\n",
      "False\n",
      "False\n",
      "True\n"
     ]
    }
   ],
   "source": [
    "x = 3\n",
    "y = 2\n",
    "print x > y\n",
    "print x < y\n",
    "print x == y\n",
    "print x != y"
   ]
  },
  {
   "cell_type": "code",
   "execution_count": 71,
   "metadata": {
    "collapsed": false
   },
   "outputs": [
    {
     "name": "stdout",
     "output_type": "stream",
     "text": [
      "걸어 가라\n"
     ]
    }
   ],
   "source": [
    "# 만약 3000원 이상의 돈을 가지고 있으면 택시를 타고 그렇지 않으면 걸어가라\n",
    "money = 2000\n",
    "if money >= 3000:\n",
    "    print \"택시를 타고 가라\"\n",
    "else:\n",
    "    print \"걸어 가라\""
   ]
  },
  {
   "cell_type": "code",
   "execution_count": 72,
   "metadata": {
    "collapsed": false
   },
   "outputs": [
    {
     "name": "stdout",
     "output_type": "stream",
     "text": [
      "True\n",
      "True\n",
      "True\n",
      "False\n"
     ]
    }
   ],
   "source": [
    "x = [1,2,3]\n",
    "y = x\n",
    "print x == y # same value\n",
    "print x is y # same object\n",
    "\n",
    "z = x[:]\n",
    "print x == z # same value\n",
    "print x is z # same object"
   ]
  },
  {
   "cell_type": "markdown",
   "metadata": {},
   "source": [
    "### Logical Operation\n",
    "- boolean expression을 합칠 수 있다.\n",
    " - a and b(a : True and b : True) => True\n",
    " - a or b(a : True or b : True) => True\n",
    " - not a(a : False) => True"
   ]
  },
  {
   "cell_type": "code",
   "execution_count": 73,
   "metadata": {
    "collapsed": false
   },
   "outputs": [
    {
     "name": "stdout",
     "output_type": "stream",
     "text": [
      "False\n",
      "True\n",
      "True\n"
     ]
    }
   ],
   "source": [
    "a = True\n",
    "b = False\n",
    "\n",
    "print a and b\n",
    "print a or b\n",
    "print not b"
   ]
  },
  {
   "cell_type": "markdown",
   "metadata": {},
   "source": [
    "### Conditional Expression"
   ]
  },
  {
   "cell_type": "code",
   "execution_count": 74,
   "metadata": {
    "collapsed": false
   },
   "outputs": [
    {
     "name": "stdout",
     "output_type": "stream",
     "text": [
      "100\n",
      "200\n"
     ]
    }
   ],
   "source": [
    "li = [1,2,3]\n",
    "x = 100 if (3 in li) else 200 # x = true_value if condition else false_value\n",
    "print x\n",
    "y = 100 if (len(li) == 4) else 200\n",
    "print y"
   ]
  },
  {
   "cell_type": "markdown",
   "metadata": {},
   "source": [
    "- lazy evaluation :\n",
    " 1. condition이 계산된다.\n",
    " 2. condition이 사실이면, true_value가 return 된다.\n",
    " 3. condition이 거짓이면, faluse_value가 return 된다."
   ]
  },
  {
   "cell_type": "markdown",
   "metadata": {},
   "source": [
    "### Control flow\n",
    "- if Statements\n",
    "- while Loops\n",
    "- break and continue\n",
    "- assert"
   ]
  },
  {
   "cell_type": "markdown",
   "metadata": {},
   "source": [
    "### if Statements\n",
    "- code block을 구분하기 위하여 indentation(탭 or 들여쓰기)을 사용한다.\n",
    "- boolean expression이후에는 colon(:)을 사용한다."
   ]
  },
  {
   "cell_type": "code",
   "execution_count": 75,
   "metadata": {
    "collapsed": false
   },
   "outputs": [
    {
     "name": "stdout",
     "output_type": "stream",
     "text": [
      "택시를 타고 가라\n"
     ]
    }
   ],
   "source": [
    "# 만약 3000원 이상의 돈을 가지고 있거나 카드가 있으면 택시를 타고 그렇지 않으면 걸어가라\n",
    "money = 2000\n",
    "# 0이 아닌 정수형은 참이다.\n",
    "card = 1\n",
    "if money >= 3000 or card:\n",
    "    print \"택시를 타고 가라\"\n",
    "else:\n",
    "    print \"걸어 가라\""
   ]
  },
  {
   "cell_type": "code",
   "execution_count": 76,
   "metadata": {
    "collapsed": false
   },
   "outputs": [
    {
     "name": "stdout",
     "output_type": "stream",
     "text": [
      "X equals 2.\n",
      "This is outside the 'if'\n"
     ]
    }
   ],
   "source": [
    "x = 2\n",
    "# x는 2이므로 2번째 분기문을 탈 것이다.\n",
    "if x == 3:\n",
    "    print \"X equals 3.\"\n",
    "elif x == 2:\n",
    "    print \"X equals 2.\"\n",
    "else:\n",
    "    print \"X equals something else.\"\n",
    "print \"\"\"This is outside the 'if'\"\"\"\n",
    "        "
   ]
  },
  {
   "cell_type": "markdown",
   "metadata": {},
   "source": [
    "### while Loops"
   ]
  },
  {
   "cell_type": "code",
   "execution_count": 77,
   "metadata": {
    "collapsed": false
   },
   "outputs": [
    {
     "name": "stdout",
     "output_type": "stream",
     "text": [
      "3 still in the loop\n",
      "4 still in the loop\n",
      "5 still in the loop\n",
      "6 still in the loop\n"
     ]
    }
   ],
   "source": [
    "x = 3\n",
    "# x가 조건에 포함되므로, Loop안으로 들어간다.\n",
    "while x < 7:\n",
    "    print x, \"still in the loop\"\n",
    "    x = x + 1 # x를 update한다.\n",
    "\n",
    "x = 8\n",
    "# x가 조건에 포함되지 않으므로, Loop안으로 들어가지 않는다.\n",
    "while x < 7:\n",
    "    print x, \"still in the loop\""
   ]
  },
  {
   "cell_type": "markdown",
   "metadata": {},
   "source": [
    "### break and continue\n",
    "- break\n",
    " - 특정조건하에서 while문을 벗어나기 위하여 사용한다."
   ]
  },
  {
   "cell_type": "code",
   "execution_count": 78,
   "metadata": {
    "collapsed": false
   },
   "outputs": [
    {
     "name": "stdout",
     "output_type": "stream",
     "text": [
      "3 still in the loop\n",
      "4 still in the loop\n"
     ]
    }
   ],
   "source": [
    "x = 3\n",
    "# x가 5가 되는 순간 while문을 벗어나게 된다.\n",
    "while x < 7:\n",
    "    if x == 5:\n",
    "        break\n",
    "    print x, \"still in the loop\"\n",
    "    x = x + 1 "
   ]
  },
  {
   "cell_type": "markdown",
   "metadata": {},
   "source": [
    "- continue\n",
    " - 반복문안에 사용할 수 있다.\n",
    " - 현재의 반복을 멈추고 다음 반복으로 넘어갈 때 사용한다."
   ]
  },
  {
   "cell_type": "code",
   "execution_count": 79,
   "metadata": {
    "collapsed": false
   },
   "outputs": [
    {
     "name": "stdout",
     "output_type": "stream",
     "text": [
      "3 still in the loop\n",
      "4 still in the loop\n",
      "'Remove 5'\n",
      "6 still in the loop\n"
     ]
    }
   ],
   "source": [
    "x = 3\n",
    "# x가 5가 되는 순간의 반복은 멈추고, 그 다음 반복(x=6 일 때).\n",
    "while x < 7:\n",
    "    if x == 5:\n",
    "        print \"\"\"'Remove 5'\"\"\"\n",
    "        x = x + 1\n",
    "        continue\n",
    "    print x, \"still in the loop\"\n",
    "    x = x + 1"
   ]
  },
  {
   "cell_type": "code",
   "execution_count": 80,
   "metadata": {
    "collapsed": false
   },
   "outputs": [
    {
     "name": "stdout",
     "output_type": "stream",
     "text": [
      "1\n",
      "3\n",
      "5\n",
      "7\n",
      "9\n"
     ]
    }
   ],
   "source": [
    "# 홀수만 출력하는 프로그램\n",
    "a = 0\n",
    "while a < 10:\n",
    "    a = a + 1\n",
    "    if a % 2 == 0:\n",
    "        continue\n",
    "    print a"
   ]
  },
  {
   "cell_type": "code",
   "execution_count": 81,
   "metadata": {
    "collapsed": false
   },
   "outputs": [
    {
     "name": "stdout",
     "output_type": "stream",
     "text": [
      "돈을 넣으세요 : 300\n",
      "커피를 줍니다.\n",
      "돈을 넣으세요 : 300\n",
      "커피를 줍니다.\n",
      "돈을 넣으세요 : 300\n",
      "커피를 줍니다.\n",
      "커피가 다 떨어졌습니다. 판매를 중지합니다\n"
     ]
    }
   ],
   "source": [
    "# while문과 break 문을 이용하여 자판기 작동 과정 만들기\n",
    "coffee = 3\n",
    "while True:\n",
    "    money = int(input(\"돈을 넣으세요 : \"))\n",
    "    if money == 300:\n",
    "        print \"커피를 줍니다.\"\n",
    "        coffee = coffee - 1\n",
    "    elif money > 300:\n",
    "        print \"거스름돈 %d를 주고 커피를 줍니다.\" % (money - 300)\n",
    "        coffee = coffee - 1\n",
    "    else:\n",
    "        print \"돈을 다시 돌려주고 커피를 주지 않습니다.\"\n",
    "        print \"남은 커피의 양은 %d개입니다.\" % coffee\n",
    "    if not coffee:\n",
    "        print \"커피가 다 떨어졌습니다. 판매를 중지합니다\"\n",
    "        break"
   ]
  },
  {
   "cell_type": "markdown",
   "metadata": {},
   "source": [
    "### assert\n",
    "- assert문은 program이 돌아가는 동안 특정 조건이 참인지 거짓인지를 체크\n",
    "- 참이면 program이 계속 돌아가지만 거짓인 경우 program을 멈추고 exception을 던진다."
   ]
  },
  {
   "cell_type": "code",
   "execution_count": 82,
   "metadata": {
    "collapsed": false
   },
   "outputs": [
    {
     "name": "stdout",
     "output_type": "stream",
     "text": [
      "x > 1 is true.\n"
     ]
    },
    {
     "ename": "AssertionError",
     "evalue": "",
     "output_type": "error",
     "traceback": [
      "\u001b[0;31m---------------------------------------------------------------------------\u001b[0m",
      "\u001b[0;31mAssertionError\u001b[0m                            Traceback (most recent call last)",
      "\u001b[0;32m<ipython-input-82-e0bfffb87026>\u001b[0m in \u001b[0;36m<module>\u001b[0;34m()\u001b[0m\n\u001b[1;32m      4\u001b[0m \u001b[0;32mprint\u001b[0m \u001b[0;34m\"x > 1 is true.\"\u001b[0m\u001b[0;34m\u001b[0m\u001b[0m\n\u001b[1;32m      5\u001b[0m \u001b[0;31m# 거짓이므로 exception을 던진다.\u001b[0m\u001b[0;34m\u001b[0m\u001b[0;34m\u001b[0m\u001b[0m\n\u001b[0;32m----> 6\u001b[0;31m \u001b[0;32massert\u001b[0m\u001b[0;34m(\u001b[0m\u001b[0mx\u001b[0m \u001b[0;34m<\u001b[0m \u001b[0;36m1\u001b[0m\u001b[0;34m)\u001b[0m\u001b[0;34m\u001b[0m\u001b[0m\n\u001b[0m",
      "\u001b[0;31mAssertionError\u001b[0m: "
     ]
    }
   ],
   "source": [
    "x = 3\n",
    "# 참이므로 넘어간다.\n",
    "assert(x > 1)\n",
    "print \"x > 1 is true.\"\n",
    "# 거짓이므로 exception을 던진다.\n",
    "assert(x < 1)"
   ]
  },
  {
   "cell_type": "markdown",
   "metadata": {},
   "source": [
    "### For Loops\n",
    "- for-each form이 Python에서 제공해주는 유일한 for loop이다.\n",
    " - `for <item> in <collection> : <statements>`\n",
    "- `<collection>`이 list나 tuple이면, for loop은 sequence의 각 element를 `<item>`으로 사용한다."
   ]
  },
  {
   "cell_type": "code",
   "execution_count": 83,
   "metadata": {
    "collapsed": false
   },
   "outputs": [
    {
     "name": "stdout",
     "output_type": "stream",
     "text": [
      "1 is printed\n",
      "2 is printed\n",
      "3 is printed\n",
      "4 is printed\n"
     ]
    }
   ],
   "source": [
    "li = [1,2,3,4]\n",
    "for elem in li:\n",
    "    print elem, \"is printed\""
   ]
  },
  {
   "cell_type": "markdown",
   "metadata": {},
   "source": [
    "- `<collection>`이 string이면, for loop은 string의 각 character를 `<item>`으로 사용한다."
   ]
  },
  {
   "cell_type": "code",
   "execution_count": 84,
   "metadata": {
    "collapsed": false
   },
   "outputs": [
    {
     "name": "stdout",
     "output_type": "stream",
     "text": [
      "a is printed\n",
      "b is printed\n",
      "c is printed\n",
      "d is printed\n"
     ]
    }
   ],
   "source": [
    "str1 = \"abcd\"\n",
    "for char in str1:\n",
    "    print char, \"is printed\""
   ]
  },
  {
   "cell_type": "markdown",
   "metadata": {},
   "source": [
    "- `<item>` 자체가 single element가 아닌 collection(sequence) type이 될 수 있다."
   ]
  },
  {
   "cell_type": "code",
   "execution_count": 85,
   "metadata": {
    "collapsed": false
   },
   "outputs": [
    {
     "name": "stdout",
     "output_type": "stream",
     "text": [
      "left element : a , right element : 1\n",
      "left element : b , right element : 2\n",
      "left element : c , right element : 3\n",
      "left element : d , right element : 4\n"
     ]
    }
   ],
   "source": [
    "li = [('a',1), ('b',2), ('c',3), ('d',4)]\n",
    "for (x, y) in li:\n",
    "    print \"left element :\", x, \", right element :\", y"
   ]
  },
  {
   "cell_type": "markdown",
   "metadata": {},
   "source": [
    "### range() 함수\n",
    "- range(input) 함수는 0부터 input-1까지의 숫자 리스트를 반환한다.\n",
    "- range(5)는 [0,1,2,3,4]를 반환한다.\n",
    "- xrange() 함수는 iterator를 반환한다. range() 함수보다 더 효율적이다."
   ]
  },
  {
   "cell_type": "code",
   "execution_count": 86,
   "metadata": {
    "collapsed": false
   },
   "outputs": [
    {
     "name": "stdout",
     "output_type": "stream",
     "text": [
      "0\n",
      "1\n",
      "2\n",
      "3\n",
      "4\n"
     ]
    }
   ],
   "source": [
    "for elem in range(5):\n",
    "    print elem"
   ]
  },
  {
   "cell_type": "markdown",
   "metadata": {},
   "source": [
    "- **anti pattern**\n",
    " - list의 원소와, 그 원소의 index를 얻어내고자 다음과 같이 작성하는 경우가 있다."
   ]
  },
  {
   "cell_type": "code",
   "execution_count": 87,
   "metadata": {
    "collapsed": false
   },
   "outputs": [
    {
     "name": "stdout",
     "output_type": "stream",
     "text": [
      "0 a\n",
      "1 b\n",
      "2 c\n",
      "3 d\n"
     ]
    }
   ],
   "source": [
    "# 피해야 한다!\n",
    "li = ['a', 'b', 'c', 'd']\n",
    "for i in range(len(li)):\n",
    "    print i, li[i]"
   ]
  },
  {
   "cell_type": "code",
   "execution_count": 88,
   "metadata": {
    "collapsed": false
   },
   "outputs": [
    {
     "name": "stdout",
     "output_type": "stream",
     "text": [
      "0 a\n",
      "1 b\n",
      "2 c\n",
      "3 d\n"
     ]
    }
   ],
   "source": [
    "# 대신에 이렇게 작성해야 한다.\n",
    "for (i, item) in enumerate(li):\n",
    "    print i, item"
   ]
  }
 ],
 "metadata": {
  "anaconda-cloud": {},
  "kernelspec": {
   "display_name": "Python [conda root]",
   "language": "python",
   "name": "conda-root-py"
  },
  "language_info": {
   "codemirror_mode": {
    "name": "ipython",
    "version": 2
   },
   "file_extension": ".py",
   "mimetype": "text/x-python",
   "name": "python",
   "nbconvert_exporter": "python",
   "pygments_lexer": "ipython2",
   "version": "2.7.12"
  }
 },
 "nbformat": 4,
 "nbformat_minor": 2
}
