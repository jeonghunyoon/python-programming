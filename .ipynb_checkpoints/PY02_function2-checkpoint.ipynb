{
 "cells": [
  {
   "cell_type": "markdown",
   "metadata": {},
   "source": [
    "### List Comprehensions\n",
    "- A powerful feature of the Python language.\n",
    " - original list의 모든 member에 함수를 적용하여, 새로운 list를 generate.\n",
    " - list comprehensions은 실제코드에서 많이 보게 된다.\n",
    "- `[<expression> for <element> in <list>]`\n",
    " - `<expression>`은 `<element>`에 대한 계산/연산이다."
   ]
  },
  {
   "cell_type": "code",
   "execution_count": 1,
   "metadata": {
    "collapsed": false
   },
   "outputs": [
    {
     "data": {
      "text/plain": [
       "[6, 12, 4, 14]"
      ]
     },
     "execution_count": 1,
     "metadata": {},
     "output_type": "execute_result"
    }
   ],
   "source": [
    "li = [3, 6, 2, 7]\n",
    "[elem*2 for elem in li]"
   ]
  },
  {
   "cell_type": "markdown",
   "metadata": {},
   "source": [
    "- Tuple을 이용하여 list comprehensions를 사용할 수 있다."
   ]
  },
  {
   "cell_type": "code",
   "execution_count": 2,
   "metadata": {
    "collapsed": false
   },
   "outputs": [
    {
     "data": {
      "text/plain": [
       "[2, 4, 6, 8]"
      ]
     },
     "execution_count": 2,
     "metadata": {},
     "output_type": "execute_result"
    }
   ],
   "source": [
    "tu = (1,2,3,4)\n",
    "[elem*2 for elem in tu]"
   ]
  },
  {
   "cell_type": "code",
   "execution_count": 3,
   "metadata": {
    "collapsed": false
   },
   "outputs": [
    {
     "data": {
      "text/plain": [
       "(2, 4, 6, 8)"
      ]
     },
     "execution_count": 3,
     "metadata": {},
     "output_type": "execute_result"
    }
   ],
   "source": [
    "# list comprehension을 사용하여 tuple을 생성하고 싶을 때\n",
    "tuple([elem*2 for elem in tu])"
   ]
  },
  {
   "cell_type": "markdown",
   "metadata": {},
   "source": [
    "- `<element>`는 single element뿐만이 아닌, collection이 올 수 있다. 이 경우 list comprehensions 표현식에서 `<element>`는 `<list>`의 개별 원소와 shape이 동일해야 한다."
   ]
  },
  {
   "cell_type": "code",
   "execution_count": 4,
   "metadata": {
    "collapsed": false
   },
   "outputs": [
    {
     "name": "stdout",
     "output_type": "stream",
     "text": [
      "[3, 6, 21]\n",
      "['a', 'b', 'c']\n"
     ]
    }
   ],
   "source": [
    "li = [('a', 1), ('b', 2), ('c', 7)]\n",
    "# List Comprehensions표현식에서의 (x,n) shape은 li의 개별원소와 shape이 같아야 한다.\n",
    "print [n*3 for (x, n) in li]\n",
    "print [x for (x, n) in li]"
   ]
  },
  {
   "cell_type": "markdown",
   "metadata": {},
   "source": [
    "### Filtered List Comprehension\n",
    "- `[<expression> for <element> in <list> if <filter>]`\n",
    "- `<filter>`는 `<list>`의 각 `<element>`에 대하여 `<expression>`을 수행할지 말지를 결정한다.\n",
    " - 각 `<list>`의 각 `<element>`에 대하여, 먼저 `<filter>` 조건을 만족하는지 체크한다.\n",
    " - `<filter>` 조건이 False 값을 반환하면, 그 `<element>`는 `<list>`의 list comprehension에서 제외된다."
   ]
  },
  {
   "cell_type": "code",
   "execution_count": 5,
   "metadata": {
    "collapsed": false
   },
   "outputs": [
    {
     "data": {
      "text/plain": [
       "[12, 14, 18]"
      ]
     },
     "execution_count": 5,
     "metadata": {},
     "output_type": "execute_result"
    }
   ],
   "source": [
    "li = [3, 6, 2, 7, 1, 9]\n",
    "[elem*2 for elem in li if elem > 4] # filter 조건에 의하여 6, 7, 9 원소만 만족"
   ]
  },
  {
   "cell_type": "markdown",
   "metadata": {},
   "source": [
    "### Nested List Comprehensions\n",
    "- List comprehensions은 list를 input으로 취하고, output으로 list를 반환하기 때문에, nested 형태로 쉽게 만들 수 있다."
   ]
  },
  {
   "cell_type": "code",
   "execution_count": 6,
   "metadata": {
    "collapsed": false
   },
   "outputs": [
    {
     "data": {
      "text/plain": [
       "[8, 6, 10, 4]"
      ]
     },
     "execution_count": 6,
     "metadata": {},
     "output_type": "execute_result"
    }
   ],
   "source": [
    "li = [3, 2, 4, 1]\n",
    "# inner list comprehension : [4, 3, 5, 2]\n",
    "# outer list comprehension : [8, 6, 10, 4]\n",
    "[elem*2 for elem in [item+1 for item in li]]"
   ]
  },
  {
   "cell_type": "markdown",
   "metadata": {},
   "source": [
    "### Iterator in Python\n",
    "- An iterator is any object with a **`next`** method.\n",
    "- iterator는 built-in 함수 **`iter`**를 이용하여 생성할 수 있다."
   ]
  },
  {
   "cell_type": "code",
   "execution_count": 7,
   "metadata": {
    "collapsed": false
   },
   "outputs": [
    {
     "data": {
      "text/plain": [
       "<listiterator at 0x1045d93d0>"
      ]
     },
     "execution_count": 7,
     "metadata": {},
     "output_type": "execute_result"
    }
   ],
   "source": [
    "li = [1, 2]\n",
    "it = iter(li)\n",
    "it"
   ]
  },
  {
   "cell_type": "markdown",
   "metadata": {},
   "source": [
    "- iterator에서는 **`next()`** 메소드를 이용하여 원소에 접근한다."
   ]
  },
  {
   "cell_type": "code",
   "execution_count": 8,
   "metadata": {
    "collapsed": false
   },
   "outputs": [
    {
     "data": {
      "text/plain": [
       "1"
      ]
     },
     "execution_count": 8,
     "metadata": {},
     "output_type": "execute_result"
    }
   ],
   "source": [
    "it.next()"
   ]
  },
  {
   "cell_type": "code",
   "execution_count": 9,
   "metadata": {
    "collapsed": false
   },
   "outputs": [
    {
     "data": {
      "text/plain": [
       "2"
      ]
     },
     "execution_count": 9,
     "metadata": {},
     "output_type": "execute_result"
    }
   ],
   "source": [
    "it.next()"
   ]
  },
  {
   "cell_type": "markdown",
   "metadata": {},
   "source": [
    "### Generators\n",
    "- **`range()`** 함수는 list를 한 번에 생성한다. 만약에 전체가 아닌 list의 일부만 필요할 경우에 list 전체를 생성하여 사용하는 것은 엄청나게 비효율적이며 메모리에 문제가 발생할 수 있다.\n",
    "- 이런 경우, 필요할 때만 생성하는 것을 생각해 볼 수 있다. (lazy개념)\n",
    "- function과 **`yield`**를 사용하여 iterator를 정의\n",
    "- Generator(생성자)는 (주로 for문을 통해서) 반복할 수 있으며, generator의 각 항목은 필요한 순간에 그때그때 생성"
   ]
  },
  {
   "cell_type": "code",
   "execution_count": 10,
   "metadata": {
    "collapsed": false
   },
   "outputs": [
    {
     "name": "stdout",
     "output_type": "stream",
     "text": [
      "m\n",
      "a\n",
      "p\n",
      "s\n"
     ]
    }
   ],
   "source": [
    "# 예제 1\n",
    "def lazy_reverse(data):\n",
    "    for i in range(len(data)):\n",
    "        yield data[len(data)-1-i]\n",
    "\n",
    "for char in lazy_reverse(\"spam\"):\n",
    "    print char"
   ]
  },
  {
   "cell_type": "code",
   "execution_count": 11,
   "metadata": {
    "collapsed": false
   },
   "outputs": [
    {
     "data": {
      "text/plain": [
       "'m'"
      ]
     },
     "execution_count": 11,
     "metadata": {},
     "output_type": "execute_result"
    }
   ],
   "source": [
    "lazy_reverse(\"spam\").next()"
   ]
  },
  {
   "cell_type": "code",
   "execution_count": 12,
   "metadata": {
    "collapsed": false
   },
   "outputs": [
    {
     "name": "stdout",
     "output_type": "stream",
     "text": [
      "1\n",
      "2\n",
      "3\n",
      "4\n",
      "5\n",
      "6\n",
      "7\n",
      "8\n",
      "9\n",
      "10\n"
     ]
    }
   ],
   "source": [
    "# 예제 2 : 무한수열을 생성\n",
    "def natural_numbers():\n",
    "    \"\"\"1,2,3...을 반환\"\"\"\n",
    "    n = 1\n",
    "    while True:\n",
    "        yield n\n",
    "        n += 1\n",
    "\n",
    "for elem in natural_numbers():\n",
    "    if elem > 10:\n",
    "        break\n",
    "    print elem"
   ]
  },
  {
   "cell_type": "code",
   "execution_count": 13,
   "metadata": {
    "collapsed": false
   },
   "outputs": [
    {
     "name": "stdout",
     "output_type": "stream",
     "text": [
      "1\n",
      "2\n",
      "3\n",
      "4\n",
      "5\n",
      "Done\n"
     ]
    }
   ],
   "source": [
    "# 예제 3 : Simple Merge sort\n",
    "def merge(l, r):\n",
    "    llen, rlen, i, j = len(l), len(r), 0, 0\n",
    "    while i < llen or j < rlen:\n",
    "        if j == rlen or (i < llen and l[i] < r[j]):\n",
    "            yield l[i]\n",
    "            i += 1\n",
    "        else:\n",
    "            yield r[j]\n",
    "            j += 1\n",
    "\n",
    "g = merge([2, 4], [1, 3, 5])\n",
    "\n",
    "while True:\n",
    "    try:\n",
    "        print g.next()\n",
    "    except StopIteration:\n",
    "        print \"Done\"\n",
    "        break"
   ]
  },
  {
   "cell_type": "markdown",
   "metadata": {},
   "source": [
    "### List Generators"
   ]
  },
  {
   "cell_type": "code",
   "execution_count": 14,
   "metadata": {
    "collapsed": false
   },
   "outputs": [
    {
     "data": {
      "text/plain": [
       "<generator object <genexpr> at 0x1045e9460>"
      ]
     },
     "execution_count": 14,
     "metadata": {},
     "output_type": "execute_result"
    }
   ],
   "source": [
    "a = (x * x for x in xrange(5))\n",
    "a"
   ]
  },
  {
   "cell_type": "code",
   "execution_count": 15,
   "metadata": {
    "collapsed": false
   },
   "outputs": [
    {
     "name": "stdout",
     "output_type": "stream",
     "text": [
      "0\n",
      "1\n",
      "4\n",
      "9\n",
      "16\n"
     ]
    }
   ],
   "source": [
    "for elem in a:\n",
    "    print elem"
   ]
  },
  {
   "cell_type": "markdown",
   "metadata": {},
   "source": [
    "### items(), iteritems() of Dictionaries "
   ]
  },
  {
   "cell_type": "code",
   "execution_count": 16,
   "metadata": {
    "collapsed": false
   },
   "outputs": [
    {
     "data": {
      "text/plain": [
       "[('a', 1), ('c', 3), ('b', 2)]"
      ]
     },
     "execution_count": 16,
     "metadata": {},
     "output_type": "execute_result"
    }
   ],
   "source": [
    "dict_1 = {\"a\" : 1, \"b\" : 2, \"c\" : 3}\n",
    "\n",
    "# dictionary의 모든 원소를 List로 반환\n",
    "dict_1.items()"
   ]
  },
  {
   "cell_type": "code",
   "execution_count": 17,
   "metadata": {
    "collapsed": false
   },
   "outputs": [
    {
     "name": "stdout",
     "output_type": "stream",
     "text": [
      "Elem : ('a', 1)\n",
      "Elem : ('c', 3)\n",
      "Elem : ('b', 2)\n",
      "Elem : Finish\n"
     ]
    }
   ],
   "source": [
    "# Generator를 사용\n",
    "it = dict_1.iteritems()\n",
    "\n",
    "while True:\n",
    "    try:\n",
    "        print \"Elem :\", it.next()\n",
    "    except StopIteration:\n",
    "        print \"Finish\"\n",
    "        break"
   ]
  },
  {
   "cell_type": "markdown",
   "metadata": {},
   "source": [
    "### Import and Modules\n",
    "- 프로그래밍을 할 때, 다른 파일에서 정의된 클래스나 함수를 사용하는 경우가 많다.\n",
    "- Python module은 같은 이름을 가진 하나의 Python 파일이다. (.py 확장자)\n",
    " - 예를 들어, random 모듈은 random.py 파일이다.\n",
    "- Module은 많은 클래스와 함수를 그 안에 포함할 수 있다.\n",
    "- **`import`**를 이용하여 module에 접근한다.\n",
    "- Module file의 위치\n",
    " - **`sys.path`** : Python이 바라보는 file 및 directory의 리스트\n",
    " - Python이 시작될 때, 이 변수는 **PYTHONPATH** 환경변수값을 읽어와서 초기화된다.\n",
    " - 추가하고 싶을 때는 **`sys.path.append(...path...)`**"
   ]
  },
  {
   "cell_type": "markdown",
   "metadata": {},
   "source": [
    "### Import\n",
    "- **`import`** somefile\n",
    " - somefile.py안에 있는\n",
    "     - class에 접근 : `somefile.className.method(args)`\n",
    "     - method에 접근 : `somefile.myFunction(args)`\n",
    "- **`from somefile import *`**\n",
    " - somefile.py안에 있는\n",
    "     - class에 접근 : `className.method(args)`\n",
    "     - method에 접근 : `myFunction(args)`\n",
    "- **`from somefile import className`**\n",
    " - `className`에만 접근가능\n",
    " - somefile.py안에 있는\n",
    "     - `className`이름을 가진 class에 접근 : `className.method(args)`\n",
    "     - method에 접근 : 불가능"
   ]
  },
  {
   "cell_type": "markdown",
   "metadata": {},
   "source": [
    "### Counter Class\n",
    "- List의 항목들을 key로 하고, 항목들의 빈도수를 value로 하는 dictionaries를 반환한다."
   ]
  },
  {
   "cell_type": "code",
   "execution_count": 18,
   "metadata": {
    "collapsed": false
   },
   "outputs": [
    {
     "data": {
      "text/plain": [
       "Counter({0: 3, 1: 3, 2: 2, 3: 1, 5: 1})"
      ]
     },
     "execution_count": 18,
     "metadata": {},
     "output_type": "execute_result"
    }
   ],
   "source": [
    "from collections import Counter\n",
    "counts = Counter([0, 1, 2, 3, 2, 1, 1, 0, 0, 5])\n",
    "counts"
   ]
  },
  {
   "cell_type": "code",
   "execution_count": 19,
   "metadata": {
    "collapsed": false
   },
   "outputs": [
    {
     "name": "stdout",
     "output_type": "stream",
     "text": [
      "key : 0 value : 3\n",
      "key : 1 value : 3\n",
      "key : 2 value : 2\n",
      "key : 3 value : 1\n",
      "key : 5 value : 1\n"
     ]
    }
   ],
   "source": [
    "# Counter 객체에서 굉장히 유용하게 사용되는 메소드. 빈도수가 높은순서부터 내림차순으로 반환\n",
    "for key, value in counts.most_common(10):\n",
    "    print \"key :\", key, \"value :\", value"
   ]
  },
  {
   "cell_type": "markdown",
   "metadata": {
    "collapsed": true
   },
   "source": [
    "### 난수 생성\n",
    "- 데이터 분석을 진행할 때 난수를 생성해야 할 때가 자주 있다. 이때는 random 모듈을 사용한다."
   ]
  },
  {
   "cell_type": "code",
   "execution_count": 20,
   "metadata": {
    "collapsed": false
   },
   "outputs": [
    {
     "data": {
      "text/plain": [
       "[0.520043633245276, 0.8424175459874281, 0.3299250666642498, 0.7684266754292941]"
      ]
     },
     "execution_count": 20,
     "metadata": {},
     "output_type": "execute_result"
    }
   ],
   "source": [
    "import random\n",
    "\n",
    "# random 모듈에 있는 random() 메소드에 접근, 불필요한 값은 _로 표현\n",
    "four_uniform_randoms = [random.random() for _ in range(4)]\n",
    "four_uniform_randoms"
   ]
  },
  {
   "cell_type": "markdown",
   "metadata": {},
   "source": [
    "- 동일한 난수를 계속 사용하고 싶다면, **`random.seed()`**를 사용한다."
   ]
  },
  {
   "cell_type": "code",
   "execution_count": 21,
   "metadata": {
    "collapsed": false
   },
   "outputs": [
    {
     "name": "stdout",
     "output_type": "stream",
     "text": [
      "0.57140259469\n",
      "0.57140259469\n"
     ]
    }
   ],
   "source": [
    "random.seed(10)\n",
    "print random.random()\n",
    "random.seed(10)\n",
    "print random.random()"
   ]
  },
  {
   "cell_type": "markdown",
   "metadata": {},
   "source": [
    "- **`range()`**에 해당하는 구간 안에서 난수를 생성하기 위해서는 **`random.randrange()`**를 사용한다."
   ]
  },
  {
   "cell_type": "code",
   "execution_count": 22,
   "metadata": {
    "collapsed": false
   },
   "outputs": [
    {
     "data": {
      "text/plain": [
       "4"
      ]
     },
     "execution_count": 22,
     "metadata": {},
     "output_type": "execute_result"
    }
   ],
   "source": [
    "# range(10) = [0,1,2,...,9]에서 난수 생성\n",
    "random.randrange(10)"
   ]
  },
  {
   "cell_type": "code",
   "execution_count": 23,
   "metadata": {
    "collapsed": false
   },
   "outputs": [
    {
     "data": {
      "text/plain": [
       "4"
      ]
     },
     "execution_count": 23,
     "metadata": {},
     "output_type": "execute_result"
    }
   ],
   "source": [
    "# range(3,6) = [3,4,5]에서 난수 생성\n",
    "random.randrange(3,6)"
   ]
  },
  {
   "cell_type": "markdown",
   "metadata": {},
   "source": [
    "- list의 항목을 임의로 재정렬해주기 위해서는 **`random.shuffle()`**를 사용한다."
   ]
  },
  {
   "cell_type": "code",
   "execution_count": 24,
   "metadata": {
    "collapsed": false
   },
   "outputs": [
    {
     "data": {
      "text/plain": [
       "[8, 3, 5, 1, 9, 0, 4, 6, 7, 2]"
      ]
     },
     "execution_count": 24,
     "metadata": {},
     "output_type": "execute_result"
    }
   ],
   "source": [
    "up_to_ten = range(10)\n",
    "random.shuffle(up_to_ten)\n",
    "up_to_ten"
   ]
  },
  {
   "cell_type": "markdown",
   "metadata": {},
   "source": [
    "- list에서 임의의 항목을 하나 선택하기 위해서는 **`random.choice()`**를 사용한다."
   ]
  },
  {
   "cell_type": "code",
   "execution_count": 25,
   "metadata": {
    "collapsed": false
   },
   "outputs": [
    {
     "data": {
      "text/plain": [
       "'Charlie'"
      ]
     },
     "execution_count": 25,
     "metadata": {},
     "output_type": "execute_result"
    }
   ],
   "source": [
    "my_best_friend = random.choice([\"Alice\", \"Bob\", \"Charlie\"])\n",
    "my_best_friend"
   ]
  },
  {
   "cell_type": "markdown",
   "metadata": {},
   "source": [
    "- 중복이 허용되지 않는 임의의 표본 list를 만들때는 **`random.sample()`**를 사용한다."
   ]
  },
  {
   "cell_type": "code",
   "execution_count": 26,
   "metadata": {
    "collapsed": false
   },
   "outputs": [
    {
     "data": {
      "text/plain": [
       "[2, 50, 34, 21, 15, 37]"
      ]
     },
     "execution_count": 26,
     "metadata": {},
     "output_type": "execute_result"
    }
   ],
   "source": [
    "lottery_number = range(60)\n",
    "random.sample(lottery_number, 6)"
   ]
  },
  {
   "cell_type": "markdown",
   "metadata": {},
   "source": [
    "- 중복이 허용되는 임의의 표본 list를 만들때는 **`random.choice()`**를 여러번 사용한다."
   ]
  },
  {
   "cell_type": "code",
   "execution_count": 27,
   "metadata": {
    "collapsed": false
   },
   "outputs": [
    {
     "data": {
      "text/plain": [
       "[4, 6, 6, 1]"
      ]
     },
     "execution_count": 27,
     "metadata": {},
     "output_type": "execute_result"
    }
   ],
   "source": [
    "[random.choice(range(10)) for _ in range(4)]"
   ]
  },
  {
   "cell_type": "markdown",
   "metadata": {},
   "source": [
    "### Regular Expressions"
   ]
  },
  {
   "cell_type": "code",
   "execution_count": 28,
   "metadata": {
    "collapsed": false
   },
   "outputs": [
    {
     "data": {
      "text/plain": [
       "(1, 3)"
      ]
     },
     "execution_count": 28,
     "metadata": {},
     "output_type": "execute_result"
    }
   ],
   "source": [
    "import re\n",
    "\n",
    "se_1 = re.search(\"at\", \"cat\")   # at를 cat에서 찾을 수 있는가?\n",
    "se_1.span()"
   ]
  },
  {
   "cell_type": "code",
   "execution_count": 29,
   "metadata": {
    "collapsed": false
   },
   "outputs": [
    {
     "name": "stdout",
     "output_type": "stream",
     "text": [
      "None\n"
     ]
    }
   ],
   "source": [
    "ma_1 = re.match(\"ct\", \"cat\")    # a와 cat이 같은가?\n",
    "print ma_1"
   ]
  },
  {
   "cell_type": "code",
   "execution_count": 30,
   "metadata": {
    "collapsed": false
   },
   "outputs": [
    {
     "data": {
      "text/plain": [
       "True"
      ]
     },
     "execution_count": 30,
     "metadata": {},
     "output_type": "execute_result"
    }
   ],
   "source": [
    "# carbs는 a 또는 b에 의하여 [\"c\", \"r\", \"s\"]가 생성된다.\n",
    "3 == len(re.split(\"[ab]\", \"carbs\"))"
   ]
  },
  {
   "cell_type": "code",
   "execution_count": 31,
   "metadata": {
    "collapsed": false
   },
   "outputs": [
    {
     "data": {
      "text/plain": [
       "True"
      ]
     },
     "execution_count": 31,
     "metadata": {},
     "output_type": "execute_result"
    }
   ],
   "source": [
    "# R2D2에서 0~9까지의 숫자를 \"-\"로 대체한다.\n",
    "\"R-D-\" == re.sub(\"[0-9]\", \"-\", \"R2D2\")"
   ]
  }
 ],
 "metadata": {
  "anaconda-cloud": {},
  "kernelspec": {
   "display_name": "Python [conda root]",
   "language": "python",
   "name": "conda-root-py"
  },
  "language_info": {
   "codemirror_mode": {
    "name": "ipython",
    "version": 2
   },
   "file_extension": ".py",
   "mimetype": "text/x-python",
   "name": "python",
   "nbconvert_exporter": "python",
   "pygments_lexer": "ipython2",
   "version": "2.7.12"
  }
 },
 "nbformat": 4,
 "nbformat_minor": 1
}
