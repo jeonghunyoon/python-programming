{
 "cells": [
  {
   "cell_type": "markdown",
   "metadata": {},
   "source": [
    "## 상관관계 가설검정 문제 1"
   ]
  },
  {
   "attachments": {},
   "cell_type": "markdown",
   "metadata": {},
   "source": [
    "어느 대학교에서는 대학 수학능력시험의 수리탐구 1과 대학수학간의 관련성을 조사하기 위하여 10명의 학생을 랜덤으로 추출하여 아래와 같은 자료를 얻었다. 수리탐구 1의 점수와 미적분학 점수 사이에 상관관계가 존재하는지의 여부를 유의수준 $\\alpha=0.05$로 검정해 보도록 하자."
   ]
  },
  {
   "cell_type": "markdown",
   "metadata": {},
   "source": [
    "| 학생1           | 1  | 2  | 3  | 4  | 5  | 6  | 7  | 8  | 9  | 10 |\n",
    "|-----------------|----|----|----|----|----|----|----|----|----|----|\n",
    "| 수리탐구 1 점수 | 39 | 43 | 21 | 64 | 57 | 47 | 28 | 75 | 34 | 52 |\n",
    "| 미적분학 점수   | 65 | 78 | 52 | 82 | 92 | 89 | 73 | 98 | 56 | 75 |"
   ]
  },
  {
   "cell_type": "markdown",
   "metadata": {},
   "source": [
    "$H_0: \\rho=0 $\n",
    "- 수리탐구 1과 미적분학은 상관관계가 없다."
   ]
  },
  {
   "cell_type": "code",
   "execution_count": 1,
   "metadata": {},
   "outputs": [],
   "source": [
    "import numpy as np\n",
    "\n",
    "a = [39, 43, 21, 64, 57, 47, 28, 75, 34, 52]\n",
    "b = [65, 78, 52, 82, 92, 89, 73, 98, 56, 75]"
   ]
  },
  {
   "cell_type": "code",
   "execution_count": 2,
   "metadata": {},
   "outputs": [
    {
     "data": {
      "text/plain": [
       "<matplotlib.collections.PathCollection at 0x10e0396a0>"
      ]
     },
     "execution_count": 2,
     "metadata": {},
     "output_type": "execute_result"
    },
    {
     "data": {
      "image/png": "[encoded data removed]",
      "text/plain": [
       "<matplotlib.figure.Figure at 0x1077958d0>"
      ]
     },
     "metadata": {},
     "output_type": "display_data"
    }
   ],
   "source": [
    "import matplotlib\n",
    "import matplotlib.pyplot as plt\n",
    "%matplotlib inline\n",
    "\n",
    "matplotlib.style.use('ggplot')\n",
    "plt.scatter(a, b)"
   ]
  },
  {
   "cell_type": "code",
   "execution_count": 5,
   "metadata": {},
   "outputs": [
    {
     "data": {
      "text/plain": [
       "(0.8397858870396752, 0.002364531823695007)"
      ]
     },
     "execution_count": 5,
     "metadata": {},
     "output_type": "execute_result"
    }
   ],
   "source": [
    "# 피어슨 상관계수 구하기 1\n",
    "from scipy.stats import pearsonr\n",
    "pearsonr(a, b)"
   ]
  },
  {
   "cell_type": "markdown",
   "metadata": {},
   "source": [
    "- $\\text{P-value}=0.0023<\\alpha=0.05$ \n",
    "- $\\text{Correlation Coefficient} : 0.8397$\n",
    "\n",
    "귀무가설은 기각된다. 즉 '수리탐구 1과 미적분학간의 상관계수는 0.8397로 비교적 강한 양의 상관관계를 가지고 있다.'"
   ]
  },
  {
   "cell_type": "code",
   "execution_count": 6,
   "metadata": {},
   "outputs": [
    {
     "data": {
      "text/plain": [
       "array([[1.        , 0.83978589],\n",
       "       [0.83978589, 1.        ]])"
      ]
     },
     "execution_count": 6,
     "metadata": {},
     "output_type": "execute_result"
    }
   ],
   "source": [
    "# 상관계수 구하기 2\n",
    "np.corrcoef(a, b)"
   ]
  },
  {
   "cell_type": "code",
   "execution_count": 7,
   "metadata": {},
   "outputs": [
    {
     "data": {
      "text/plain": [
       "LinregressResult(slope=0.7655618431689571, intercept=40.78415521422797, rvalue=0.839785887039675, pvalue=0.002364531823695013, stderr=0.17498496716787154)"
      ]
     },
     "execution_count": 7,
     "metadata": {},
     "output_type": "execute_result"
    }
   ],
   "source": [
    "# 상관계수 구하기 3\n",
    "from scipy.stats import linregress\n",
    "linregress(a, b)"
   ]
  },
  {
   "cell_type": "markdown",
   "metadata": {},
   "source": [
    "## 스피어만 순위상관계수 가설검정 문제 2"
   ]
  },
  {
   "cell_type": "markdown",
   "metadata": {},
   "source": [
    "서울 국제 테니스대회에 참가한 8개국에 대하여 운영위원 및 스포츠 담당기자들이 전력을 평가한 결과는 아래표와 같다. 스피어만의 순위상관계수 $r_s$를 계산한 후, 운영위원 및 스포츠 담당기자들이 평가한 순위간에 상관관계가 있다고 할 수 있는지의 여부를 유의수준 $\\alpha=0.05$로 검정해 보도록 하자."
   ]
  },
  {
   "cell_type": "markdown",
   "metadata": {},
   "source": [
    "| 참가팀        | A | B | C | D | E | F | G | H |\n",
    "|---------------|---|---|---|---|---|---|---|---|\n",
    "| 운영위원 순위 | 1 | 2 | 3 | 4 | 5 | 6 | 7 | 8 |\n",
    "| 기자 순위     | 1 | 3 | 4 | 2 | 6 | 5 | 8 | 7 |"
   ]
  },
  {
   "cell_type": "code",
   "execution_count": 8,
   "metadata": {},
   "outputs": [],
   "source": [
    "rank_1 = [1, 2, 3, 4, 5, 6, 7, 8]\n",
    "rank_2 = [1, 3, 4, 2, 6, 5, 8, 7]"
   ]
  },
  {
   "cell_type": "code",
   "execution_count": 9,
   "metadata": {},
   "outputs": [
    {
     "data": {
      "text/plain": [
       "SpearmanrResult(correlation=0.880952380952381, pvalue=0.0038503204637324014)"
      ]
     },
     "execution_count": 9,
     "metadata": {},
     "output_type": "execute_result"
    }
   ],
   "source": [
    "# 스피어만 순위상관계수 1\n",
    "scipy.stats.spearmanr(rank_1, rank_2)"
   ]
  },
  {
   "cell_type": "markdown",
   "metadata": {},
   "source": [
    "- $\\text{P-value}=0.00385 < \\alpha = 0.05$\n",
    "- $\\text{Correlation Coefficient} : 0.8809$\n",
    "\n",
    "스피어만 순위상관계수는 0.8809로서 운영위원과 담당기자들의 각 팀에 대한 순위평가 사이에는 비교적 높은 양의 상관관계가 존재한다는 것을 나타내고 있다. P-value가 유의수준보다 작으므로 귀무가설은 기각되어 '운영위원과 담당기자들이 8개국 각 팀에 매긴 순위간에는 상관관계가 존재한다.'고 할 수 있다."
   ]
  }
 ],
 "metadata": {
  "kernelspec": {
   "display_name": "Python 3",
   "language": "python",
   "name": "python3"
  },
  "language_info": {
   "codemirror_mode": {
    "name": "ipython",
    "version": 3
   },
   "file_extension": ".py",
   "mimetype": "text/x-python",
   "name": "python",
   "nbconvert_exporter": "python",
   "pygments_lexer": "ipython3",
   "version": "3.6.4"
  }
 },
 "nbformat": 4,
 "nbformat_minor": 1
}
